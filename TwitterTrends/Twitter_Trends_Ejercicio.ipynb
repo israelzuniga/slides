{
 "cells": [
  {
   "cell_type": "markdown",
   "metadata": {
    "deletable": true,
    "editable": true
   },
   "source": [
    "# Trending Topics de Twitter con Spark Streaming\n",
    "\n",
    "\n",
    "\n",
    "- Este código no tiene la calidad requerida para sistemas en producción\n",
    "- El Broker de Twitter (*read.py*) usa la librería *socketstream* y queda a la escucha en un socket TCP (como servidor). El script a su vez está filtrando los tweets provenientes de la Streaming API de Twitter: https://dev.twitter.com/streaming/overview\n",
    "- A partir de este momento, el broker puede ser ejecutado."
   ]
  },
  {
   "cell_type": "markdown",
   "metadata": {
    "deletable": true,
    "editable": true
   },
   "source": [
    "-------------------------------------------------------------------------------------------------------------------"
   ]
  },
  {
   "cell_type": "markdown",
   "metadata": {
    "deletable": true,
    "editable": true
   },
   "source": [
    "### Dependencias y configuración de contextos\n",
    "\n",
    "Cargar las librerías para el contexto: de Spark, SQL y Streaming. Así como otras dependencias del ejercicio"
   ]
  },
  {
   "cell_type": "code",
   "execution_count": null,
   "metadata": {
    "collapsed": true,
    "deletable": true,
    "editable": true
   },
   "outputs": [],
   "source": [
    "from pyspark import SparkContext\n",
    "from pyspark.streaming import StreamingContext\n",
    "from pyspark.sql import SQLContext\n",
    "from pyspark.sql.functions import desc\n",
    "\n",
    "from collections import namedtuple\n",
    "# Namedtuple: https://pymotw.com/2/collections/namedtuple.html, http://stackoverflow.com/questions/2970608/what-are-named-tuples-in-python\n",
    "import time\n",
    "\n",
    "import matplotlib.pyplot as plt\n",
    "import seaborn as sn\n",
    "%matplotlib inline\n",
    "from IPython import display\n",
    "\n"
   ]
  },
  {
   "cell_type": "markdown",
   "metadata": {
    "deletable": true,
    "editable": true
   },
   "source": [
    "Crear el contexto de Streaming. Con la configuración: \"TwitterTrend\" como nombre del programa, 10 segundos como intervalo para batch y dos hilos de ejecución.\n",
    "\n",
    "De igual manera, crear la instancia del contexto de SQL en Spark."
   ]
  },
  {
   "cell_type": "code",
   "execution_count": null,
   "metadata": {
    "collapsed": false,
    "deletable": true,
    "editable": true
   },
   "outputs": [],
   "source": [
    "# Contexto de Spark\n",
    "sc = \n",
    "\n",
    "# Contexto de Spark Streaming\n",
    "ssc = \n",
    "\n",
    "# Contexto de SQL\n",
    "sqlContext = \n"
   ]
  },
  {
   "cell_type": "markdown",
   "metadata": {
    "deletable": true,
    "editable": true
   },
   "source": [
    "Una vez instanciados los contextos, nos conectamos a la fuente de datos:"
   ]
  },
  {
   "cell_type": "code",
   "execution_count": null,
   "metadata": {
    "collapsed": true,
    "deletable": true,
    "editable": true
   },
   "outputs": [],
   "source": [
    "'''\n",
    "Especificar fuente de datos: \n",
    "https://spark.apache.org/docs/latest/api/python/pyspark.streaming.html#pyspark.streaming.StreamingContext.socketTextStream\n",
    "\n",
    "Hostname: localhost\n",
    "Puerto: 5555\n",
    "'''\n",
    "\n",
    "\n",
    "socket_stream = "
   ]
  },
  {
   "cell_type": "markdown",
   "metadata": {
    "deletable": true,
    "editable": true
   },
   "source": [
    "### Soporte de Window Operations y tuplas para conteo de etiquetas\n",
    "\n",
    "Creamos una ventana de tiempo.\n",
    "\n",
    "El RDD obtenido del DStream se creará cada 10 segundos, pero los datos que estarán en el RDD serán por los últimos 20 segundos.\n",
    "\n",
    "[Spark Streaming: Window Operations](https://spark.apache.org/docs/latest/streaming-programming-guide.html#window-operations)\n",
    "\n",
    "\n",
    "![](https://spark.apache.org/docs/latest/img/streaming-dstream-window.png)"
   ]
  },
  {
   "cell_type": "code",
   "execution_count": null,
   "metadata": {
    "collapsed": true,
    "deletable": true,
    "editable": true
   },
   "outputs": [],
   "source": [
    "lines = socket_stream.window( 20 )"
   ]
  },
  {
   "cell_type": "markdown",
   "metadata": {
    "deletable": true,
    "editable": true
   },
   "source": [
    "Creamos un objeto namedtuple para almacenar las etiquetas y sus conteos."
   ]
  },
  {
   "cell_type": "code",
   "execution_count": null,
   "metadata": {
    "collapsed": true,
    "deletable": true,
    "editable": true
   },
   "outputs": [],
   "source": [
    "fields = (\"tag\", \"count\" )\n",
    "Tweet = namedtuple( 'Tweet', fields )"
   ]
  },
  {
   "cell_type": "markdown",
   "metadata": {
    "deletable": true,
    "editable": true
   },
   "source": [
    "### Procesar el flujo de datos\n",
    "\n",
    "1. Cada tweet/mensaje que se recibe, será cortado en palabras (*flatMap()*),\n",
    "2. Por cada registro generado, se filtrarán  las palabras que empiezan con el simbolo **#**,\n",
    "3. Después se convertirán esos registros a minúsculas, \n",
    "4. Se ejecuta una acción de mapeo a (palabra, 1)\n",
    "5. Luego, se reducen los pares (llave, valor) y cuentan las ocurrencias de cada Hashtag (palabra, n)\n",
    "6. El flujo se convierte en un Dataframe con las etiquetas resultantes y sus conteos.\n",
    "7. Entonces, se ordenan las etiquetas de forma descendente,\n",
    "8. Y se toman los primeros 10 registos,\n",
    "9. Finalmente, esos 10 registros se almacenan en una tabla temporal\n"
   ]
  },
  {
   "cell_type": "code",
   "execution_count": null,
   "metadata": {
    "collapsed": true,
    "deletable": true,
    "editable": true
   },
   "outputs": [],
   "source": [
    "\n",
    "( lines.flatMap( lambda text: text.split( \" \" ) )\n",
    "  .filter( lambda word: word.lower().startswith(\"#\") )\n",
    "  .map( lambda word: ( word.lower(), 1 ) )\n",
    "  .reduceByKey( lambda a, b: a + b )\n",
    "  .map( lambda rec: Tweet( rec[0], rec[1] ) )\n",
    "  .foreachRDD( lambda rdd: rdd.toDF().sort( desc(\"count\") )\n",
    "              .limit(10).registerTempTable(\"tweets\") ) )\n"
   ]
  },
  {
   "cell_type": "markdown",
   "metadata": {
    "collapsed": false,
    "deletable": true,
    "editable": true
   },
   "source": [
    "### Iniciar el proceso de Spark Streaming"
   ]
  },
  {
   "cell_type": "code",
   "execution_count": null,
   "metadata": {
    "collapsed": false,
    "deletable": true,
    "editable": true
   },
   "outputs": [],
   "source": [
    "\n",
    "# Lazy evaluation\n",
    "ssc.start() "
   ]
  },
  {
   "cell_type": "markdown",
   "metadata": {
    "deletable": true,
    "editable": true
   },
   "source": [
    "### Graficar las tendencias\n",
    "\n",
    "Podemos cambiar los valores de time.sleep() junto con la operación en ventana de tiempo para actualizaciones más cortas"
   ]
  },
  {
   "cell_type": "code",
   "execution_count": null,
   "metadata": {
    "collapsed": false,
    "deletable": true,
    "editable": true
   },
   "outputs": [],
   "source": [
    "\n",
    "for i in range(0,1000):\n",
    "  time.sleep( 20 )\n",
    "  top_10_tweets = sqlContext.sql( 'Select tag, count from tweets' )\n",
    "  top_10_df = top_10_tweets.toPandas()\n",
    "  display.clear_output(wait=True)\n",
    "  sn.plt.figure( figsize = ( 10, 8 ) )\n",
    "  sn.barplot( x=\"count\", y=\"tag\", data=top_10_df)\n",
    "  sn.plt.show()\n"
   ]
  },
  {
   "cell_type": "code",
   "execution_count": null,
   "metadata": {
    "collapsed": false,
    "deletable": true,
    "editable": true
   },
   "outputs": [],
   "source": [
    "ssc.stop()"
   ]
  }
 ],
 "metadata": {
  "kernelspec": {
   "display_name": "Python 3",
   "language": "python",
   "name": "python3"
  },
  "language_info": {
   "codemirror_mode": {
    "name": "ipython",
    "version": 3
   },
   "file_extension": ".py",
   "mimetype": "text/x-python",
   "name": "python",
   "nbconvert_exporter": "python",
   "pygments_lexer": "ipython3",
   "version": "3.5.2"
  }
 },
 "nbformat": 4,
 "nbformat_minor": 2
}
