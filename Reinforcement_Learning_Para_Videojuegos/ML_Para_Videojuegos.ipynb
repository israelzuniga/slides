{
 "cells": [
  {
   "cell_type": "markdown",
   "metadata": {
    "slideshow": {
     "slide_type": "slide"
    }
   },
   "source": [
    "# Día de las comunidades Monterrey | Machine Learning para Videojuegos\n",
    "\n",
    "##  ~~Israel Ortiz~~ Israel Zúñiga de la Mora | Monterrey Data Science & Engineering\n",
    "### Update: Mie. 27/Sep  @ El Cowork  ~ 7PM / Panel de Data Science para Ciencias Sociales\n",
    "## 23/Sep/2017 @ Coworking Monterrey"
   ]
  },
  {
   "cell_type": "markdown",
   "metadata": {
    "slideshow": {
     "slide_type": "subslide"
    }
   },
   "source": [
    "![RL](./images/rl_atari.png)"
   ]
  },
  {
   "cell_type": "markdown",
   "metadata": {
    "slideshow": {
     "slide_type": "subslide"
    }
   },
   "source": [
    "## Disclaimers:\n",
    "\n",
    "###     1. Mi computadora puede apagarse en cualquier momento al ejecutar los demos  👼😇😅\n",
    "###     2. Estudio esto en mis tiempos libres de forma autodidacta. Por curiosidad, y por que me apasiona 👾🐎\n",
    "###     3. Aunque relacionado, hoy hablaremos lo mínimo posible de Deep Learning/Redes Neuronales  🍕"
   ]
  },
  {
   "cell_type": "markdown",
   "metadata": {
    "collapsed": true,
    "slideshow": {
     "slide_type": "subslide"
    }
   },
   "source": [
    "## Background check (al menos 1 de 3):\n",
    "\n",
    "### - Asumimos familiaridad con:\n",
    "#### - Python\n",
    "#### - Machine Learning\n",
    "#### - Tensorflow/PyTorch/MXNet/CNTK/Theano, Keras\n",
    "### - Experiencia con modelos de entrenamiento supervisado \n",
    "### - Interés en ML para videojuegos y toma de decisiones; o self-driving cars, skynet, etc."
   ]
  },
  {
   "cell_type": "markdown",
   "metadata": {
    "slideshow": {
     "slide_type": "slide"
    }
   },
   "source": [
    "# Q-Learning / Funciones de valor\n",
    "# FrozenLake - https://gym.openai.com/envs/FrozenLake-v0/\n",
    "\n",
    ">The agent controls the movement of a character in a grid world. Some tiles of the grid are walkable, and others lead to the agent falling into the water. Additionally, the movement direction of the agent is uncertain and only partially depends on the chosen direction. The agent is rewarded for finding a walkable path to a goal tile.\n",
    "\n",
    "\n",
    "\n"
   ]
  },
  {
   "cell_type": "markdown",
   "metadata": {
    "slideshow": {
     "slide_type": "notes"
    }
   },
   "source": [
    "En su implementación más sencilla, Q-Learning se asemeja a una tabla de valores para cada estado (renglón) y acción (columna) posible en el ambiente. Dentro de elemento de la matriz/celda de la tabla, se aprende un valor equivalente a que tan buena fue una acción correspondiente a cierto estado. En el caso de frozenlake, tenemos 16 estados posibles (uno por cada bloque), y cuatro posibles acciones (cuatro direcciones de movimiento), lo que nos otorga una tabla de 16x4 Q-Values. Inicializamos la tabla de manera uniforme (toda la matriz en en 0), después observamos las recompensas que obtenemos para distintas acciones; y actualizamos de manera acorde.\n"
   ]
  },
  {
   "cell_type": "markdown",
   "metadata": {
    "slideshow": {
     "slide_type": "subslide"
    }
   },
   "source": [
    "`\n",
    "SFFF       (S: starting point, safe)\n",
    "FHFH       (F: frozen surface, safe)\n",
    "FFFH       (H: hole, fall to your doom)\n",
    "HFFG       (G: goal, where the frisbee is located)\n",
    "`"
   ]
  },
  {
   "cell_type": "markdown",
   "metadata": {
    "slideshow": {
     "slide_type": "slide"
    }
   },
   "source": [
    "\n",
    "# $$ Q(s,a) = r + \\gamma (max(Q(s’,a’))$$\n"
   ]
  },
  {
   "cell_type": "markdown",
   "metadata": {
    "slideshow": {
     "slide_type": "notes"
    }
   },
   "source": [
    "Actualizamos nuestra tabla Q (Q-table) usando la Ecuación de Optimalidad de Bellman, que define la recompensa a largo plazo para una acción dada es igual a la recompensa inmediata de la acción actual en combinación de la recompensa esperada para la mejor acción a futuro, dado el siguiente estado:"
   ]
  },
  {
   "cell_type": "markdown",
   "metadata": {
    "slideshow": {
     "slide_type": "subslide"
    }
   },
   "source": [
    "# Algoritmo de Q-Learning \n",
    "\n",
    "\n",
    "\n",
    "**Inicializar** Q arbitrariamente\n",
    "\n",
    "**Repetir**\n",
    "\n",
    "⎯**Observar** s\n",
    "\n",
    "⎯**Repetir** (n veces):\n",
    "\n",
    "⎯**Seleccionar a** para **s** mediante la política 𝞊-greedy\n",
    "\n",
    "⎯**Realizar** acción **a**\n",
    "\n",
    "⎯**Observar r, s'**\n",
    "\n",
    "⎯$Q(s, a) = Q(s, a) + \\alpha [r + \\gamma max Q(s', a') - Q(s, a)]$\n",
    "\n",
    "⎯s = s'\n",
    "\n",
    "⎯**Terminar** cuando s es terminal\n",
    "\n",
    "\n",
    "\n",
    "Donde $\\alpha\\in(0,1]$ es un valor que se denomina ritmo de aprendizaje, y $ 𝛂 \\in [0,1] $es el factor de descuento que indica cuán importante es la recompensa futura con respecto a la recompensa inmedianta $𝛄 =  0$; generalmente su valor es 1."
   ]
  },
  {
   "cell_type": "markdown",
   "metadata": {
    "slideshow": {
     "slide_type": "subslide"
    }
   },
   "source": [
    "### Q-Table Learning en Python y OpenAI\n",
    "#### Importamos como dependencias NumPy y Gym de OpenAI\n",
    "\n",
    "![RL](./images/openai.svg)\n",
    "\n",
    "```python\n",
    "import gym\n",
    "import numpy as np\n",
    "```\n",
    "#### Cargamos el ambiente de juego:\n",
    "```python\n",
    "# https://gym.openai.com/envs/FrozenLake-v0/\n",
    "env = gym.make('FrozenLake-v0')\n",
    "```\n",
    "\n"
   ]
  },
  {
   "cell_type": "markdown",
   "metadata": {
    "slideshow": {
     "slide_type": "subslide"
    }
   },
   "source": [
    "\n",
    "\n",
    "#### Todos los valores de la  matriz en 0\n",
    "```python\n",
    "# s, env.observation_space.n = 16  \n",
    "# a, env.action_space.n = 4\n",
    "# Q(s,a) = Q[s,a]\n",
    "Q = np.zeros([env.observation_space.n, env.action_space.n])\n",
    "\n",
    "```\n",
    "#### Establecemos los parámetros de aprendizaje en especifico a este escenario\n",
    "- Learning rate: Determina cuanto aprende el modelo en cada iteración\n",
    "- Gamma: AKA `decay` o factor de descuento; para calcular la compensación de la recompensa a futuro\n",
    "- Episodios: El número de juegos que queremos jugar para nuestro agent\n",
    "\n",
    "```python\n",
    "# Learning rate\n",
    "lr = .8\n",
    "# Gamma\n",
    "y = .95\n",
    "# Episodios: 2,000\n",
    "num_episodes = 2000\n",
    "```\n",
    "#### Creamos una lista vacia que contiene el total de recompensas y pasos por episodio\n",
    "```python\n",
    "rList = []\n",
    "```"
   ]
  },
  {
   "cell_type": "markdown",
   "metadata": {
    "slideshow": {
     "slide_type": "subslide"
    }
   },
   "source": [
    "```python\n",
    "for i in range(num_episodes):\n",
    "    # Reiniciamos el ambiente por cada número nuevo de iteración\n",
    "    s = env.reset()\n",
    "    rAll = 0\n",
    "    d = False\n",
    "    j = 0\n",
    "    #Q-Table learning algorithm\n",
    "    while j < 99:\n",
    "        j+=1\n",
    "        # Se elige una acción escogiendo al azar (con ruido) de la tabla-q\n",
    "        a = np.argmax(Q[s,:] + np.random.randn(1,env.action_space.n)*(1./(i+1)))\n",
    "        # Obtenemos un estado desde el ambiente  << Usando asignación multiple desde Python\n",
    "        s1,r,d,_ = env.step(a)\n",
    "        # Actualizamos la tabla-Q con nuevo conocimiento\n",
    "        Q[s,a] = Q[s,a] + lr*(r + y*np.max(Q[s1,:]) - Q[s,a])\n",
    "        rAll += r\n",
    "        s = s1\n",
    "        if d == True:\n",
    "            break\n",
    "    rList.append(rAll)\n",
    "```"
   ]
  },
  {
   "cell_type": "code",
   "execution_count": 2,
   "metadata": {
    "collapsed": true
   },
   "outputs": [],
   "source": [
    "import numpy\n",
    "\n",
    "numpy.argmax?"
   ]
  },
  {
   "cell_type": "markdown",
   "metadata": {
    "collapsed": false,
    "slideshow": {
     "slide_type": "slide"
    }
   },
   "source": [
    "# El Aprendizaje Automático tradicional es el reconocimiento de patrones en forma supervisada\n",
    "\n",
    "\n",
    "\n",
    "![Cat](./images/cat.jpg)"
   ]
  },
  {
   "cell_type": "markdown",
   "metadata": {
    "slideshow": {
     "slide_type": "subslide"
    }
   },
   "source": [
    "# ➡️ \"Gato\"    😱😱😱😱😱😱😱😱😱😱🔥😍🐱😹\n",
    "\n",
    "## [How HBO’s Silicon Valley built “Not Hotdog” with mobile TensorFlow, Keras & React Native](https://medium.com/@timanglade/how-hbos-silicon-valley-built-not-hotdog-with-mobile-tensorflow-keras-react-native-ef03260747f3)"
   ]
  },
  {
   "cell_type": "markdown",
   "metadata": {
    "collapsed": false,
    "slideshow": {
     "slide_type": "subslide"
    }
   },
   "source": [
    "# En RL, queremos agentes que actuen de forma propia, y no solo reconozcan patrones\n",
    "\n",
    "\n",
    "\n",
    "![](./images/2_cam.jpg)"
   ]
  },
  {
   "cell_type": "markdown",
   "metadata": {
    "collapsed": true,
    "slideshow": {
     "slide_type": "subslide"
    }
   },
   "source": [
    "![](./images/762522.gif)"
   ]
  },
  {
   "cell_type": "markdown",
   "metadata": {
    "slideshow": {
     "slide_type": "subslide"
    }
   },
   "source": [
    "![](./images/balancin.gif)"
   ]
  },
  {
   "cell_type": "markdown",
   "metadata": {
    "collapsed": false,
    "slideshow": {
     "slide_type": "slide"
    }
   },
   "source": [
    "# Markov Decision Processes (MDPs) / Procesos de decisión Markov para problemas de toma de decisiones secuenciales\n",
    "\n",
    "\n",
    "![](./images/agente_ambiente.svg)\n"
   ]
  },
  {
   "cell_type": "markdown",
   "metadata": {
    "collapsed": true,
    "slideshow": {
     "slide_type": "subslide"
    }
   },
   "source": [
    "* Agente ➡️ El algoritmo haciendo la actuación\n",
    "* Ambiente ➡️ Donde el agente interactua\n",
    "* Estados $s$ ➡️ El estado inmediato del ambiente\n",
    "* Acciones $a$ ➡️ Que puede hacer el agente dentro del ambiente\n",
    "* Transiciones $P(s'|s,a)$➡️ Como las acciones cambian el estado\n",
    "* Recompensas $R(r|s,a)$ ➡️ Cuán positiva/negativa es una acción sobre un estado\n",
    "* Politica $\\pi$➡️ Como el agente elige sus acciones"
   ]
  },
  {
   "cell_type": "markdown",
   "metadata": {
    "slideshow": {
     "slide_type": "slide"
    }
   },
   "source": [
    "# Reinforcement Learning\n",
    "\n",
    "![Progeny: https://xkcd.com/894/ ](https://imgs.xkcd.com/comics/progeny.png)"
   ]
  },
  {
   "cell_type": "markdown",
   "metadata": {
    "slideshow": {
     "slide_type": "subslide"
    }
   },
   "source": [
    "# ¿Como lograr el objetivo de *aprender una política mediante reforzadores*?\n",
    "\n",
    "## 1. Búsqueda en el espacio de políticas\n",
    "## 2. Asignación de crédito temporal\n",
    "## 3. Funciones de valor y Diferencias Temporales   (Q-Learning / Q-Learning Tables)"
   ]
  },
  {
   "cell_type": "markdown",
   "metadata": {
    "slideshow": {
     "slide_type": "subslide"
    }
   },
   "source": [
    "# RL en videojuegos:\n",
    "\n",
    "* Agente(s) ➡️ Tablero/Plataforma, jugador(es)\n",
    "* Ambiente ➡️ Conjunto de todas las posibles configuraciones del juego (escenarios, campañas)\n",
    "* Estados $s$ ➡️ Scores\n",
    "* Acciones $a$ ➡️ WASD\n",
    "* Transiciones $P(s'|s,a)$➡️ 🙈😆\n",
    "* Recompensas $R(r|s,a)$ ➡️ Ganar/perder el juego o el turno,  penalizaciones...\n",
    "* Politica $\\pi$➡️ Estrategía optima (para recursos, bloqueo a otros jugadores, tiempos de juego)"
   ]
  },
  {
   "cell_type": "markdown",
   "metadata": {
    "slideshow": {
     "slide_type": "subslide"
    }
   },
   "source": [
    "# Cuatro problemas con los que el RL debe lidiar:\n",
    "\n",
    "1. Balance entre Exploración/Explotación\n",
    "2. Recompensas con retraso (Temporal Difference Learning / Long short-term memory Neural Networtks [LSTM])\n",
    "3. Ambientes dinámicos\n",
    "4. Generalización"
   ]
  },
  {
   "cell_type": "markdown",
   "metadata": {
    "slideshow": {
     "slide_type": "subslide"
    }
   },
   "source": [
    "# Deep Reinforcement Learning / Deep Q-Learning  (DQN)\n",
    "\n",
    "\n",
    "![](./images/paper-dqn.png)"
   ]
  },
  {
   "cell_type": "markdown",
   "metadata": {
    "slideshow": {
     "slide_type": "subslide"
    }
   },
   "source": [
    "# OpenAI's Baseline\n",
    "\n",
    "Las mejores práctias del DQN en versión plug&play: Random vs DQN\n",
    "\n",
    "![](./images/image2-1.gif)"
   ]
  },
  {
   "cell_type": "markdown",
   "metadata": {
    "slideshow": {
     "slide_type": "subslide"
    }
   },
   "source": [
    "# AlphaGo\n",
    "\n",
    "![](./images/alphago.jpg)"
   ]
  },
  {
   "cell_type": "markdown",
   "metadata": {
    "slideshow": {
     "slide_type": "subslide"
    }
   },
   "source": [
    "# AlphaGo\n",
    "\n",
    "![](./images/aphago_slide.jpg)"
   ]
  },
  {
   "cell_type": "code",
   "execution_count": 13,
   "metadata": {
    "collapsed": false,
    "slideshow": {
     "slide_type": "subslide"
    }
   },
   "outputs": [
    {
     "data": {
      "image/jpeg": "[encoded data removed]",
      "text/html": [
       "\n",
       "        <iframe\n",
       "            width=\"400\"\n",
       "            height=\"300\"\n",
       "            src=\"https://www.youtube.com/embed/8tq1C8spV_g\"\n",
       "            frameborder=\"0\"\n",
       "            allowfullscreen\n",
       "        ></iframe>\n",
       "        "
      ],
      "text/plain": [
       "<IPython.lib.display.YouTubeVideo at 0x10fcb4278>"
      ]
     },
     "execution_count": 13,
     "metadata": {},
     "output_type": "execute_result"
    }
   ],
   "source": [
    "YouTubeVideo('8tq1C8spV_g')"
   ]
  },
  {
   "cell_type": "markdown",
   "metadata": {
    "slideshow": {
     "slide_type": "slide"
    }
   },
   "source": [
    "# ¿Qué necesita un agente de IA para usar videojuegos?\n",
    "\n",
    "Uso de acciones y planeación jerárquica:\n",
    "\n",
    "* Uso efectivo de la memoria (hardware)\n",
    "* Habilidad de planear sobre un tiempo prolongado\n",
    "* Capacidad de adaptar la estrategia después de obtener nueva información\n",
    "* Ejecución de acciones simples como “expande tu base a cierta ubicación“, coordinación de puntos usando el mouse u otros recursos de entrada disponibles\n"
   ]
  },
  {
   "cell_type": "markdown",
   "metadata": {
    "slideshow": {
     "slide_type": "subslide"
    }
   },
   "source": [
    "# ¿Qué Ambientes de RL para videjuegos tenemos disponibles?\n",
    "\n",
    "* Atari\n",
    "* OpenAI\n",
    "* Doom II\n",
    "* Grand Theft Auto  V\n",
    "* DOTA II (restringido a investigadores de OpenAI)\n",
    "* StarCraft II\n"
   ]
  },
  {
   "cell_type": "markdown",
   "metadata": {
    "slideshow": {
     "slide_type": "subslide"
    }
   },
   "source": [
    "# DeepMind's StarCraft AI Environment (Python3 + pysc2)\n",
    "\n",
    "## Instalación / Hello world\n",
    "\n",
    "\n",
    "### 1. Instalar StarCraft II  (http://us.battle.net/sc2/en/legacy-of-the-void/)\n",
    "### 2. Instalar pysc2 y los escenarios\n",
    "\n",
    "1. Instalar pysc2\n",
    "2. Clonar el repo https://github.com/chris-chris/pysc2-examples\n",
    "3. Descargar *replays*, y mapas de *mini-games* para  StarCraft II\n",
    "    * https://github.com/deepmind/pysc2/releases/download/v1.0/mini_games.zip\n",
    "    * just error in CollectMineralShards #53: https://github.com/deepmind/pysc2/issues/53#issuecomment-326829857\n",
    "    * http://blzdistsc2-a.akamaihd.net/ReplayPacks/3.16.1-Pack_1-fix.zip\n",
    "4. Instalar Tensorflow, y baseline de OpenAI\n",
    "5. Ejecutar el script de entrenamiento, o el modelo pre-entrenado (`enjoy_mineral_shards.py`)\n"
   ]
  },
  {
   "cell_type": "code",
   "execution_count": 1,
   "metadata": {
    "collapsed": false,
    "slideshow": {
     "slide_type": "subslide"
    }
   },
   "outputs": [
    {
     "name": "stdout",
     "output_type": "stream",
     "text": [
      "Requirement already satisfied: pysc2 in /Users/israel/anaconda3/lib/python3.6/site-packages\n",
      "Requirement already satisfied: enum34 in /Users/israel/anaconda3/lib/python3.6/site-packages (from pysc2)\n",
      "Requirement already satisfied: numpy>=1.10 in /Users/israel/anaconda3/lib/python3.6/site-packages (from pysc2)\n",
      "Requirement already satisfied: s2clientprotocol>=1.1 in /Users/israel/anaconda3/lib/python3.6/site-packages (from pysc2)\n",
      "Requirement already satisfied: pygame in /Users/israel/anaconda3/lib/python3.6/site-packages (from pysc2)\n",
      "Requirement already satisfied: websocket-client in /Users/israel/anaconda3/lib/python3.6/site-packages (from pysc2)\n",
      "Requirement already satisfied: mock in /Users/israel/anaconda3/lib/python3.6/site-packages (from pysc2)\n",
      "Requirement already satisfied: six in /Users/israel/anaconda3/lib/python3.6/site-packages (from pysc2)\n",
      "Requirement already satisfied: google-apputils in /Users/israel/anaconda3/lib/python3.6/site-packages (from pysc2)\n",
      "Requirement already satisfied: protobuf>=2.6 in /Users/israel/anaconda3/lib/python3.6/site-packages (from pysc2)\n",
      "Requirement already satisfied: futures in /Users/israel/anaconda3/lib/python3.6/site-packages (from pysc2)\n",
      "Requirement already satisfied: portpicker in /Users/israel/anaconda3/lib/python3.6/site-packages (from pysc2)\n",
      "Requirement already satisfied: python-gflags>=3.1.1 in /Users/israel/anaconda3/lib/python3.6/site-packages (from pysc2)\n",
      "Requirement already satisfied: future in /Users/israel/anaconda3/lib/python3.6/site-packages (from pysc2)\n",
      "Requirement already satisfied: pbr>=0.11 in /Users/israel/anaconda3/lib/python3.6/site-packages (from mock->pysc2)\n",
      "Requirement already satisfied: python-dateutil>=1.4 in /Users/israel/anaconda3/lib/python3.6/site-packages (from google-apputils->pysc2)\n",
      "Requirement already satisfied: pytz>=2010 in /Users/israel/anaconda3/lib/python3.6/site-packages (from google-apputils->pysc2)\n",
      "Requirement already satisfied: setuptools in /Users/israel/anaconda3/lib/python3.6/site-packages/setuptools-27.2.0-py3.6.egg (from protobuf>=2.6->pysc2)\n"
     ]
    }
   ],
   "source": [
    "! pip install pysc2"
   ]
  },
  {
   "cell_type": "code",
   "execution_count": 2,
   "metadata": {
    "collapsed": false,
    "slideshow": {
     "slide_type": "subslide"
    }
   },
   "outputs": [
    {
     "name": "stdout",
     "output_type": "stream",
     "text": [
      "Collecting baselines\n",
      "  Using cached baselines-0.1.4-py3-none-any.whl\n",
      "Requirement already satisfied: dill in /Users/israel/anaconda3/lib/python3.6/site-packages (from baselines)\n",
      "Collecting zmq (from baselines)\n",
      "  Using cached zmq-0.0.0.tar.gz\n",
      "Collecting progressbar2 (from baselines)\n",
      "  Downloading progressbar2-3.34.3-py2.py3-none-any.whl\n",
      "Collecting tqdm (from baselines)\n",
      "  Downloading tqdm-4.17.1-py2.py3-none-any.whl (47kB)\n",
      "\u001b[K    100% |████████████████████████████████| 51kB 1.5MB/s ta 0:00:011\n",
      "\u001b[?25hCollecting azure==1.0.3 (from baselines)\n",
      "Collecting joblib (from baselines)\n",
      "  Using cached joblib-0.11-py2.py3-none-any.whl\n",
      "Requirement already satisfied: gym>=0.9.1[all] in /Users/israel/anaconda3/lib/python3.6/site-packages (from baselines)\n",
      "Requirement already satisfied: scipy in /Users/israel/anaconda3/lib/python3.6/site-packages (from baselines)\n",
      "Collecting tensorflow>=1.0.0 (from baselines)\n",
      "\u001b[31m  Could not find a version that satisfies the requirement tensorflow>=1.0.0 (from baselines) (from versions: )\u001b[0m\n",
      "\u001b[31mNo matching distribution found for tensorflow>=1.0.0 (from baselines)\u001b[0m\n"
     ]
    }
   ],
   "source": [
    "! pip install baselines"
   ]
  },
  {
   "cell_type": "code",
   "execution_count": 3,
   "metadata": {
    "collapsed": false,
    "slideshow": {
     "slide_type": "subslide"
    }
   },
   "outputs": [
    {
     "name": "stdout",
     "output_type": "stream",
     "text": [
      "Fetching package metadata ...........\n",
      "Solving package specifications: .\n",
      "\n",
      "# All requested packages already installed.\n",
      "# packages in environment at /Users/israel/anaconda3/envs/ai_rl:\n",
      "#\n",
      "tensorflow                1.1.0               np112py35_0  \n"
     ]
    }
   ],
   "source": [
    "! conda install tensorflow"
   ]
  },
  {
   "cell_type": "markdown",
   "metadata": {
    "slideshow": {
     "slide_type": "slide"
    }
   },
   "source": [
    "# Fin / Gracias! 😘"
   ]
  }
 ],
 "metadata": {
  "celltoolbar": "Slideshow",
  "kernelspec": {
   "display_name": "Python 3",
   "language": "python",
   "name": "python3"
  },
  "language_info": {
   "codemirror_mode": {
    "name": "ipython",
    "version": 3
   },
   "file_extension": ".py",
   "mimetype": "text/x-python",
   "name": "python",
   "nbconvert_exporter": "python",
   "pygments_lexer": "ipython3",
   "version": "3.6.0"
  }
 },
 "nbformat": 4,
 "nbformat_minor": 2
}
