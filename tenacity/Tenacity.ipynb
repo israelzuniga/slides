{
 "cells": [
  {
   "cell_type": "markdown",
   "metadata": {
    "slideshow": {
     "slide_type": "slide"
    }
   },
   "source": [
    "# Tenacity - Israel Zúñiga de la Mora\n",
    "\n",
    "## Python Monterrey: Primera reunión 2019 \n",
    "### 22/Febrero/2019 07:00 P.M. @ WeWork (Blvd. Antonio L. Rodriguez 1888)\n",
    "\n",
    "![Pymty](py-mty-logo.png)"
   ]
  },
  {
   "cell_type": "markdown",
   "metadata": {
    "slideshow": {
     "slide_type": "subslide"
    }
   },
   "source": [
    "# `whois(me)`\n",
    "\n",
    "Personal:\n",
    "\n",
    "* 89\n",
    "* Colima, Col. 🇲🇽\n",
    "\n",
    "Uni|Grado|Años\n",
    "------|---------|----\n",
    "Universidad de Colima|Ing. en Telemática|2008-2012\n",
    "Universidad Abierta y a Distancia de México (UnADM)|Lic. en Matemáticas|2018-∞\n",
    "Collective Academy|Master of Business & Technology|2019-2020\n",
    "Universidad de la Calle|Perreología|?\n",
    "----\n",
    "\n",
    "Profesional:\n",
    "* UDC\n",
    "* TecLID A.C. ✝\n",
    "* Intel Corp.\n",
    "* ZapopanLab\n",
    "* Invictus.mx\n",
    "* Alturin ✝\n",
    "* Banregio\n",
    "* Evolve Fintech / Ictineo PTF\n",
    "----\n",
    "* https://github.com/israelzuniga  >>> https://github.com/israelzuniga/slides  (para encontrar esta presentación)  \n",
    "* https://www.linkedin.com/in/israelzuniga/\n",
    "* https://twitter.com/0xD1"
   ]
  },
  {
   "cell_type": "markdown",
   "metadata": {
    "slideshow": {
     "slide_type": "subslide"
    }
   },
   "source": [
    "# Colabora y participa con la comunidad!\n",
    "\n",
    "## Framewoks, bibliotecas de código, módulos, patrones, challenges, pypy, cpython, threading, Uc, etc\n",
    "\n",
    "## https://www.facebook.com/groups/pymty/  | https://www.meetup.com/pythonmty/"
   ]
  },
  {
   "cell_type": "markdown",
   "metadata": {
    "slideshow": {
     "slide_type": "slide"
    }
   },
   "source": [
    "# Designing for Failure\n",
    "\n",
    "> Exception handling is one of the most brushed aside aspects of computer programming. Errors are complicated to handle, and often they are unlikely, so developers always forget to handle failures... sometimes they even forgot on purpose.\n",
    "\n",
    "> However, in a world where applications are distributed over the network, across miles of fiber optic cable and on different computers, failure is not an exception. It must be considered as the norm for your software. Failure scenarios must be first-citizens of the various testing scenarios being developed.\n",
    "\n",
    "> In an environment distributed over a network, anything that can fail **will** fail.\n",
    "\n",
    "> Python does not offer any help in that regard, and almost no programming language offers advanced error recovery or retryng capability -- except mabe languages implementing [condition systems](https://en.wikipedia.org/wiki/Exception_handling#Condition_systems) such as Common Lisp.\n",
    "\n",
    "-- Julien Danjou - The Hacker's Guide to Scaling Python (2017)"
   ]
  },
  {
   "cell_type": "markdown",
   "metadata": {
    "slideshow": {
     "slide_type": "slide"
    }
   },
   "source": [
    "# Retry pattern / Retrying pattern\n",
    "\n",
    "\n",
    "Habilita una aplicación para conducir fallas transitorias cuando intenta conectarse a un servicio o recurso de red, volviendo a intentar de forma transparente la operación fallida. Pudiendo mejorar la estabilidad de la aplicación.\n",
    "\n",
    "\n",
    "\n",
    "\n",
    "\n",
    "[MS Azure Architecture/Cloud Design Patterns/Retry pattern](https://docs.microsoft.com/en-us/azure/architecture/patterns/retry)\n",
    "\n"
   ]
  },
  {
   "cell_type": "markdown",
   "metadata": {
    "slideshow": {
     "slide_type": "subslide"
    }
   },
   "source": [
    "## Contexto y Problema\n",
    "Una aplicación que se comunica con elementos corriendo en la nube, debe ser sensitiva a fallas transitorias que pueden ocurrir en este entorno. Las fallas incluyen la pérdida momentánea de conectividad de la red a los componentes y servicios, la indisponibilidad temporal de un servicio o los tiempos de espera que se producen cuando un servicio está ocupado.\n",
    "\n",
    "Estas fallas suelen ser autocorregibles, y si la acción que desencadenó una falla se repite después de un retraso adecuado, es probable que tenga éxito. \n",
    "\n",
    "## Soluciones\n",
    "* Cancelar\n",
    "* Volver a procesar (retry)\n",
    "* Volver a procesar después de un retraso (retry after delay)\n",
    "\n",
    "[MS Azure Architecture/Cloud Design Patterns/Retry pattern](https://docs.microsoft.com/en-us/azure/architecture/patterns/retry)"
   ]
  },
  {
   "cell_type": "markdown",
   "metadata": {
    "slideshow": {
     "slide_type": "subslide"
    }
   },
   "source": [
    "![](https://docs.microsoft.com/en-us/azure/architecture/patterns/_images/retry-pattern.png)\n",
    "\n",
    "\n",
    "\n",
    "[MS Azure Architecture/Cloud Design Patterns/Retry pattern](https://docs.microsoft.com/en-us/azure/architecture/patterns/retry)"
   ]
  },
  {
   "cell_type": "markdown",
   "metadata": {
    "slideshow": {
     "slide_type": "subslide"
    }
   },
   "source": [
    "# Problemas y consideraciones\n",
    "\n",
    "* Ajustar la política de reintentos según los requisitios de la aplicación. Para algunas operaciones no críticas, es mejor fallar rápido en lugar de volver a intentarlo varias veces e impactar el rendimiento de la aplicación.\n",
    "\n",
    "* Una política agresiva de reintento con un retraso mínimo entre intentos y un gran número de reintentos podría degradar aún más un servicio ocupado que se está ejecutando cerca o en su capacidad. \n",
    "Debe considerar los siguientes puntos al decidir cómo implementar este patrón.\n",
    "\n",
    "* Si la lógica de negocio lo permite, optar por  reportar o guardar la excepción y pasar a un recurso más degradado. Esto para mejorar la estabilidad y resilencia de la aplicación. Según el patrón [Circuit Breaker](https://docs.microsoft.com/en-us/azure/architecture/patterns/circuit-breaker)\n",
    "\n",
    "\n",
    "[MS Azure Architecture/Cloud Design Patterns/Retry pattern](https://docs.microsoft.com/en-us/azure/architecture/patterns/retry)"
   ]
  },
  {
   "cell_type": "markdown",
   "metadata": {
    "slideshow": {
     "slide_type": "subslide"
    }
   },
   "source": [
    "# Cuando NO usar este patrón\n",
    "\n",
    "* Cuando es probable que una falla sea duradera: La aplicación podría estar desperdiciando tiempo y recursos tratando de repetir una solicitud que es probable que falle.\n",
    "   \n",
    "* Para el manejo de fallas que no se deben a fallas transitorias, como las excepciones internas causadas por errores en la lógica de negocios de una aplicación.\n",
    " \n",
    "* Como alternativa a la solución de problemas de escalabilidad en un sistema. Si una aplicación experimenta fallos frecuentes y ocupados, a menudo es una señal de que el servicio o recurso al que se accede debe ampliarse.\n",
    "\n",
    "\n",
    "\n",
    "[MS Azure Architecture/Cloud Design Patterns/Retry pattern](https://docs.microsoft.com/en-us/azure/architecture/patterns/retry)"
   ]
  },
  {
   "cell_type": "markdown",
   "metadata": {
    "slideshow": {
     "slide_type": "subslide"
    }
   },
   "source": [
    "# Cuando  SI usar este patrón\n",
    "\n",
    "* Cuando una aplicación podría experimentar fallas transitorias cuando interactúa con un servicio remoto o accede a un recurso remoto.\n",
    "\n",
    "* Cuando los fallos sean de corta duración, y la repetición de una solicitud que previamente haya fallado podría tener éxito en un intento posterior.\n",
    "\n",
    "[MS Azure Architecture/Cloud Design Patterns/Retry pattern](https://docs.microsoft.com/en-us/azure/architecture/patterns/retry)"
   ]
  },
  {
   "cell_type": "markdown",
   "metadata": {
    "slideshow": {
     "slide_type": "subslide"
    }
   },
   "source": [
    "# ¿Por que te debería importar?\n",
    "\n",
    "Añadir un manejo inteligente de excepciones permite a tu aplicación/codigo falle correctamente.\n",
    "\n",
    "# Casos de uso\n",
    "* Web scraping\n",
    "* Conexiones a servidores remotos (p. ej. ssh+paramiko, DBs, confirmaciones de transferencia de información)\n",
    "* Carga/Descarga de archivos\n",
    "* Código que pueda fallarCode that can fail\n"
   ]
  },
  {
   "cell_type": "code",
   "execution_count": 88,
   "metadata": {
    "slideshow": {
     "slide_type": "skip"
    }
   },
   "outputs": [],
   "source": [
    "import time\n",
    "import random\n",
    "from datetime import datetime\n",
    "\n",
    "def do_something():\n",
    "    cur_time = datetime.now().strftime('%H:%M:%S:%f')\n",
    "    if random.randint(0,1) == 0:\n",
    "        print('{0}: Failure'.format(cur_time))\n",
    "        raise RuntimeError\n",
    "    print('{0}: Success'.format(cur_time))"
   ]
  },
  {
   "cell_type": "markdown",
   "metadata": {
    "slideshow": {
     "slide_type": "slide"
    }
   },
   "source": [
    "# Naive Retrying"
   ]
  },
  {
   "cell_type": "markdown",
   "metadata": {
    "slideshow": {
     "slide_type": "subslide"
    }
   },
   "source": [
    "## Retrying pattern\n"
   ]
  },
  {
   "cell_type": "code",
   "execution_count": 55,
   "metadata": {
    "slideshow": {
     "slide_type": "fragment"
    }
   },
   "outputs": [
    {
     "name": "stdout",
     "output_type": "stream",
     "text": [
      "22:37:42:028459: Failure\n",
      "22:37:42:032881: Failure\n",
      "22:37:42:032997: Failure\n",
      "22:37:42:033089: Success\n"
     ]
    }
   ],
   "source": [
    "while True:\n",
    "    try:\n",
    "        do_something()\n",
    "    except:\n",
    "        pass\n",
    "    else:\n",
    "        break"
   ]
  },
  {
   "cell_type": "markdown",
   "metadata": {
    "slideshow": {
     "slide_type": "subslide"
    }
   },
   "source": [
    "## Retrying pattern w/sleep\n",
    "Espera un número fijo de segundos antes de volver a procesar.\n"
   ]
  },
  {
   "cell_type": "code",
   "execution_count": 57,
   "metadata": {
    "slideshow": {
     "slide_type": "fragment"
    }
   },
   "outputs": [
    {
     "name": "stdout",
     "output_type": "stream",
     "text": [
      "22:37:47:271282: Failure\n",
      "22:37:52:272306: Success\n"
     ]
    }
   ],
   "source": [
    " while True:\n",
    "    try:\n",
    "        do_something()\n",
    "    except:\n",
    "        # Nos dormimos mamalon por 5 seg antes de retry\n",
    "        time.sleep(5)\n",
    "    else:\n",
    "        break\n",
    "        "
   ]
  },
  {
   "cell_type": "markdown",
   "metadata": {
    "slideshow": {
     "slide_type": "subslide"
    }
   },
   "source": [
    "## Retrying pattern w/exponential backoff\n",
    "Espera con base en un retroceso exponencial (1 seg  -> 2 -> 4 -> 8 -> 16 -> etc)"
   ]
  },
  {
   "cell_type": "code",
   "execution_count": 60,
   "metadata": {
    "slideshow": {
     "slide_type": "fragment"
    }
   },
   "outputs": [
    {
     "name": "stdout",
     "output_type": "stream",
     "text": [
      "22:38:26:508438: Failure\n",
      "22:38:27:511175: Failure\n",
      "22:38:29:515638: Failure\n",
      "22:38:33:519442: Failure\n",
      "22:38:41:522556: Success\n"
     ]
    }
   ],
   "source": [
    "attempt = 0\n",
    "while True:\n",
    "    try:\n",
    "        do_something()\n",
    "    except:\n",
    "        # Dormimos 2^attemp seg antes de reintentar\n",
    "        time.sleep(2 ** attempt)\n",
    "        attempt += 1\n",
    "    else:\n",
    "        break"
   ]
  },
  {
   "cell_type": "markdown",
   "metadata": {
    "slideshow": {
     "slide_type": "slide"
    }
   },
   "source": [
    "# Meet: Tenacity\n",
    "Tenacity es una biblioteca para Python 2 y 3, diseñada para reintentar la ejecución de una tarea o proceso cuando ocurre una `Exception`. Es un fork de [retry](https://github.com/rholder/retrying). El mantenedor es [Julien Danjou](https://julien.danjou.info/).\n",
    "\n",
    "Repo: https://github.com/jd/tenacity"
   ]
  },
  {
   "cell_type": "markdown",
   "metadata": {
    "slideshow": {
     "slide_type": "subslide"
    }
   },
   "source": [
    "# Features\n",
    "* [Funcionalidad de `Decorator`](https://www.thecodeship.com/patterns/guide-to-python-function-decorators/)\n",
    "* Especificación de condiciones:\n",
    "    * tiempo en espera/wait (fijo, exponencial, aleatorio)\n",
    "    * cancelación (límite por tiempo, o número de intentos)\n",
    "* Configurable por excepción\n",
    "* Retry para co-rutinas [(`asyncio`)](https://docs.python.org/3/library/asyncio-task.html)"
   ]
  },
  {
   "cell_type": "markdown",
   "metadata": {
    "slideshow": {
     "slide_type": "subslide"
    }
   },
   "source": [
    "# Instalación y uso\n",
    "\n",
    "Para instalar desde la consola:\n",
    "\n",
    "```bash\n",
    "pip install tenacity\n",
    "```\n",
    "\n",
    "Para usar:"
   ]
  },
  {
   "cell_type": "code",
   "execution_count": 65,
   "metadata": {
    "collapsed": true,
    "slideshow": {
     "slide_type": "fragment"
    }
   },
   "outputs": [],
   "source": [
    "import tenacity"
   ]
  },
  {
   "cell_type": "markdown",
   "metadata": {
    "slideshow": {
     "slide_type": "slide"
    }
   },
   "source": [
    "# Wait Conditions"
   ]
  },
  {
   "cell_type": "markdown",
   "metadata": {
    "slideshow": {
     "slide_type": "subslide"
    }
   },
   "source": [
    "# Retrying  w/ fixed sleep\n",
    "Espera un número fijo de segundos antes de volver a procesar.\n"
   ]
  },
  {
   "cell_type": "code",
   "execution_count": 92,
   "metadata": {
    "slideshow": {
     "slide_type": "fragment"
    }
   },
   "outputs": [
    {
     "name": "stdout",
     "output_type": "stream",
     "text": [
      "16:25:50:658249: 6 no es igual a 20\n",
      "16:25:51:660911: 2 no es igual a 20\n",
      "16:25:52:664249: 11 no es igual a 20\n",
      "16:25:53:669708: 15 no es igual a 20\n",
      "16:25:54:672792: 4 no es igual a 20\n",
      "16:25:55:673536: 8 no es igual a 20\n",
      "16:25:56:674168: 5 no es igual a 20\n",
      "16:25:57:679594: 18 no es igual a 20\n",
      "16:25:58:682999: 19 no es igual a 20\n",
      "16:25:59:688120: 1 no es igual a 20\n",
      "16:26:00:693673: 2 no es igual a 20\n",
      "16:26:01:696516: 11 no es igual a 20\n",
      "16:26:02:698842: 6 no es igual a 20\n",
      "16:26:03:703908: 19 no es igual a 20\n",
      "16:26:04:706002: 16 no es igual a 20\n",
      "16:26:05:708800: 14 no es igual a 20\n",
      "16:26:06:712063: 18 no es igual a 20\n",
      "16:26:07:713329: 3 no es igual a 20\n",
      "16:26:08:717932: 2 no es igual a 20\n",
      "16:26:09:718989: 18 no es igual a 20\n",
      "16:26:10:722880: 10 no es igual a 20\n",
      "16:26:11:727333: 17 no es igual a 20\n",
      "16:26:12:728488: 15 no es igual a 20\n",
      "16:26:13:730023: 6 no es igual a 20\n",
      "16:26:14:734189: 17 no es igual a 20\n",
      "16:26:15:734880: 9 no es igual a 20\n",
      "16:26:16:739927: 1 no es igual a 20\n",
      "16:26:17:741796: 17 no es igual a 20\n",
      "16:26:18:746637: 19 no es igual a 20\n",
      "16:26:19:749994: 20 Fue seleccionado !!!!11!!\n"
     ]
    }
   ],
   "source": [
    "\n",
    "\n",
    "@tenacity.retry(wait=tenacity.wait_fixed(1))\n",
    "def el_veinte():\n",
    "    '''\n",
    "    funct: el_veinte\n",
    "    Input: ()\n",
    "    Output: Exception si randint != 1, True si randint == 1.\n",
    "    Description:\n",
    "    Simula un dado de 20 caras.\n",
    "    Un dado de 20 caras, representa un icosaedro. \n",
    "    Si las veinte caras del icosaedro son triángulos equiláteros y congruentes, \n",
    "    iguales entre sí, el icosaedro es convexo y se denomina regular, \n",
    "    siendo entonces uno de los llamados sólidos platónicos.\n",
    "    '''\n",
    "    random_num = random.randint(1,20)\n",
    "    cur_time = datetime.now().strftime('%H:%M:%S:%f')\n",
    "    if random_num != 20:\n",
    "        print('{0}: {1} no es igual a 20'.format(cur_time, random_num))\n",
    "        raise Exception()\n",
    "    print('{0}: 20 Fue seleccionado !!!!11!!'.format(cur_time))\n",
    "    \n",
    "\n",
    "el_veinte()\n",
    "\n"
   ]
  },
  {
   "cell_type": "markdown",
   "metadata": {
    "slideshow": {
     "slide_type": "subslide"
    }
   },
   "source": [
    "# Retry w/random backoff\n",
    "Espera con base en un número aleatorio de segundos"
   ]
  },
  {
   "cell_type": "code",
   "execution_count": null,
   "metadata": {
    "slideshow": {
     "slide_type": "fragment"
    }
   },
   "outputs": [
    {
     "name": "stdout",
     "output_type": "stream",
     "text": [
      "16:26:52:594659: 3 no es igual a 20\n",
      "16:27:00:294516: 16 no es igual a 20\n",
      "16:27:07:383964: 2 no es igual a 20\n",
      "16:27:16:451135: 6 no es igual a 20\n",
      "16:27:24:781455: 6 no es igual a 20\n",
      "16:27:32:402761: 2 no es igual a 20\n",
      "16:27:42:261575: 15 no es igual a 20\n",
      "16:27:47:507201: 6 no es igual a 20\n",
      "16:27:56:441516: 3 no es igual a 20\n",
      "16:28:04:480305: 8 no es igual a 20\n",
      "16:28:09:674600: 7 no es igual a 20\n",
      "16:28:18:927768: 8 no es igual a 20\n",
      "16:28:25:505337: 16 no es igual a 20\n",
      "16:28:33:347031: 10 no es igual a 20\n",
      "16:28:38:835794: 9 no es igual a 20\n",
      "16:28:46:333062: 18 no es igual a 20\n",
      "16:28:54:303894: 3 no es igual a 20\n",
      "16:29:00:802118: 5 no es igual a 20\n",
      "16:29:08:008318: 4 no es igual a 20\n",
      "16:29:14:985664: 18 no es igual a 20\n",
      "16:29:24:563565: 4 no es igual a 20\n",
      "16:29:30:902571: 3 no es igual a 20\n",
      "16:29:40:542498: 8 no es igual a 20\n",
      "16:29:48:214349: 3 no es igual a 20\n",
      "16:29:55:311268: 3 no es igual a 20\n",
      "16:30:01:885645: 3 no es igual a 20\n",
      "16:30:06:907654: 20 Fue seleccionado !!!!11!!\n"
     ]
    }
   ],
   "source": [
    "@tenacity.retry(wait=tenacity.wait_random(5, 10))\n",
    "def el_veinte():\n",
    "    '''\n",
    "    funct: el_veinte\n",
    "    Input: ()\n",
    "    Output: Exception si randint != 1, True si randint == 1.\n",
    "    Description:\n",
    "    Simula un dado de 20 caras.\n",
    "    Un dado de 20 caras, representa un icosaedro. \n",
    "    Si las veinte caras del icosaedro son triángulos equiláteros y congruentes, \n",
    "    iguales entre sí, el icosaedro es convexo y se denomina regular, \n",
    "    siendo entonces uno de los llamados sólidos platónicos.\n",
    "    '''\n",
    "    random_num = random.randint(1,20)\n",
    "    cur_time = datetime.now().strftime('%H:%M:%S:%f')\n",
    "    if random_num != 20:\n",
    "        print('{0}: {1} no es igual a 20'.format(cur_time, random_num))\n",
    "        raise Exception()\n",
    "    print('{0}: 20 Fue seleccionado !!!!11!!'.format(cur_time))\n",
    "    \n",
    "\n",
    "el_veinte()\n"
   ]
  },
  {
   "cell_type": "markdown",
   "metadata": {
    "slideshow": {
     "slide_type": "subslide"
    }
   },
   "source": [
    "## Tenacity: Retry w/exponential backoff\n",
    "Espera con base en un retroceso exponencial (1 seg  -> 2 -> 4 -> 8 -> 16 -> etc)"
   ]
  },
  {
   "cell_type": "code",
   "execution_count": null,
   "metadata": {
    "slideshow": {
     "slide_type": "fragment"
    }
   },
   "outputs": [
    {
     "name": "stdout",
     "output_type": "stream",
     "text": [
      "16:30:06:921101: 6 no es igual a 20\n",
      "16:30:08:926372: 18 no es igual a 20\n",
      "16:30:12:929463: 11 no es igual a 20\n",
      "16:30:20:932434: 1 no es igual a 20\n",
      "16:30:36:936868: 17 no es igual a 20\n",
      "16:31:08:937723: 12 no es igual a 20\n",
      "16:32:12:938469: 6 no es igual a 20\n",
      "16:34:20:939974: 15 no es igual a 20\n",
      "16:38:36:939481: 16 no es igual a 20\n",
      "16:47:08:931023: 10 no es igual a 20\n"
     ]
    }
   ],
   "source": [
    "@tenacity.retry(wait=tenacity.wait_exponential())\n",
    "def el_veinte():\n",
    "    '''\n",
    "    funct: el_veinte\n",
    "    Input: ()\n",
    "    Output: Exception si randint != 1, True si randint == 1.\n",
    "    Description:\n",
    "    Simula un dado de 20 caras.\n",
    "    Un dado de 20 caras, representa un icosaedro. \n",
    "    Si las veinte caras del icosaedro son triángulos equiláteros y congruentes, \n",
    "    iguales entre sí, el icosaedro es convexo y se denomina regular, \n",
    "    siendo entonces uno de los llamados sólidos platónicos.\n",
    "    '''\n",
    "    random_num = random.randint(1,20)\n",
    "    cur_time = datetime.now().strftime('%H:%M:%S:%f')\n",
    "    if random_num != 20:\n",
    "        print('{0}: {1} no es igual a 20'.format(cur_time, random_num))\n",
    "        raise Exception()\n",
    "    print('{0}: 20 Fue seleccionado !!!!11!!'.format(cur_time))\n",
    "    \n",
    "\n",
    "el_veinte()"
   ]
  },
  {
   "cell_type": "markdown",
   "metadata": {
    "slideshow": {
     "slide_type": "slide"
    }
   },
   "source": [
    "# Stop Conditions"
   ]
  },
  {
   "cell_type": "markdown",
   "metadata": {
    "slideshow": {
     "slide_type": "subslide"
    }
   },
   "source": [
    "# Fixed Number of Retries\n",
    "\n",
    "Cantidad de intentos: Vuelve a procesar cada dos segundos hasta que se hayan cumplido cinco intentos"
   ]
  },
  {
   "cell_type": "code",
   "execution_count": null,
   "metadata": {
    "collapsed": true,
    "slideshow": {
     "slide_type": "fragment"
    }
   },
   "outputs": [],
   "source": [
    "@tenacity.retry(wait=tenacity.wait_fixed(2),\n",
    "                stop=tenacity.stop_after_attempt(5))\n",
    "def wtshtf():\n",
    "    print(datetime.now().strftime('%H:%M:%S:%f'))\n",
    "    raise Exception()\n",
    "try:    \n",
    "    wtshtf()\n",
    "except Exception:\n",
    "    print('EXCEPTION!')"
   ]
  },
  {
   "cell_type": "markdown",
   "metadata": {
    "slideshow": {
     "slide_type": "subslide"
    }
   },
   "source": [
    "# Time\n",
    "\n",
    "Intentos sobre plazo fijo en el tiempo: Vuelve a procesar cada 0.5 segundos hasta que hayan pasado 3 segundos"
   ]
  },
  {
   "cell_type": "code",
   "execution_count": null,
   "metadata": {
    "collapsed": true,
    "slideshow": {
     "slide_type": "fragment"
    }
   },
   "outputs": [],
   "source": [
    "@tenacity.retry(wait=tenacity.wait_fixed(0.5),\n",
    "                stop=tenacity.stop_after_delay(3))\n",
    "def wtshtf():\n",
    "    print(datetime.now().strftime('%H:%M:%S:%f'))\n",
    "    raise Exception()\n",
    "try:    \n",
    "    wtshtf()\n",
    "except Exception:\n",
    "    print('EXCEPTION!')"
   ]
  },
  {
   "cell_type": "markdown",
   "metadata": {
    "slideshow": {
     "slide_type": "subslide"
    }
   },
   "source": [
    "#  Retry for Exception Type\n",
    "\n",
    "Vuelve a procesar cada n tiempo, pero solo si obtenemos una excepción: Intenta cada 0.5 segundos, pero solo para la excepción de tipo `IOError`.\n"
   ]
  },
  {
   "cell_type": "code",
   "execution_count": null,
   "metadata": {
    "collapsed": true,
    "slideshow": {
     "slide_type": "fragment"
    }
   },
   "outputs": [],
   "source": [
    "@tenacity.retry(retry=tenacity.retry_if_exception_type(IOError),\n",
    "                wait=tenacity.wait_fixed(0.5))\n",
    "def corrupcion_wave():\n",
    "    random_num = random.randint(0, 9)\n",
    "    cur_time = datetime.now().strftime('%H:%M:%S:%f')\n",
    "    if random_num > 2:\n",
    "        print('%s - %s.txt does not exist.' % (cur_time, random_num))\n",
    "        print('{0} - {1}.txt no existe.'.format(cur_time, random_num))\n",
    "        raise IOError()\n",
    "    elif random_num == 2:\n",
    "        print('%s - %s.txt is corrupted.' % (cur_time, random_num))\n",
    "        print('{0} - {1}.txt está corrupto.'.format(cur_time, random_num))\n",
    "        raise SystemError()\n",
    "    print('%s - 1.txt was selected!' % cur_time)\n",
    "    print('{0} - 1.txt fue seleccionado!!!1'.format(cur_time))\n",
    "\n",
    "try:\n",
    "    lucky_file()\n",
    "except Exception:\n",
    "    print('EXCEPTION!')"
   ]
  }
 ],
 "metadata": {
  "celltoolbar": "Slideshow",
  "kernelspec": {
   "display_name": "Python 3",
   "language": "python",
   "name": "python3"
  },
  "language_info": {
   "codemirror_mode": {
    "name": "ipython",
    "version": 3
   },
   "file_extension": ".py",
   "mimetype": "text/x-python",
   "name": "python",
   "nbconvert_exporter": "python",
   "pygments_lexer": "ipython3",
   "version": "3.5.3"
  }
 },
 "nbformat": 4,
 "nbformat_minor": 2
}
