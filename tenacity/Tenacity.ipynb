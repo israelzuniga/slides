{
 "cells": [
  {
   "cell_type": "markdown",
   "metadata": {
    "slideshow": {
     "slide_type": "slide"
    }
   },
   "source": [
    "# Tenacity - Israel Zúñiga de la Mora\n",
    "\n",
    "## Python Monterrey: Primera reunión 2019 \n",
    "### 22/Febrero/2019 07:00 P.M. @ WeWork (Blvd. Antonio L. Rodriguez 1888)\n"
   ]
  },
  {
   "cell_type": "markdown",
   "metadata": {
    "slideshow": {
     "slide_type": "subslide"
    }
   },
   "source": [
    "# `whois(me)`\n",
    "\n",
    "Personal:\n",
    "\n",
    "* 89\n",
    "* Colima, Col. 🇲🇽\n",
    "\n",
    "Uni|Grado|Años\n",
    "------|---------|----\n",
    "Universidad de Colima|Ing. en Telemática|2008-2012\n",
    "Universidad Abierta y a Distancia de México (UnADM)|Lic. en Matemáticas|2018-∞\n",
    "Collective Academy|Master of Business & Technology|2019-2020\n",
    "Universidad de la Calle|Perreología|?\n",
    "----\n",
    "\n",
    "Profesional:\n",
    "* UDC\n",
    "* TecLID A.C. ✝\n",
    "* Intel Corp.\n",
    "* ZapopanLab\n",
    "* Invictus.mx\n",
    "* Alturin ✝\n",
    "* Banregio\n",
    "* Evolve Fintech / Ictineo PTF\n",
    "----\n",
    "* https://github.com/israelzuniga  >>> https://github.com/israelzuniga/slides  (para encontrar esta presentación)  \n",
    "* https://www.linkedin.com/in/israelzuniga/\n",
    "* https://twitter.com/0xD1"
   ]
  },
  {
   "cell_type": "markdown",
   "metadata": {
    "slideshow": {
     "slide_type": "subslide"
    }
   },
   "source": [
    "![Pymty](py-mty-logo.png)\n",
    "\n",
    "# Por favor, colabora y participa con la comunidad!\n",
    "\n",
    "## Framewoks, bibliotecas de código, módulos, patrones, challenges, pypy, cpython, threading, Uc, etc\n",
    "\n",
    "## https://www.facebook.com/groups/pymty/  | https://www.meetup.com/pythonmty/"
   ]
  },
  {
   "cell_type": "markdown",
   "metadata": {
    "slideshow": {
     "slide_type": "slide"
    }
   },
   "source": [
    "# Designing for Failure\n",
    "\n",
    "> Exception handling is one of the most brushed aside aspects of computer programming. Errors are complicated to handle, and often they are unlikely, so developers always forget to handle failures... sometimes they even forgot on purpose.\n",
    "\n",
    "> However, in a world where applications are distributed over the network, across miles of fiber optic cable and on different computers, failure is not an exception. It must be considered as the norm for your software. Failure scenarios must be first-citizens of the various testing scenarios being developed.\n",
    "\n",
    "> In an environment distributed over a network, anything that can fail **will** fail.\n",
    "\n",
    "> Python does not offer any help in that regard, and almost no programming language offers advanced error recovery or retryng capability -- except mabe languages implementing [condition systems](https://en.wikipedia.org/wiki/Exception_handling#Condition_systems) such as Common Lisp.\n",
    "\n",
    "-- Julien Danjou - The Hacker's Guide to Scaling Python (2017)"
   ]
  },
  {
   "cell_type": "markdown",
   "metadata": {
    "slideshow": {
     "slide_type": "slide"
    }
   },
   "source": [
    "# Retry pattern / Retrying pattern\n",
    "\n",
    "## Contexto\n",
    "Habilita una aplicación para conducir fallas transitorias cuando intenta conectarse a un servicio o recurso de red, volviendo a intentar de forma transparente la operación fallida. Pudiendo mejorar la estabilidad de la aplicación.\n"
   ]
  },
  {
   "cell_type": "markdown",
   "metadata": {
    "slideshow": {
     "slide_type": "slide"
    }
   },
   "source": [
    "# Naive Retrying"
   ]
  },
  {
   "cell_type": "code",
   "execution_count": null,
   "metadata": {
    "collapsed": true,
    "slideshow": {
     "slide_type": "fragment"
    }
   },
   "outputs": [],
   "source": [
    "xx"
   ]
  }
 ],
 "metadata": {
  "celltoolbar": "Slideshow",
  "kernelspec": {
   "display_name": "Python 3",
   "language": "python",
   "name": "python3"
  },
  "language_info": {
   "codemirror_mode": {
    "name": "ipython",
    "version": 3
   },
   "file_extension": ".py",
   "mimetype": "text/x-python",
   "name": "python",
   "nbconvert_exporter": "python",
   "pygments_lexer": "ipython3",
   "version": "3.5.3"
  }
 },
 "nbformat": 4,
 "nbformat_minor": 2
}
