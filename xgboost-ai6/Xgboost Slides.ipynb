{
 "cells": [
  {
   "cell_type": "markdown",
   "metadata": {
    "slideshow": {
     "slide_type": "slide"
    }
   },
   "source": [
    "# 60 minutos sobre XGBoost\n",
    "\n",
    "> My confession: I (over)use GBM. When in doubt, use GBM.\n",
    "\n",
    "-- Owen Zhang, 2015;[ _\"Winning Data Science Competitions\"_ @ NYC Data Science Academy](https://www.youtube.com/watch?v=LgLcfZjNF44)\n",
    "\n",
    "\n",
    "## Israel Zúñiga de la Mora | 01/Mar/202 @ Saturdays.ai Mty\n"
   ]
  },
  {
   "cell_type": "markdown",
   "metadata": {
    "slideshow": {
     "slide_type": "subslide"
    }
   },
   "source": [
    "# Objetivo de esta plática:\n",
    "Conocer el uso básico de la biblioteca de Machine Lerning XGBoost para Gradient Boosting en Python.\n",
    "\n"
   ]
  },
  {
   "cell_type": "markdown",
   "metadata": {
    "slideshow": {
     "slide_type": "fragment"
    }
   },
   "source": [
    "# Que no veremos hoy (AKA: the proof is left as an exercise to the reader):\n",
    "- Uso avanzado de XGBoost:\n",
    "    - Selección de features por puntuación (XGBoost + Scikit-Learn's `SelectFromModel` class)\n",
    "    - Monitoreo de performance en entrenamiento y _Early Stopping_\n",
    "    - Tuning: Multithreading, Gradient Boosting Estimators, Learning Rate\n",
    "    - Serialización de modelos (Pickle/Joblib)\n",
    "- Uso y/o despliegue a Producción en AWS/GCP/Azure/Kubeflow/Polyaxon/MLFlow\n",
    "- Comparación con otras implementaciones similares (Microsoft's LightGBM / Yandex's CatBoost)\n",
    "- [Teoría Matemática/CompSci sobre algoritmos implementados](https://www.slideshare.net/ShangxuanZhang/kaggle-winning-solution-xgboost-algorithm-let-us-learn-from-its-author)\n",
    "    \n",
    "    \n",
    "<img src=\"https://ae01.alicdn.com/kf/HTB1_u80dNWYBuNjy1zkq6xGGpXaF/Mini-pollo-de-goma-grit-n-juguete-con-chirrido-juguete-divertido-con-sonido-Al-apretar-para.jpg\" width=\"400\" height=\"790\">\n",
    "\n",
    "\n",
    " "
   ]
  },
  {
   "cell_type": "markdown",
   "metadata": {
    "slideshow": {
     "slide_type": "subslide"
    }
   },
   "source": [
    "   \n",
    "# Outline\n",
    "\n",
    "- Decision Trees \n",
    "- Gradient Boosting\n",
    "- XGBoost\n",
    "    - Qué es XGBoost?\n",
    "    - Características principales\n",
    "    - Por qué usar XGBoost?\n",
    "    - Qué algoritmo se usa?\n",
    "    - Instalación (aunque este stand-up no es un tutorial)\n",
    "- Nuestro primero modelo 🧶🐈\n",
    "    - Descripción del problema\n",
    "    - Carga de datos\n",
    "    - Entrenamiento del modelo\n",
    "    - Generación de predicciones ($\\hat{Y}$)\n",
    "    \n",
    "- Visualización de árboles de decisión e imporancia de features\n",
    "    \n",
    "\n",
    "\n",
    "\n",
    "\n",
    "- Feature Importance\n",
    "    - Plot\n",
    "    - Tree Graph\n",
    "    -"
   ]
  },
  {
   "cell_type": "markdown",
   "metadata": {},
   "source": [
    "# Decision Trees"
   ]
  },
  {
   "cell_type": "code",
   "execution_count": null,
   "metadata": {},
   "outputs": [],
   "source": []
  },
  {
   "cell_type": "markdown",
   "metadata": {},
   "source": [
    "# Gradient Boosting"
   ]
  },
  {
   "cell_type": "markdown",
   "metadata": {},
   "source": [
    "# XGBoost\n"
   ]
  },
  {
   "cell_type": "markdown",
   "metadata": {},
   "source": [
    "## XGBoost Features\n",
    "\n",
    "\n",
    "\n",
    "x\n",
    "\n",
    "## System Features\n",
    "\n",
    "- Paralelización\n",
    "- Cómputo Distribuido\n",
    "- Out-of-Core Computing\n",
    "- Cache: Optimización de est"
   ]
  },
  {
   "cell_type": "markdown",
   "metadata": {},
   "source": [
    "## Algorithm Features\n",
    "\n",
    "-"
   ]
  },
  {
   "cell_type": "markdown",
   "metadata": {},
   "source": [
    "## Por qué usar XGBoost?\n"
   ]
  },
  {
   "cell_type": "code",
   "execution_count": 1,
   "metadata": {},
   "outputs": [],
   "source": [
    "fruit = ['apple', 'banana', 'orange', 'lime']"
   ]
  },
  {
   "cell_type": "code",
   "execution_count": null,
   "metadata": {},
   "outputs": [],
   "source": []
  },
  {
   "cell_type": "code",
   "execution_count": null,
   "metadata": {},
   "outputs": [],
   "source": []
  }
 ],
 "metadata": {
  "celltoolbar": "Slideshow",
  "kernelspec": {
   "display_name": "Python 3",
   "language": "python",
   "name": "python3"
  },
  "language_info": {
   "codemirror_mode": {
    "name": "ipython",
    "version": 3
   },
   "file_extension": ".py",
   "mimetype": "text/x-python",
   "name": "python",
   "nbconvert_exporter": "python",
   "pygments_lexer": "ipython3",
   "version": "3.6.10"
  }
 },
 "nbformat": 4,
 "nbformat_minor": 4
}
