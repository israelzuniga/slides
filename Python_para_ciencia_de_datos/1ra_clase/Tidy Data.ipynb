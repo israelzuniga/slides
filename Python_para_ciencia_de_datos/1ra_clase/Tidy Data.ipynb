{
 "cells": [
  {
   "cell_type": "markdown",
   "metadata": {},
   "source": [
    "# Tidy Data"
   ]
  },
  {
   "cell_type": "code",
   "execution_count": 1,
   "metadata": {
    "collapsed": true
   },
   "outputs": [],
   "source": [
    "import pandas as pd\n",
    "\n",
    "pacientes = ['Ricardo', 'Marielena', 'Miguel']\n",
    "\n",
    "a = [ 67, 80, 64 ]\n",
    "b = [ 56, 90, 50 ]\n",
    "\n",
    "untidy = pd.DataFrame({'pacientes': pacientes, 'a': a, 'b': b })"
   ]
  },
  {
   "cell_type": "markdown",
   "metadata": {},
   "source": [
    "Documentación relacionada: `pandas.melt`\n",
    "\n",
    "http://pandas.pydata.org/pandas-docs/stable/generated/pandas.melt.html"
   ]
  },
  {
   "cell_type": "code",
   "execution_count": 2,
   "metadata": {
    "collapsed": true
   },
   "outputs": [],
   "source": [
    "def gather(df, key, value, cols):\n",
    "    id_vars = [col for col in df.columns if col not in cols ]\n",
    "    id_values = cols\n",
    "    var_name = key\n",
    "    value_name = value\n",
    "    return pd.melt(df, id_vars, id_values, var_name, value_name)"
   ]
  },
  {
   "cell_type": "code",
   "execution_count": 3,
   "metadata": {
    "collapsed": false
   },
   "outputs": [
    {
     "data": {
      "text/html": [
       "<div>\n",
       "<table border=\"1\" class=\"dataframe\">\n",
       "  <thead>\n",
       "    <tr style=\"text-align: right;\">\n",
       "      <th></th>\n",
       "      <th>a</th>\n",
       "      <th>b</th>\n",
       "      <th>pacientes</th>\n",
       "    </tr>\n",
       "  </thead>\n",
       "  <tbody>\n",
       "    <tr>\n",
       "      <th>0</th>\n",
       "      <td>67</td>\n",
       "      <td>56</td>\n",
       "      <td>Ricardo</td>\n",
       "    </tr>\n",
       "    <tr>\n",
       "      <th>1</th>\n",
       "      <td>80</td>\n",
       "      <td>90</td>\n",
       "      <td>Marielena</td>\n",
       "    </tr>\n",
       "    <tr>\n",
       "      <th>2</th>\n",
       "      <td>64</td>\n",
       "      <td>50</td>\n",
       "      <td>Miguel</td>\n",
       "    </tr>\n",
       "  </tbody>\n",
       "</table>\n",
       "</div>"
      ],
      "text/plain": [
       "    a   b  pacientes\n",
       "0  67  56    Ricardo\n",
       "1  80  90  Marielena\n",
       "2  64  50     Miguel"
      ]
     },
     "execution_count": 3,
     "metadata": {},
     "output_type": "execute_result"
    }
   ],
   "source": [
    "untidy"
   ]
  },
  {
   "cell_type": "code",
   "execution_count": 4,
   "metadata": {
    "collapsed": false
   },
   "outputs": [],
   "source": [
    "tidy = gather(untidy, 'medicamento', 'frecuencia_cardiaca', ['a', 'b'])"
   ]
  },
  {
   "cell_type": "code",
   "execution_count": 5,
   "metadata": {
    "collapsed": false
   },
   "outputs": [
    {
     "data": {
      "text/html": [
       "<div>\n",
       "<table border=\"1\" class=\"dataframe\">\n",
       "  <thead>\n",
       "    <tr style=\"text-align: right;\">\n",
       "      <th></th>\n",
       "      <th>pacientes</th>\n",
       "      <th>medicamento</th>\n",
       "      <th>frecuencia_cardiaca</th>\n",
       "    </tr>\n",
       "  </thead>\n",
       "  <tbody>\n",
       "    <tr>\n",
       "      <th>0</th>\n",
       "      <td>Ricardo</td>\n",
       "      <td>a</td>\n",
       "      <td>67</td>\n",
       "    </tr>\n",
       "    <tr>\n",
       "      <th>1</th>\n",
       "      <td>Marielena</td>\n",
       "      <td>a</td>\n",
       "      <td>80</td>\n",
       "    </tr>\n",
       "    <tr>\n",
       "      <th>2</th>\n",
       "      <td>Miguel</td>\n",
       "      <td>a</td>\n",
       "      <td>64</td>\n",
       "    </tr>\n",
       "    <tr>\n",
       "      <th>3</th>\n",
       "      <td>Ricardo</td>\n",
       "      <td>b</td>\n",
       "      <td>56</td>\n",
       "    </tr>\n",
       "    <tr>\n",
       "      <th>4</th>\n",
       "      <td>Marielena</td>\n",
       "      <td>b</td>\n",
       "      <td>90</td>\n",
       "    </tr>\n",
       "    <tr>\n",
       "      <th>5</th>\n",
       "      <td>Miguel</td>\n",
       "      <td>b</td>\n",
       "      <td>50</td>\n",
       "    </tr>\n",
       "  </tbody>\n",
       "</table>\n",
       "</div>"
      ],
      "text/plain": [
       "   pacientes medicamento  frecuencia_cardiaca\n",
       "0    Ricardo           a                   67\n",
       "1  Marielena           a                   80\n",
       "2     Miguel           a                   64\n",
       "3    Ricardo           b                   56\n",
       "4  Marielena           b                   90\n",
       "5     Miguel           b                   50"
      ]
     },
     "execution_count": 5,
     "metadata": {},
     "output_type": "execute_result"
    }
   ],
   "source": [
    "tidy"
   ]
  },
  {
   "cell_type": "markdown",
   "metadata": {},
   "source": [
    "## Para saber más:\n",
    "\n",
    "- https://garrettgman.github.io/tidying/ (R-lang)\n",
    "- http://www.prometheusresearch.com/good-data-management-practices-for-data-analysis-tidy-data-part-2/ (R-lang)\n",
    "- https://tomaugspurger.github.io/modern-5-tidy.html (Python+Pandas)\n",
    "- https://www.ibm.com/developerworks/community/blogs/jfp/entry/Tidy_Data_In_Python?lang=en (Python+Pandas)\n",
    "- http://connor-johnson.com/2014/08/28/tidyr-and-pandas-gather-and-melt/ (Python+Pandas)\n",
    "- https://blog.rstudio.org/2014/07/22/introducing-tidyr/ (R-lang)"
   ]
  }
 ],
 "metadata": {
  "kernelspec": {
   "display_name": "Python 3",
   "language": "python",
   "name": "python3"
  },
  "language_info": {
   "codemirror_mode": {
    "name": "ipython",
    "version": 3
   },
   "file_extension": ".py",
   "mimetype": "text/x-python",
   "name": "python",
   "nbconvert_exporter": "python",
   "pygments_lexer": "ipython3",
   "version": "3.5.1"
  }
 },
 "nbformat": 4,
 "nbformat_minor": 0
}
