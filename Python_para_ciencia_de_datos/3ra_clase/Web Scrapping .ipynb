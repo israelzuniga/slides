{
 "cells": [
  {
   "cell_type": "markdown",
   "metadata": {},
   "source": [
    "## Importar pandas"
   ]
  },
  {
   "cell_type": "code",
   "execution_count": 2,
   "metadata": {
    "collapsed": true
   },
   "outputs": [],
   "source": [
    "import pandas as pd"
   ]
  },
  {
   "cell_type": "markdown",
   "metadata": {},
   "source": [
    "# Buscar:\n",
    "\n",
    "# List of countries by population density\n",
    "\n",
    "\n",
    "# URL: https://simple.wikipedia.org/wiki/List_of_countries_by_population_density"
   ]
  },
  {
   "cell_type": "code",
   "execution_count": 3,
   "metadata": {
    "collapsed": true
   },
   "outputs": [],
   "source": [
    "url = 'https://simple.wikipedia.org/wiki/List_of_countries_by_population_density'\n",
    "densidad_df = pd.read_html(url, header=0)"
   ]
  },
  {
   "cell_type": "code",
   "execution_count": 12,
   "metadata": {},
   "outputs": [],
   "source": [
    "densidad_df = pd.DataFrame(densidad_df[0])"
   ]
  },
  {
   "cell_type": "code",
   "execution_count": 13,
   "metadata": {},
   "outputs": [
    {
     "data": {
      "text/html": [
       "<div>\n",
       "<style>\n",
       "    .dataframe thead tr:only-child th {\n",
       "        text-align: right;\n",
       "    }\n",
       "\n",
       "    .dataframe thead th {\n",
       "        text-align: left;\n",
       "    }\n",
       "\n",
       "    .dataframe tbody tr th {\n",
       "        vertical-align: top;\n",
       "    }\n",
       "</style>\n",
       "<table border=\"1\" class=\"dataframe\">\n",
       "  <thead>\n",
       "    <tr style=\"text-align: right;\">\n",
       "      <th></th>\n",
       "      <th>Rank</th>\n",
       "      <th>Country / dependent territory</th>\n",
       "      <th>Population</th>\n",
       "      <th>Date last updated</th>\n",
       "      <th>Area (km2)</th>\n",
       "      <th>Area (mi2)</th>\n",
       "      <th>Density (km2)</th>\n",
       "      <th>Density (mi2)</th>\n",
       "      <th>Notes</th>\n",
       "    </tr>\n",
       "  </thead>\n",
       "  <tbody>\n",
       "    <tr>\n",
       "      <th>0</th>\n",
       "      <td>1</td>\n",
       "      <td>Macau (China)</td>\n",
       "      <td>541200</td>\n",
       "      <td>February 28, 2017</td>\n",
       "      <td>29.2</td>\n",
       "      <td>11.3</td>\n",
       "      <td>18534</td>\n",
       "      <td>48003</td>\n",
       "      <td>[1]</td>\n",
       "    </tr>\n",
       "    <tr>\n",
       "      <th>1</th>\n",
       "      <td>2</td>\n",
       "      <td>Monaco</td>\n",
       "      <td>33000</td>\n",
       "      <td>2013</td>\n",
       "      <td>1.95</td>\n",
       "      <td>0.75</td>\n",
       "      <td>16923</td>\n",
       "      <td>43830</td>\n",
       "      <td>[2][3]</td>\n",
       "    </tr>\n",
       "    <tr>\n",
       "      <th>2</th>\n",
       "      <td>3</td>\n",
       "      <td>Singapore</td>\n",
       "      <td>5076700</td>\n",
       "      <td>2000</td>\n",
       "      <td>710.2</td>\n",
       "      <td>274.2</td>\n",
       "      <td>7148</td>\n",
       "      <td>18513</td>\n",
       "      <td>[4]</td>\n",
       "    </tr>\n",
       "    <tr>\n",
       "      <th>3</th>\n",
       "      <td>4</td>\n",
       "      <td>Hong Kong (China)</td>\n",
       "      <td>7264100</td>\n",
       "      <td>1998</td>\n",
       "      <td>1104</td>\n",
       "      <td>426</td>\n",
       "      <td>6349</td>\n",
       "      <td>16444</td>\n",
       "      <td>[5]</td>\n",
       "    </tr>\n",
       "    <tr>\n",
       "      <th>4</th>\n",
       "      <td>5</td>\n",
       "      <td>Gibraltar (UK)</td>\n",
       "      <td>31000</td>\n",
       "      <td>2018</td>\n",
       "      <td>6.8</td>\n",
       "      <td>2.6</td>\n",
       "      <td>4559</td>\n",
       "      <td>11808</td>\n",
       "      <td>[2]</td>\n",
       "    </tr>\n",
       "  </tbody>\n",
       "</table>\n",
       "</div>"
      ],
      "text/plain": [
       "  Rank Country / dependent territory Population  Date last updated Area (km2)  \\\n",
       "0    1                 Macau (China)     541200  February 28, 2017       29.2   \n",
       "1    2                        Monaco      33000               2013       1.95   \n",
       "2    3                     Singapore    5076700               2000      710.2   \n",
       "3    4             Hong Kong (China)    7264100               1998       1104   \n",
       "4    5                Gibraltar (UK)      31000               2018        6.8   \n",
       "\n",
       "  Area (mi2) Density (km2) Density (mi2)   Notes  \n",
       "0       11.3         18534         48003     [1]  \n",
       "1       0.75         16923         43830  [2][3]  \n",
       "2      274.2          7148         18513     [4]  \n",
       "3        426          6349         16444     [5]  \n",
       "4        2.6          4559         11808     [2]  "
      ]
     },
     "execution_count": 13,
     "metadata": {},
     "output_type": "execute_result"
    }
   ],
   "source": [
    "densidad_df.head()"
   ]
  },
  {
   "cell_type": "code",
   "execution_count": 14,
   "metadata": {},
   "outputs": [
    {
     "data": {
      "text/plain": [
       "pandas.core.frame.DataFrame"
      ]
     },
     "execution_count": 14,
     "metadata": {},
     "output_type": "execute_result"
    }
   ],
   "source": [
    "type(densidad_df)"
   ]
  },
  {
   "cell_type": "code",
   "execution_count": 15,
   "metadata": {
    "collapsed": true
   },
   "outputs": [],
   "source": [
    "densidad_df_limpio = densidad_df.copy()"
   ]
  },
  {
   "cell_type": "code",
   "execution_count": 16,
   "metadata": {},
   "outputs": [
    {
     "data": {
      "text/plain": [
       "Index(['Rank', 'Country / dependent territory', 'Population',\n",
       "       'Date last updated', 'Area (km2)', 'Area (mi2)', 'Density (km2)',\n",
       "       'Density (mi2)', 'Notes'],\n",
       "      dtype='object')"
      ]
     },
     "execution_count": 16,
     "metadata": {},
     "output_type": "execute_result"
    }
   ],
   "source": [
    "densidad_df_limpio.keys()"
   ]
  },
  {
   "cell_type": "code",
   "execution_count": 19,
   "metadata": {
    "collapsed": true
   },
   "outputs": [
    {
     "data": {
      "text/plain": [
       "0            11.3\n",
       "1            0.75\n",
       "2           274.2\n",
       "3             426\n",
       "4             2.6\n",
       "5            0.17\n",
       "6             290\n",
       "7             122\n",
       "8              20\n",
       "9              13\n",
       "10            115\n",
       "11          56980\n",
       "12             45\n",
       "13             30\n",
       "14           20.5\n",
       "15          13890\n",
       "16            790\n",
       "17            170\n",
       "18             75\n",
       "19           2320\n",
       "20             24\n",
       "21            144\n",
       "22          38432\n",
       "23            8.1\n",
       "24           3427\n",
       "25            171\n",
       "26           4036\n",
       "27            8.1\n",
       "28             10\n",
       "29          16033\n",
       "          ...    \n",
       "212        148709\n",
       "213        239285\n",
       "214        489000\n",
       "215        830000\n",
       "216        478841\n",
       "217        132000\n",
       "218        188500\n",
       "219        119500\n",
       "220        424164\n",
       "221        496000\n",
       "222       6601668\n",
       "223           100\n",
       "224        240535\n",
       "225       1052100\n",
       "226        103347\n",
       "227        679360\n",
       "228         83000\n",
       "229       3855100\n",
       "230        224610\n",
       "231        395960\n",
       "232         63250\n",
       "233         40000\n",
       "234       2966200\n",
       "235        318261\n",
       "236         35000\n",
       "237        103000\n",
       "238        603909\n",
       "239          4700\n",
       "240        840000\n",
       "241    Area (mi2)\n",
       "Name: Area (mi2), Length: 242, dtype: object"
      ]
     },
     "execution_count": 19,
     "metadata": {},
     "output_type": "execute_result"
    }
   ],
   "source": [
    "densidad_df_limpio.pop('Area (mi2)')"
   ]
  },
  {
   "cell_type": "code",
   "execution_count": 18,
   "metadata": {
    "collapsed": true
   },
   "outputs": [
    {
     "data": {
      "text/plain": [
       "0               48003\n",
       "1               43830\n",
       "2               18513\n",
       "3               16444\n",
       "4               11808\n",
       "5                4861\n",
       "6                4263\n",
       "7                3424\n",
       "8                3175\n",
       "9                2852\n",
       "10               2686\n",
       "11               2497\n",
       "12               2186\n",
       "13               2183\n",
       "14               1717\n",
       "15               1655\n",
       "16               1634\n",
       "17               1541\n",
       "18               1435\n",
       "19               1764\n",
       "20               1308\n",
       "21               1292\n",
       "22               1261\n",
       "23               1150\n",
       "24               1163\n",
       "25               1155\n",
       "26               1046\n",
       "27               1041\n",
       "28               1041\n",
       "29               1072\n",
       "            ...      \n",
       "212                36\n",
       "213                34\n",
       "214                31\n",
       "215                31\n",
       "216                31\n",
       "217                31\n",
       "218                26\n",
       "219                24\n",
       "220                23\n",
       "221                23\n",
       "222                21\n",
       "223                20\n",
       "224                18\n",
       "225                16\n",
       "226                14\n",
       "227               9.3\n",
       "228               9.1\n",
       "229               8.8\n",
       "230               8.8\n",
       "231               8.3\n",
       "232               8.3\n",
       "233               8.0\n",
       "234               8.5\n",
       "235               6.7\n",
       "236               5.4\n",
       "237               4.9\n",
       "238               4.4\n",
       "239              0.67\n",
       "240             0.067\n",
       "241    Density (/mi2)\n",
       "Name: Density (mi2), Length: 242, dtype: object"
      ]
     },
     "execution_count": 18,
     "metadata": {},
     "output_type": "execute_result"
    }
   ],
   "source": [
    "densidad_df_limpio.pop('Density (mi2)')"
   ]
  },
  {
   "cell_type": "code",
   "execution_count": 21,
   "metadata": {
    "collapsed": true
   },
   "outputs": [
    {
     "data": {
      "text/plain": [
       "0                     [1]\n",
       "1                  [2][3]\n",
       "2                     [4]\n",
       "3                     [5]\n",
       "4                     [2]\n",
       "5                  [2][6]\n",
       "6                    [10]\n",
       "7       Eurostat estimate\n",
       "8                     [2]\n",
       "9                     [2]\n",
       "10                    [2]\n",
       "11                 [2][7]\n",
       "12                [9][11]\n",
       "13                   [10]\n",
       "14                   [11]\n",
       "15                   [12]\n",
       "16                    [2]\n",
       "17                    [2]\n",
       "18                    [2]\n",
       "19                   [13]\n",
       "20                   [14]\n",
       "21               [11][15]\n",
       "22                [2][16]\n",
       "23                    [2]\n",
       "24                    [2]\n",
       "25                    [2]\n",
       "26                    [2]\n",
       "27                   [11]\n",
       "28                    [2]\n",
       "29                   [17]\n",
       "              ...        \n",
       "212                  [72]\n",
       "213                  [67]\n",
       "214                   [2]\n",
       "215                   [2]\n",
       "216                  [73]\n",
       "217                   [2]\n",
       "218                   [2]\n",
       "219                   [2]\n",
       "220                   [2]\n",
       "221                  [74]\n",
       "222                  [75]\n",
       "223                   [2]\n",
       "224                   [2]\n",
       "225                  [76]\n",
       "226                   [2]\n",
       "227                   [2]\n",
       "228                   [2]\n",
       "229                  [77]\n",
       "230                   [2]\n",
       "231                   [2]\n",
       "232                   [2]\n",
       "233    Statistics Iceland\n",
       "234                  [78]\n",
       "235                   [2]\n",
       "236                   NaN\n",
       "237                   [2]\n",
       "238                   [2]\n",
       "239                   [2]\n",
       "240               [2][79]\n",
       "241                 Notes\n",
       "Name: Notes, Length: 242, dtype: object"
      ]
     },
     "execution_count": 21,
     "metadata": {},
     "output_type": "execute_result"
    }
   ],
   "source": [
    "densidad_df_limpio.pop( 'Notes')"
   ]
  },
  {
   "cell_type": "code",
   "execution_count": 28,
   "metadata": {},
   "outputs": [
    {
     "data": {
      "text/plain": [
       "Index(['Rank', 'Country / dependent territory', 'Pop', 'Date last updated',\n",
       "       'Area (km2)', 'Density (km2)'],\n",
       "      dtype='object')"
      ]
     },
     "execution_count": 28,
     "metadata": {},
     "output_type": "execute_result"
    }
   ],
   "source": [
    "densidad_df_limpio.keys()"
   ]
  },
  {
   "cell_type": "code",
   "execution_count": 27,
   "metadata": {},
   "outputs": [],
   "source": [
    "densidad_df_limpio.rename(columns={'Population': 'Pop'}, \n",
    "                          inplace=True)"
   ]
  },
  {
   "cell_type": "code",
   "execution_count": 30,
   "metadata": {},
   "outputs": [],
   "source": [
    "densidad_df_limpio.rename(columns={'Area (km2)': 'Area'},\n",
    "                                     inplace=True)\n",
    "\n",
    "densidad_df_limpio.rename(columns={'Density (km2)': 'Density'},\n",
    "                                     inplace=True)"
   ]
  },
  {
   "cell_type": "code",
   "execution_count": 31,
   "metadata": {},
   "outputs": [
    {
     "data": {
      "text/html": [
       "<div>\n",
       "<style>\n",
       "    .dataframe thead tr:only-child th {\n",
       "        text-align: right;\n",
       "    }\n",
       "\n",
       "    .dataframe thead th {\n",
       "        text-align: left;\n",
       "    }\n",
       "\n",
       "    .dataframe tbody tr th {\n",
       "        vertical-align: top;\n",
       "    }\n",
       "</style>\n",
       "<table border=\"1\" class=\"dataframe\">\n",
       "  <thead>\n",
       "    <tr style=\"text-align: right;\">\n",
       "      <th></th>\n",
       "      <th>Rank</th>\n",
       "      <th>Country / dependent territory</th>\n",
       "      <th>Pop</th>\n",
       "      <th>Date last updated</th>\n",
       "      <th>Area</th>\n",
       "      <th>Density</th>\n",
       "    </tr>\n",
       "  </thead>\n",
       "  <tbody>\n",
       "    <tr>\n",
       "      <th>0</th>\n",
       "      <td>1</td>\n",
       "      <td>Macau (China)</td>\n",
       "      <td>541200</td>\n",
       "      <td>February 28, 2017</td>\n",
       "      <td>29.2</td>\n",
       "      <td>18534</td>\n",
       "    </tr>\n",
       "    <tr>\n",
       "      <th>1</th>\n",
       "      <td>2</td>\n",
       "      <td>Monaco</td>\n",
       "      <td>33000</td>\n",
       "      <td>2013</td>\n",
       "      <td>1.95</td>\n",
       "      <td>16923</td>\n",
       "    </tr>\n",
       "    <tr>\n",
       "      <th>2</th>\n",
       "      <td>3</td>\n",
       "      <td>Singapore</td>\n",
       "      <td>5076700</td>\n",
       "      <td>2000</td>\n",
       "      <td>710.2</td>\n",
       "      <td>7148</td>\n",
       "    </tr>\n",
       "    <tr>\n",
       "      <th>3</th>\n",
       "      <td>4</td>\n",
       "      <td>Hong Kong (China)</td>\n",
       "      <td>7264100</td>\n",
       "      <td>1998</td>\n",
       "      <td>1104</td>\n",
       "      <td>6349</td>\n",
       "    </tr>\n",
       "    <tr>\n",
       "      <th>4</th>\n",
       "      <td>5</td>\n",
       "      <td>Gibraltar (UK)</td>\n",
       "      <td>31000</td>\n",
       "      <td>2018</td>\n",
       "      <td>6.8</td>\n",
       "      <td>4559</td>\n",
       "    </tr>\n",
       "  </tbody>\n",
       "</table>\n",
       "</div>"
      ],
      "text/plain": [
       "  Rank Country / dependent territory      Pop  Date last updated   Area  \\\n",
       "0    1                 Macau (China)   541200  February 28, 2017   29.2   \n",
       "1    2                        Monaco    33000               2013   1.95   \n",
       "2    3                     Singapore  5076700               2000  710.2   \n",
       "3    4             Hong Kong (China)  7264100               1998   1104   \n",
       "4    5                Gibraltar (UK)    31000               2018    6.8   \n",
       "\n",
       "  Density  \n",
       "0   18534  \n",
       "1   16923  \n",
       "2    7148  \n",
       "3    6349  \n",
       "4    4559  "
      ]
     },
     "execution_count": 31,
     "metadata": {},
     "output_type": "execute_result"
    }
   ],
   "source": [
    "densidad_df_limpio.head()"
   ]
  },
  {
   "cell_type": "code",
   "execution_count": 34,
   "metadata": {},
   "outputs": [
    {
     "data": {
      "text/html": [
       "<div>\n",
       "<style>\n",
       "    .dataframe thead tr:only-child th {\n",
       "        text-align: right;\n",
       "    }\n",
       "\n",
       "    .dataframe thead th {\n",
       "        text-align: left;\n",
       "    }\n",
       "\n",
       "    .dataframe tbody tr th {\n",
       "        vertical-align: top;\n",
       "    }\n",
       "</style>\n",
       "<table border=\"1\" class=\"dataframe\">\n",
       "  <thead>\n",
       "    <tr style=\"text-align: right;\">\n",
       "      <th></th>\n",
       "      <th>Area</th>\n",
       "      <th>Density</th>\n",
       "    </tr>\n",
       "  </thead>\n",
       "  <tbody>\n",
       "    <tr>\n",
       "      <th>count</th>\n",
       "      <td>242</td>\n",
       "      <td>242</td>\n",
       "    </tr>\n",
       "    <tr>\n",
       "      <th>unique</th>\n",
       "      <td>241</td>\n",
       "      <td>170</td>\n",
       "    </tr>\n",
       "    <tr>\n",
       "      <th>top</th>\n",
       "      <td>21</td>\n",
       "      <td>46</td>\n",
       "    </tr>\n",
       "    <tr>\n",
       "      <th>freq</th>\n",
       "      <td>2</td>\n",
       "      <td>5</td>\n",
       "    </tr>\n",
       "  </tbody>\n",
       "</table>\n",
       "</div>"
      ],
      "text/plain": [
       "       Area Density\n",
       "count   242     242\n",
       "unique  241     170\n",
       "top      21      46\n",
       "freq      2       5"
      ]
     },
     "execution_count": 34,
     "metadata": {},
     "output_type": "execute_result"
    }
   ],
   "source": [
    "densidad_df_limpio[['Area', 'Density']].describe()"
   ]
  },
  {
   "cell_type": "markdown",
   "metadata": {},
   "source": [
    "# Web Scrapping con BS4"
   ]
  },
  {
   "cell_type": "code",
   "execution_count": 36,
   "metadata": {
    "scrolled": true
   },
   "outputs": [
    {
     "name": "stdout",
     "output_type": "stream",
     "text": [
      "Collecting bs4\n",
      "  Downloading bs4-0.0.1.tar.gz\n",
      "Requirement already satisfied: beautifulsoup4 in /Users/israel/anaconda3/envs/ensitech/lib/python3.6/site-packages (from bs4)\n",
      "Building wheels for collected packages: bs4\n",
      "  Running setup.py bdist_wheel for bs4 ... \u001b[?25ldone\n",
      "\u001b[?25h  Stored in directory: /Users/israel/Library/Caches/pip/wheels/84/67/d4/9e09d9d5adede2ee1c7b7e8775ba3fbb04d07c4f946f0e4f11\n",
      "Successfully built bs4\n",
      "Installing collected packages: bs4\n",
      "Successfully installed bs4-0.0.1\n"
     ]
    }
   ],
   "source": [
    "! pip install bs4"
   ]
  },
  {
   "cell_type": "markdown",
   "metadata": {},
   "source": [
    "# 10.14.242.142:8888/?token=b93378280ce2880ccd04c2b6a9f7e916926e18049e17ccfe"
   ]
  },
  {
   "cell_type": "code",
   "execution_count": 37,
   "metadata": {
    "collapsed": true
   },
   "outputs": [],
   "source": [
    "import requests\n",
    "from bs4 import BeautifulSoup"
   ]
  },
  {
   "cell_type": "markdown",
   "metadata": {},
   "source": [
    "<img src=\"img/html.png\"/>\n",
    "\n",
    "\n",
    "\n",
    "## DOM (Document Object Mode)\n",
    "\n",
    "<img src=\"img/dom-tree.png\" />\n",
    "\n"
   ]
  },
  {
   "cell_type": "markdown",
   "metadata": {},
   "source": [
    "#  Buscar: No Starch Press\n",
    "\n",
    "#  URL: https://www.nostarch.com/"
   ]
  },
  {
   "cell_type": "code",
   "execution_count": 41,
   "metadata": {
    "collapsed": true
   },
   "outputs": [],
   "source": [
    "# Guardar la URL como String\n",
    "url = 'https://www.nostarch.com/'\n",
    "\n",
    "\n",
    "# Transformamos la URL como objeto de BS4\n",
    "\n",
    "url = BeautifulSoup(requests.get(url).text, 'lxml')"
   ]
  },
  {
   "cell_type": "code",
   "execution_count": 42,
   "metadata": {},
   "outputs": [
    {
     "data": {
      "text/plain": [
       "bs4.BeautifulSoup"
      ]
     },
     "execution_count": 42,
     "metadata": {},
     "output_type": "execute_result"
    }
   ],
   "source": [
    "type(url)"
   ]
  },
  {
   "cell_type": "code",
   "execution_count": 51,
   "metadata": {},
   "outputs": [
    {
     "data": {
      "text/plain": [
       "<title>No Starch Press | No Starch Press</title>"
      ]
     },
     "execution_count": 51,
     "metadata": {},
     "output_type": "execute_result"
    }
   ],
   "source": [
    "url.title"
   ]
  },
  {
   "cell_type": "code",
   "execution_count": 55,
   "metadata": {},
   "outputs": [
    {
     "data": {
      "text/plain": [
       "['No Starch Press | No Starch Press']"
      ]
     },
     "execution_count": 55,
     "metadata": {},
     "output_type": "execute_result"
    }
   ],
   "source": [
    "url.title.contents"
   ]
  },
  {
   "cell_type": "markdown",
   "metadata": {},
   "source": [
    "Calling a tag like a function is the same as calling its\n",
    "find_all() method. Eg. tag('a') returns a list of all the A tags\n",
    "found within this tag."
   ]
  },
  {
   "cell_type": "code",
   "execution_count": 60,
   "metadata": {
    "collapsed": true
   },
   "outputs": [
    {
     "data": {
      "text/plain": [
       "[<p class=\"cart-block-items collapsed uc-cart-empty\">There are no products in your shopping cart.</p>,\n",
       " <p><a href=\"/sparkfunarduino\">The Arduino Inventor's Guide</a> is a hands-on introduction to exploring electronics with Arduino for total beginners.</p>,\n",
       " <p><a href=\"https://www.nostarch.com/GrayHatCSharp\">Gray Hat C#</a> shows you how to use C#'s powerful set of core libraries to create and automate security tools.</p>,\n",
       " <p><a href=\"/iphoneappsforkids\">Coding iPhone Apps for Kids</a> teaches you how to program the iOS apps and games you’ve always wanted to make!</p>,\n",
       " <p><a href=\"/packetanalysis3\">Practical Packet Analysis, 3rd Ed.</a> teaches you how to use Wireshark for packet capture and analysis.</p>,\n",
       " <p><b><a href=\"/arduinoplayground\">Arduino Playground</a></b> is a collection of fun, geeky Arduino projects for experienced tinkerers in search of a new building challenge.</p>,\n",
       " <p><b><a href=\"/hardwarehacker\">The Hardware Hacker</a></b> is an illuminating career retrospective from Andrew “bunnie” Huang, one of the world’s most esteemed hackers.</p>,\n",
       " <p><a href=\"/facebookforseniors\">Facebook for Seniors</a> offers 12 step-by-step lessons for getting set up on the world’s largest networking site.</p>,\n",
       " <p><a href=\"/inventwithpython\">Invent Your Own Computer Games with Python</a> teaches you how to make your own versions of classic computer games.</p>,\n",
       " <p><a href=\"/scratchcards\">Scratch Coding Cards</a> is a deck of 75 activity cards with fun and simple programming projects for kids.</p>,\n",
       " <p><a href=\"/beautifulminecraft\">Beautiful Minecraft</a> is a stunning collection of artwork created in the most unlikely of mediums.</p>,\n",
       " <p><a href=\"/wcss2\">Wicked Cool Shell Scripts, 2nd Edition</a> is a collection of fun tools for sysadmins, web developers, and every Linux user.</p>,\n",
       " <p><a href=\"technicbuilder2\">The Unofficial LEGO Technic Builder's Guide, 2nd Ed.</a> shows how to create strong yet elegant machines and mechanisms.</p>,\n",
       " <p><a href=\"https://www.nostarch.com/gtfo\">PoC||GTFO</a> is a compilation of the wildly popular hacker zine of the same name. Contributions range from humorous poems to deeply technical essays.</p>,\n",
       " <p><a href=\"/microprocessors\">The Manga Guide to Microprocessors</a> is a comic guide to microprocessors, computer architecture, and digital operations. <i>Now Available in Early Access!</i></p>,\n",
       " <p><a href=\"/arduinohandbook2\">Arduino Project Handbook, Vol. 2</a> is a full-color guide to building 25 fun and practical projects with the low-cost Arduino microcontroller. <i>Now Available in Early Access!</i></p>,\n",
       " <p>The Python edition of <a href=\"https://www.nostarch.com/thinkpython\">Think Like a Programmer</a> will teach you how to solve problems with programming. <i>Now Available in Early Access!</i></p>,\n",
       " <p><a href=\"https://www.nostarch.com/computersforseniors\">Computers for Seniors</a> is a step-by-step guide to learning basic computer skills.</p>,\n",
       " <p><a href=\"/SeriousCrypto\">Serious Cryptography</a> is a practical guide to the past, present, and future of cryptographic systems and algorithms. <i>Now Available in Early Access!</i></p>,\n",
       " <p><a href=\"https://www.nostarch.com/legoarchitecture\">The LEGO Architecture Idea Book</a> shows you how to make realistic structures for your LEGO designs.</p>,\n",
       " <p><a href=\"/Rust\">The Rust Programming Language</a> is the official hands-on, no-nonsense guide to learning Rust, from the Rust developers at Mozilla. <i>Now Available in Early Access!</i></p>,\n",
       " <p>The <a href=\"/legotrains\">LEGO Trains Book</a> is an illustrated guide to the world of LEGO train building. </p>,\n",
       " <p><a href=\"/networkprotocols\">Attacking Network Protocols</a> is a deep-dive into network vulnerability discovery. <i>Now Available in Early Access!</i></p>,\n",
       " <p><a href=\"/azure\">Attacking Microsoft Azure</a> is a comprehensive guide to penetration testing cloud services deployed with Microsoft Azure.</p>,\n",
       " <p><a href=\"/missionpython\">Mission Python</a> will teach you how to program an adventure game in this hands-on, beginner-friendly introduction to coding in Python.</p>,\n",
       " <p><b><a href=\"/gameconsole\">The Game Console</a></b> is a visual history of video game technology, with gorgeous photos of more than 80 video game consoles manufactured since 1972.</p>,\n",
       " <p><a href=\"/mailchimp/subscribe\">Want sweet deals? <br/>Sign up for our newsletter.</a></p>,\n",
       " <p>Now available in <a href=\"/aboutearlyaccess\">Early Access</a>!</p>,\n",
       " <p>❧ <a href=\"/arduinohandbook2\">Arduino Project Handbook Vol. 2</a><br/>\n",
       " ❧ <a href=\"/networkprotocols\">Attacking Network Protocols</a><br/>\n",
       " ❧ <a href=\"/crackingcodes\">Cracking Codes with Python</a><br/>\n",
       " ❧ <a href=\"/learnjava\">Learn Java the Easy Way</a><br/>\n",
       " ❧ <a href=\"/microprocessors\">The Manga Guide to Microprocessors</a><br/>\n",
       " ❧ <a href=\"/practicalsql\">Practical SQL</a><br/>\n",
       " ❧ <a href=\"/rootkits\">Rootkits and Bootkits</a><br/>\n",
       " ❧ <a href=\"/Rust\">The Rust Programming Language</a><br/>\n",
       " ❧ <a href=\"/seriouscrypto\">Serious Cryptography</a><br/>\n",
       " ❧ <a href=\"/thinkpython\">Think Like a Programmer, Python Edition</a></p>,\n",
       " <p><b><a href=\"/nsm\" target=\"new\">The Practice of Network Security Monitoring</a></b> was inducted into the <b><a href=\"https://cybercanon.paloaltonetworks.com/\" target=\"new\">Cybersecurity Canon</a></b>.</p>,\n",
       " <p>Read Andrew “bunnie” Huang's <b><a href=\"https://www.reddit.com/r/netsec/comments/5xli3d/hi_im_bunnie_author_of_the_the_hardware_hacker/\" target=\"new\">Reddit AMA</a></b>.</p>,\n",
       " <p><b><a href=\"http://www.vox.com/videos/2017/2/6/14445516/minecraft-art-business-maps\" target=\"new\">Vox</a></b> interviewed the author of <b><a href=\"/beautifulminecraft\" target=\"new\">Beautiful Minecraft</a></b> and discovered how the game became an artistic medium.</p>,\n",
       " <p>“This is a look inside a mind without peer.” <b>Edward Snowden</b> on <b><a href=\"/hardwarehacker\" target=\"new\">The Hardware Hacker</a></b>.</p>,\n",
       " <p><b><a href=\"/facebookforseniors\" target=\"new\">Facebook for Seniors</a></b> is one of the <b><a href=\"http://www.wsj.com/articles/the-best-geeky-books-to-kick-off-the-new-year-1483637008\" target=\"new\">Wall Street Journal's</a></b> recommended geeky books to kick off the new year! </p>,\n",
       " <p>Natalie Rusk, creator of the <a href=\"/scratchcards\" target=\"new\"><b>Scratch Coding Cards</b></a>, shares tips for supporting creative coding on the <b><a href=\"https://www.iste.org/explore/articleDetail?articleid=864&amp;category=In-the-classroom&amp;article=5+ways+to+support+creative+coding\" target=\"new\">ISTE blog</a></b></p>,\n",
       " <p>Merry Brickmas! <a href=\"/legochristmas\" target=\"new\"><b>The LEGO Christmas Ornaments Book</b></a> is featured in <b><a href=\"/download/LEGOChristmasOrnaments_FamilyCircle.pdf\" target=\"new\">Family Circle Magazine</a></b> and <b><a href=\"http://www.chicagotribune.com/lifestyles/holiday/giftguide/sc-gift-guide-childrens-books-2016--gallery-20161108-photogallery.html\" target=\"new\">The Chicago Tribune</a></b>!</p>,\n",
       " <p>Dave Taylor, author of <b><a href=\"/wcss2\" target=\"new\">Wicked Cool Shell Scripts</a></b>, shares how to make an interactive calculator on <b><a href=\"https://opensource.com/article/16/12/calcshell-interactive-linux-command-line-calculator\" target=\"new\">Opensource.com</a></b></p>,\n",
       " <p>Bring your LEGO collection to life: <a href=\"/legoanimation\" target=\"new\"><b>The LEGO Animation Book</b></a> is included in <a href=\"http://www.theverge.com/a/holiday-gift-ideas-2016#lego-animation-book\" target=\"new\"><b>The Verge's Holiday Gift Guide</b></a>. </p>,\n",
       " <p>Need a few geeky summer reads? <b><a href=\"http://www.wsj.com/articles/three-books-every-geek-should-read-this-summer-1466715350\" target=\"new\">The Wall Street Journal</a></b> recommends <b><a href=\"/electronicsforkids\" target=\"new\">Electronics for Kids</a></b> and <b><a href=\"/searchtale\" target=\"new\">The CS Detective</a></b>! </p>,\n",
       " <p>The author of <b><a href=\"/tinylegowonders\" target=\"new\">Tiny LEGO Wonders</a></b>, Mattia Zamboni, was interviewed by Vice's <b><a href=\"https://thecreatorsproject.vice.com/blog/diy-lego-engineering-book\" target=\"new\">The Creators Project</a></b>.</p>,\n",
       " <p><b><a href=\"http://www.slj.com/2016/05/collection-development/read-watch-alikes/coding-lets-begin/#_\" target=\"new\">School Library Journal</a></b> recommends <b><a href=\"/scratchjr\" target=\"new\">The Official ScratchJr Book</a></b>, <b><a href=\"/teachkids\" target=\"new\">Teach Your Kids to Code</a></b>, and <b><a href=\"/doingmathwithpython\" target=\"new\">Doing Math with Python</a></b> for educators who want to teach coding.</p>,\n",
       " <p><b><a href=\"/carhacking\" target=\"new\">The Car Hacker's Handbook</a></b> is the <b><a href=\"http://www.wsj.com/articles/3-must-read-books-for-geeks-1458057671?tesla=y\" target=\"new\">Wall Street Journal's</a></b> latest must-read book for geeks! </p>,\n",
       " <p>No Starch Press founder, Bill Pollock, did a Reddit AMA with authors <a href=\"/metasploit\" target=\"new\">David Kennedy</a>, <a href=\"/hacking2.htm target=new\">Jon Erickson</a>, <a href=\"/malware\" target=\"new\">Michael Sikorski</a>, and <a href=\"/idapro2.htm\" target=\"new\">Chris Eagle</a>. Read the AMA <b><a href=\"https://www.reddit.com/r/netsec/comments/3waa8x/im_bill_pollock_no_starch_press_founder_im_here/\" target=\"new\">here</a></b>.</p>,\n",
       " <p>Why publish books about Scratch? The Scratch Foundation and Bill Pollock answer in this <a href=\"https://medium.com/scratchfoundation-blog/why-publish-books-about-scratch-7ea0b72cd9af\" target=\"new\"><b>Medium post</b></a>.</p>,\n",
       " <p>Be the Corbusier of LEGO: <a href=\"/legoarchitect\" target=\"new\"><b>The LEGO Architect</b></a> is included in <a href=\"http://graphics.wsj.com/off-duty-50/a-guide-to-fall-2015/1278/be-the-corbusier-of-lego\" target=\"new\"><b>The Wall Street Journal's guide to Fall's Best</b></a>.</p>,\n",
       " <p><a href=\"/smartgirlsguide\" target=\"new\"><b>The Smart Girl's Guide to Privacy</b></a> hits the cover of <a href=\"https://twitter.com/violetblue/status/652989002677534720/photo/1\" target=\"new\"><b>BUST Magazine</b></a>!</p>,\n",
       " <p>No Starch Press fans found <b><a href=\"https://twitter.com/billpollock/status/616127920042479616\" target=\"new\">our sticker</a></b> and <b><a href=\"https://twitter.com/aCaltum/status/596735294818385920\" target=\"new\">Hacking: The Art of Exploitation</a></b> in recent episodes of HBO's Silicon Valley!</p>,\n",
       " <p><a href=\"feeds/newbooks.xml\"><img align=\"left\" alt=\"RSS Feed\" border=\"0\" src=\"/misc/feed.png\" style=\"padding-bottom:8px; padding-right:8px;\"/>New Releases</a></p>,\n",
       " <p><a href=\"feeds/comingsoon.xml\"><img align=\"left\" alt=\"RSS Feed\" border=\"0\" src=\"/misc/feed.png\" style=\"padding-bottom:8px; padding-right:8px;\"/>Coming Soon</a></p>,\n",
       " <p><a href=\"/mailchimp/subscribe\"><img align=\"left\" alt=\"Newsletter\" border=\"0\" src=\"/sites/default/files/email-16.png\" style=\"padding-bottom:8px;padding-right:8px;\"/>Subscribe to Newsletter</a></p>,\n",
       " <p><a href=\"https://www.twitter.com/nostarch\"><img align=\"left\" alt=\"Twitter\" border=\"0\" src=\"/sites/default/files/twitter-16x16.png\" style=\"padding-bottom:8px;padding-right:8px;\"/>Twitter</a></p>,\n",
       " <p><a href=\"https://www.facebook.com/home.php?#/pages/No-Starch-Press/57041709833\"><img align=\"left\" alt=\"Facebook\" border=\"0\" src=\"/sites/default/files/facebook_small.png\" style=\"padding-bottom:8px;padding-right:8px;\"/>Facebook</a></p>]"
      ]
     },
     "execution_count": 60,
     "metadata": {},
     "output_type": "execute_result"
    }
   ],
   "source": [
    "url.find_all('p')"
   ]
  },
  {
   "cell_type": "code",
   "execution_count": 61,
   "metadata": {
    "collapsed": true
   },
   "outputs": [
    {
     "data": {
      "text/plain": [
       "[<a class=\"element-invisible element-focusable\" href=\"#main-content\">Skip to main content</a>,\n",
       " <a class=\"logo navbar-btn pull-left\" href=\"/\" title=\"Home\">\n",
       " <img alt=\"Home\" src=\"https://www.nostarch.com/sites/all/themes/nostarch/logo.png\"/>\n",
       " </a>,\n",
       " <a href=\"/catalog.htm\" title=\"Explore our catalog\">Catalog</a>,\n",
       " <a href=\"/media.htm\" title=\"Media contact\">Media</a>,\n",
       " <a href=\"/writeforus.htm\" title=\"Submit a book proposal\">Write for Us</a>,\n",
       " <a href=\"/about\" title=\"About No Starch Press\">About Us</a>,\n",
       " <a href=\"/catalog/design\">Art &amp; Design</a>,\n",
       " <a href=\"/catalog/gencomputing\">General Computing</a>,\n",
       " <a href=\"/catalog/security\">Hacking &amp; Computer Security</a>,\n",
       " <a href=\"/catalog/hardware\">Hardware / DIY</a>,\n",
       " <a href=\"/catalog/kids\">Kids</a>,\n",
       " <a href=\"/catalog/lego\">LEGO</a>,\n",
       " <a href=\"/catalog/legomindstorms\">LEGO<sup class=\"registered\">®</sup> MINDSTORMS</a>,\n",
       " <a href=\"/catalog/linuxbsdunix\">Linux &amp; BSD</a>,\n",
       " <a href=\"/catalog/manga\">Manga</a>,\n",
       " <a href=\"/catalog/programming\">Programming</a>,\n",
       " <a href=\"/catalog/python\">Python</a>,\n",
       " <a href=\"/catalog/science\">Science &amp; Math</a>,\n",
       " <a href=\"/catalog/sysadmin\">System Administration</a>,\n",
       " <a href=\"/catalog/earlyaccess\" style=\"font-weight:bold\">EARLY ACCESS</a>,\n",
       " <a href=\"/about_ebooks.htm\" style=\"color: red1;\">Free ebook edition with every print book purchased from nostarch.com!</a>,\n",
       " <a href=\"/cart\"><span class=\"cart-block-icon-empty\" title=\"View your shopping cart.\"></span></a>,\n",
       " <a href=\"/user\" title=\"\">My account</a>,\n",
       " <a href=\"/user?Array\">Log in</a>,\n",
       " <a href=\"http://nostarch.com/user/register\">Create account</a>,\n",
       " <a href=\"/scratch\"><img alt=\"Super Scratch Programming Adventure! \" class=\"img-responsive\" height=\"127\" src=\"https://www.nostarch.com/sites/default/files/styles/product/public/scratch2_frontcover_web.png?itok=VgtVTvzf\" title=\"Super Scratch Programming Adventure! \" width=\"90\"/></a>,\n",
       " <a href=\"/mg_physics.htm\"><img alt=\"The Manga Guide to Physics\" class=\"img-responsive\" height=\"119\" src=\"https://www.nostarch.com/sites/default/files/styles/product/public/manga_guide_to_physics.png?itok=Q45Zs_0K\" title=\"The Manga Guide to Physics\" width=\"90\"/></a>,\n",
       " <a href=\"/learnscratch\"><img alt=\"Learn to Program with Scratch\" class=\"img-responsive\" height=\"119\" src=\"https://www.nostarch.com/sites/default/files/styles/product/public/ltpws_coverweb-FINAL_1.png?itok=xSt3UqME\" title=\"Learn to Program with Scratch\" width=\"90\"/></a>,\n",
       " <a href=\"/legoarchitect\"><img alt=\"The LEGO Architect\" class=\"img-responsive\" height=\"90\" src=\"https://www.nostarch.com/sites/default/files/styles/product/public/architect_cover-front.png?itok=BAkr6BSY\" title=\"The LEGO Architect\" width=\"90\"/></a>,\n",
       " <a href=\"/tlcl\"><img alt=\"The Linux Command Line\" class=\"img-responsive\" height=\"119\" src=\"https://www.nostarch.com/sites/default/files/styles/product/public/linuxcommandline.png?itok=UwfBHN57\" title=\"The Linux Command Line\" width=\"90\"/></a>,\n",
       " <a id=\"main-content\"></a>,\n",
       " <a href=\"/sparkfunarduino\">The Arduino Inventor's Guide</a>,\n",
       " <a href=\"/sparkfunarduino\"><img alt=\"The Arduino Inventor's Guide\" class=\"img-responsive\" height=\"225\" src=\"https://www.nostarch.com/sites/default/files/styles/uc_product/public/ArduinoInventor%27sGuide_cover_0.png?itok=eSSQoSei\" title=\"The Arduino Inventor's Guide\" width=\"170\"/></a>,\n",
       " <a href=\"/sparkfunarduino\">The Arduino Inventor's Guide</a>,\n",
       " <a href=\"/grayhatcsharp\">Gray Hat C#</a>,\n",
       " <a href=\"/grayhatcsharp\"><img alt=\"Gray Hat C#\" class=\"img-responsive\" height=\"225\" src=\"https://www.nostarch.com/sites/default/files/styles/uc_product/public/GrayHatC_cover.png?itok=oFuFmPd9\" title=\"Gray Hat C#\" width=\"170\"/></a>,\n",
       " <a href=\"https://www.nostarch.com/GrayHatCSharp\">Gray Hat C#</a>,\n",
       " <a href=\"/iphoneappsforkids\">Coding iPhone Apps for Kids</a>,\n",
       " <a href=\"/iphoneappsforkids\"><img alt=\"Coding iPhone Apps for Kids\" class=\"img-responsive\" height=\"225\" src=\"https://www.nostarch.com/sites/default/files/styles/uc_product/public/CodingiPhoneAppsforKids_cover.png?itok=zfRGgmaL\" title=\"Coding iPhone Apps for Kids\" width=\"170\"/></a>,\n",
       " <a href=\"/iphoneappsforkids\">Coding iPhone Apps for Kids</a>,\n",
       " <a href=\"/packetanalysis3\">Practical Packet Analysis, 3rd Edition</a>,\n",
       " <a href=\"/packetanalysis3\"><img alt=\"Practical Packet Analysis, 3rd Edition\" class=\"img-responsive\" height=\"225\" src=\"https://www.nostarch.com/sites/default/files/styles/uc_product/public/PracticalPacketAnalysis3E_cover.png?itok=-Ekv2dOG\" title=\"Practical Packet Analysis, 3rd Edition\" width=\"170\"/></a>,\n",
       " <a href=\"/packetanalysis3\">Practical Packet Analysis, 3rd Ed.</a>,\n",
       " <a href=\"/arduinoplayground\">Arduino Playground</a>,\n",
       " <a href=\"/arduinoplayground\"><img alt=\"Arduino Playground\" class=\"img-responsive\" height=\"225\" src=\"https://www.nostarch.com/sites/default/files/styles/uc_product/public/ArduinoPlayground_cover_0.png?itok=rnNmQ8Nb\" title=\"Arduino Playground\" width=\"170\"/></a>,\n",
       " <a href=\"/arduinoplayground\">Arduino Playground</a>,\n",
       " <a href=\"/hardwarehacker\">Hardware Hacker</a>,\n",
       " <a href=\"/hardwarehacker\"><img alt=\"The Hardware Hacker \" class=\"img-responsive\" height=\"225\" src=\"https://www.nostarch.com/sites/default/files/styles/uc_product/public/HardwareHacker_cover.png?itok=HflMqyGu\" title=\"The Hardware Hacker \" width=\"149\"/></a>,\n",
       " <a href=\"/hardwarehacker\">The Hardware Hacker</a>,\n",
       " <a href=\"/facebookforseniors\">Facebook for Seniors</a>,\n",
       " <a href=\"/facebookforseniors\"><img alt=\"Facebook for Seniors\" class=\"img-responsive\" height=\"225\" src=\"https://www.nostarch.com/sites/default/files/styles/uc_product/public/FacebookforSeniors_cover.png?itok=h1dDDen0\" title=\"Facebook for Seniors\" width=\"171\"/></a>,\n",
       " <a href=\"/facebookforseniors\">Facebook for Seniors</a>,\n",
       " <a href=\"/inventwithpython\">Invent Your Own Computer Games with Python, 4th Edition</a>,\n",
       " <a href=\"/inventwithpython\"><img alt=\"Invent Your Own Computer Games with Python\" class=\"img-responsive\" height=\"225\" src=\"https://www.nostarch.com/sites/default/files/styles/uc_product/public/InventwithPython_cover.png?itok=usDh6ObT\" title=\"Invent Your Own Computer Games with Python \" width=\"170\"/></a>,\n",
       " <a href=\"/inventwithpython\">Invent Your Own Computer Games with Python</a>,\n",
       " <a href=\"/scratchcards\">Scratch Coding Cards</a>,\n",
       " <a href=\"/scratchcards\"><img alt=\"Scratch Coding Cards\" class=\"img-responsive\" height=\"225\" src=\"https://www.nostarch.com/sites/default/files/styles/uc_product/public/ScratchCodingCards_cover.png?itok=aHADN1Rk\" title=\"Scratch Coding Cards\" width=\"163\"/></a>,\n",
       " <a href=\"/scratchcards\">Scratch Coding Cards</a>,\n",
       " <a href=\"/beautifulminecraft\">Beautiful Minecraft </a>,\n",
       " <a href=\"/beautifulminecraft\"><img alt=\"Beautiful Minecraft\" class=\"img-responsive\" height=\"225\" src=\"https://www.nostarch.com/sites/default/files/styles/uc_product/public/BeautifulMinecraft_cover.png?itok=N04o6uBK\" title=\"Beautiful Minecraft\" width=\"181\"/></a>,\n",
       " <a href=\"/beautifulminecraft\">Beautiful Minecraft</a>,\n",
       " <a href=\"/wcss2\">Wicked Cool Shell Scripts, 2nd Edition</a>,\n",
       " <a href=\"/wcss2\"><img alt=\"Wicked Cool Shell Scripts, 2nd Edition\" class=\"img-responsive\" height=\"225\" src=\"https://www.nostarch.com/sites/default/files/styles/uc_product/public/WickedCoolShell2E_cover.png?itok=0rdub9xH\" title=\"Wicked Cool Shell Scripts, 2nd Edition\" width=\"170\"/></a>,\n",
       " <a href=\"/wcss2\">Wicked Cool Shell Scripts, 2nd Edition</a>,\n",
       " <a href=\"/technicbuilder2\">Unofficial LEGO Technic Builder's Guide, 2nd Edition</a>,\n",
       " <a href=\"/technicbuilder2\"><img alt=\"Unofficial LEGO Technic Builder's Guide, 2E\" class=\"img-responsive\" height=\"225\" src=\"https://www.nostarch.com/sites/default/files/styles/uc_product/public/UnofficialLEGOTechnicBuilder%27sGuide_cover.png?itok=m1ms4Imk\" title=\"Unofficial LEGO Technic Builder's Guide, 2E\" width=\"180\"/></a>,\n",
       " <a href=\"technicbuilder2\">The Unofficial LEGO Technic Builder's Guide, 2nd Ed.</a>,\n",
       " <a class=\"feed-icon\" href=\"https://www.nostarch.com/feeds/newbooks.xml\" title=\"Subscribe to No Starch Press - New Books\"><img alt=\"Subscribe to No Starch Press - New Books\" class=\"img-responsive\" height=\"16\" src=\"https://www.nostarch.com/misc/feed.png\" width=\"16\"/></a>,\n",
       " <a href=\"/upcoming.htm\">see all</a>,\n",
       " <a href=\"/gtfo\">PoC||GTFO</a>,\n",
       " <a href=\"/gtfo\"><img alt=\"\" class=\"img-responsive\" height=\"225\" src=\"https://www.nostarch.com/sites/default/files/styles/uc_product/public/POCGTFO_cover1_0.jpg?itok=XWtPfVbu\" width=\"160\"/></a>,\n",
       " <a href=\"https://www.nostarch.com/gtfo\">PoC||GTFO</a>,\n",
       " <a href=\"/microprocessors\">The Manga Guide to Microprocessors</a>,\n",
       " <a href=\"/microprocessors\"><img alt=\"The Manga Guide to Microprocessors\" class=\"img-responsive\" height=\"225\" src=\"https://www.nostarch.com/sites/default/files/styles/uc_product/public/MangaMicroprocessors_cover_0.png?itok=MxmdxH9e\" title=\"The Manga Guide to Microprocessors\" width=\"170\"/></a>,\n",
       " <a href=\"/microprocessors\">The Manga Guide to Microprocessors</a>,\n",
       " <a href=\"/arduinohandbook2\">Arduino Project Handbook, Vol. 2</a>,\n",
       " <a href=\"/arduinohandbook2\"><img alt=\"Arduino Project Handbook Vol. 2\" class=\"img-responsive\" height=\"225\" src=\"https://www.nostarch.com/sites/default/files/styles/uc_product/public/ArduinoProjectHandbookV2_cover.png?itok=FQBFwBYk\" title=\"Arduino Project Handbook Vol. 2\" width=\"170\"/></a>,\n",
       " <a href=\"/arduinohandbook2\">Arduino Project Handbook, Vol. 2</a>,\n",
       " <a href=\"/thinkpython\">Think Like a Programmer, Python Edition</a>,\n",
       " <a href=\"/thinkpython\"><img alt=\"Think Like a Programmer, Python Edition\" class=\"img-responsive\" height=\"225\" src=\"https://www.nostarch.com/sites/default/files/styles/uc_product/public/ThinkLikeaProgrammerPython_cover.png?itok=1yCoVJfA\" title=\"Think Like a Programmer, Python Edition\" width=\"170\"/></a>,\n",
       " <a href=\"https://www.nostarch.com/thinkpython\">Think Like a Programmer</a>,\n",
       " <a href=\"/computersforseniors\">Computers for Seniors</a>,\n",
       " <a href=\"/computersforseniors\"><img alt=\"Computers for Seniors\" class=\"img-responsive\" height=\"225\" src=\"https://www.nostarch.com/sites/default/files/styles/uc_product/public/ComputersforSeniors_cover.png?itok=sWPaSVC7\" title=\"Computers for Seniors\" width=\"170\"/></a>,\n",
       " <a href=\"https://www.nostarch.com/computersforseniors\">Computers for Seniors</a>,\n",
       " <a href=\"/seriouscrypto\">Serious Cryptography</a>,\n",
       " <a href=\"/seriouscrypto\"><img alt=\"Serious Cryptography\" class=\"img-responsive\" height=\"225\" src=\"https://www.nostarch.com/sites/default/files/styles/uc_product/public/SeriousCryptography_cover.png?itok=ACIX1o1n\" title=\"Serious Cryptography\" width=\"170\"/></a>,\n",
       " <a href=\"/SeriousCrypto\">Serious Cryptography</a>,\n",
       " <a href=\"/legoarchitecture\">The LEGO Architecture Idea Book</a>,\n",
       " <a href=\"/legoarchitecture\"><img alt=\"The LEGO Architecture Idea Book\" class=\"img-responsive\" height=\"225\" src=\"https://www.nostarch.com/sites/default/files/styles/uc_product/public/LEGOArchitectureIdea_cover.png?itok=F6vfksbY\" title=\"The LEGO Architecture Idea Book\" width=\"180\"/></a>,\n",
       " <a href=\"https://www.nostarch.com/legoarchitecture\">The LEGO Architecture Idea Book</a>,\n",
       " <a href=\"/Rust\">The Rust Programming Language</a>,\n",
       " <a href=\"/Rust\"><img alt=\"The Rust Programming Language\" class=\"img-responsive\" height=\"225\" src=\"https://www.nostarch.com/sites/default/files/styles/uc_product/public/RustProgrammingLanguage_cover_0.png?itok=iMBElPzn\" title=\"The Rust Programming Language\" width=\"170\"/></a>,\n",
       " <a href=\"/Rust\">The Rust Programming Language</a>,\n",
       " <a href=\"/legotrains\">LEGO Trains Book</a>,\n",
       " <a href=\"/legotrains\"><img alt=\"The LEGO Trains Book\" class=\"img-responsive\" height=\"225\" src=\"https://www.nostarch.com/sites/default/files/styles/uc_product/public/LEGOTrains_cover_0.png?itok=6okbw279\" title=\"The LEGO Trains Book\" width=\"180\"/></a>,\n",
       " <a href=\"/legotrains\">LEGO Trains Book</a>,\n",
       " <a href=\"/networkprotocols\">Attacking Network Protocols</a>,\n",
       " <a href=\"/networkprotocols\"><img alt=\"Attacking Network Protocols\" class=\"img-responsive\" height=\"225\" src=\"https://www.nostarch.com/sites/default/files/styles/uc_product/public/AttackingNetworkProtocols_cover.png?itok=R-DFW48y\" title=\"Attacking Network Protocols\" width=\"170\"/></a>,\n",
       " <a href=\"/networkprotocols\">Attacking Network Protocols</a>,\n",
       " <a href=\"/azure\">Attacking Microsoft Azure</a>,\n",
       " <a href=\"/azure\"><img alt=\"Attacking Microsoft Azure\" class=\"img-responsive\" height=\"225\" src=\"https://www.nostarch.com/sites/default/files/styles/uc_product/public/azure_cover-front.png?itok=J9wO3kPa\" title=\"Attacking Microsoft Azure\" width=\"170\"/></a>,\n",
       " <a href=\"/azure\">Attacking Microsoft Azure</a>,\n",
       " <a href=\"/missionpython\">Mission Python</a>,\n",
       " <a href=\"/missionpython\"><img alt=\"Mission Python\" class=\"img-responsive\" height=\"225\" src=\"https://www.nostarch.com/sites/default/files/styles/uc_product/public/MissionPython_cover.png?itok=dA6EPENa\" title=\"Mission Python\" width=\"170\"/></a>,\n",
       " <a href=\"/missionpython\">Mission Python</a>,\n",
       " <a href=\"/gameconsole\">Game Console</a>,\n",
       " <a href=\"/gameconsole\"><img alt=\"The Game Console\" class=\"img-responsive\" height=\"225\" src=\"https://www.nostarch.com/sites/default/files/styles/uc_product/public/gameconsole_cover.png?itok=S9JH4c1z\" title=\"The Game Console\" width=\"176\"/></a>,\n",
       " <a href=\"/gameconsole\">The Game Console</a>,\n",
       " <a class=\"feed-icon\" href=\"https://www.nostarch.com/feeds/comingsoon.xml\" title=\"Subscribe to No Starch Press - Coming Soon\"><img alt=\"Subscribe to No Starch Press - Coming Soon\" class=\"img-responsive\" height=\"16\" src=\"https://www.nostarch.com/misc/feed.png\" width=\"16\"/></a>,\n",
       " <a href=\"/mailchimp/subscribe\">Want sweet deals? <br/>Sign up for our newsletter.</a>,\n",
       " <a href=\"/aboutearlyaccess\">Early Access</a>,\n",
       " <a href=\"/arduinohandbook2\">Arduino Project Handbook Vol. 2</a>,\n",
       " <a href=\"/networkprotocols\">Attacking Network Protocols</a>,\n",
       " <a href=\"/crackingcodes\">Cracking Codes with Python</a>,\n",
       " <a href=\"/learnjava\">Learn Java the Easy Way</a>,\n",
       " <a href=\"/microprocessors\">The Manga Guide to Microprocessors</a>,\n",
       " <a href=\"/practicalsql\">Practical SQL</a>,\n",
       " <a href=\"/rootkits\">Rootkits and Bootkits</a>,\n",
       " <a href=\"/Rust\">The Rust Programming Language</a>,\n",
       " <a href=\"/seriouscrypto\">Serious Cryptography</a>,\n",
       " <a href=\"/thinkpython\">Think Like a Programmer, Python Edition</a>,\n",
       " <a href=\"/nsm\" target=\"new\">The Practice of Network Security Monitoring</a>,\n",
       " <a href=\"https://cybercanon.paloaltonetworks.com/\" target=\"new\">Cybersecurity Canon</a>,\n",
       " <a href=\"https://www.reddit.com/r/netsec/comments/5xli3d/hi_im_bunnie_author_of_the_the_hardware_hacker/\" target=\"new\">Reddit AMA</a>,\n",
       " <a href=\"http://www.vox.com/videos/2017/2/6/14445516/minecraft-art-business-maps\" target=\"new\">Vox</a>,\n",
       " <a href=\"/beautifulminecraft\" target=\"new\">Beautiful Minecraft</a>,\n",
       " <a href=\"/hardwarehacker\" target=\"new\">The Hardware Hacker</a>,\n",
       " <a href=\"/facebookforseniors\" target=\"new\">Facebook for Seniors</a>,\n",
       " <a href=\"http://www.wsj.com/articles/the-best-geeky-books-to-kick-off-the-new-year-1483637008\" target=\"new\">Wall Street Journal's</a>,\n",
       " <a href=\"/scratchcards\" target=\"new\"><b>Scratch Coding Cards</b></a>,\n",
       " <a href=\"https://www.iste.org/explore/articleDetail?articleid=864&amp;category=In-the-classroom&amp;article=5+ways+to+support+creative+coding\" target=\"new\">ISTE blog</a>,\n",
       " <a href=\"/legochristmas\" target=\"new\"><b>The LEGO Christmas Ornaments Book</b></a>,\n",
       " <a href=\"/download/LEGOChristmasOrnaments_FamilyCircle.pdf\" target=\"new\">Family Circle Magazine</a>,\n",
       " <a href=\"http://www.chicagotribune.com/lifestyles/holiday/giftguide/sc-gift-guide-childrens-books-2016--gallery-20161108-photogallery.html\" target=\"new\">The Chicago Tribune</a>,\n",
       " <a href=\"/wcss2\" target=\"new\">Wicked Cool Shell Scripts</a>,\n",
       " <a href=\"https://opensource.com/article/16/12/calcshell-interactive-linux-command-line-calculator\" target=\"new\">Opensource.com</a>,\n",
       " <a href=\"/legoanimation\" target=\"new\"><b>The LEGO Animation Book</b></a>,\n",
       " <a href=\"http://www.theverge.com/a/holiday-gift-ideas-2016#lego-animation-book\" target=\"new\"><b>The Verge's Holiday Gift Guide</b></a>,\n",
       " <a href=\"http://www.wsj.com/articles/three-books-every-geek-should-read-this-summer-1466715350\" target=\"new\">The Wall Street Journal</a>,\n",
       " <a href=\"/electronicsforkids\" target=\"new\">Electronics for Kids</a>,\n",
       " <a href=\"/searchtale\" target=\"new\">The CS Detective</a>,\n",
       " <a href=\"/tinylegowonders\" target=\"new\">Tiny LEGO Wonders</a>,\n",
       " <a href=\"https://thecreatorsproject.vice.com/blog/diy-lego-engineering-book\" target=\"new\">The Creators Project</a>,\n",
       " <a href=\"http://www.slj.com/2016/05/collection-development/read-watch-alikes/coding-lets-begin/#_\" target=\"new\">School Library Journal</a>,\n",
       " <a href=\"/scratchjr\" target=\"new\">The Official ScratchJr Book</a>,\n",
       " <a href=\"/teachkids\" target=\"new\">Teach Your Kids to Code</a>,\n",
       " <a href=\"/doingmathwithpython\" target=\"new\">Doing Math with Python</a>,\n",
       " <a href=\"/carhacking\" target=\"new\">The Car Hacker's Handbook</a>,\n",
       " <a href=\"http://www.wsj.com/articles/3-must-read-books-for-geeks-1458057671?tesla=y\" target=\"new\">Wall Street Journal's</a>,\n",
       " <a href=\"/metasploit\" target=\"new\">David Kennedy</a>,\n",
       " <a href=\"/hacking2.htm target=new\">Jon Erickson</a>,\n",
       " <a href=\"/malware\" target=\"new\">Michael Sikorski</a>,\n",
       " <a href=\"/idapro2.htm\" target=\"new\">Chris Eagle</a>,\n",
       " <a href=\"https://www.reddit.com/r/netsec/comments/3waa8x/im_bill_pollock_no_starch_press_founder_im_here/\" target=\"new\">here</a>,\n",
       " <a href=\"https://medium.com/scratchfoundation-blog/why-publish-books-about-scratch-7ea0b72cd9af\" target=\"new\"><b>Medium post</b></a>,\n",
       " <a href=\"/legoarchitect\" target=\"new\"><b>The LEGO Architect</b></a>,\n",
       " <a href=\"http://graphics.wsj.com/off-duty-50/a-guide-to-fall-2015/1278/be-the-corbusier-of-lego\" target=\"new\"><b>The Wall Street Journal's guide to Fall's Best</b></a>,\n",
       " <a href=\"/smartgirlsguide\" target=\"new\"><b>The Smart Girl's Guide to Privacy</b></a>,\n",
       " <a href=\"https://twitter.com/violetblue/status/652989002677534720/photo/1\" target=\"new\"><b>BUST Magazine</b></a>,\n",
       " <a href=\"https://twitter.com/billpollock/status/616127920042479616\" target=\"new\">our sticker</a>,\n",
       " <a href=\"https://twitter.com/aCaltum/status/596735294818385920\" target=\"new\">Hacking: The Art of Exploitation</a>,\n",
       " <a href=\"feeds/newbooks.xml\"><img align=\"left\" alt=\"RSS Feed\" border=\"0\" src=\"/misc/feed.png\" style=\"padding-bottom:8px; padding-right:8px;\"/>New Releases</a>,\n",
       " <a href=\"feeds/comingsoon.xml\"><img align=\"left\" alt=\"RSS Feed\" border=\"0\" src=\"/misc/feed.png\" style=\"padding-bottom:8px; padding-right:8px;\"/>Coming Soon</a>,\n",
       " <a href=\"/mailchimp/subscribe\"><img align=\"left\" alt=\"Newsletter\" border=\"0\" src=\"/sites/default/files/email-16.png\" style=\"padding-bottom:8px;padding-right:8px;\"/>Subscribe to Newsletter</a>,\n",
       " <a href=\"https://www.twitter.com/nostarch\"><img align=\"left\" alt=\"Twitter\" border=\"0\" src=\"/sites/default/files/twitter-16x16.png\" style=\"padding-bottom:8px;padding-right:8px;\"/>Twitter</a>,\n",
       " <a href=\"https://www.facebook.com/home.php?#/pages/No-Starch-Press/57041709833\"><img align=\"left\" alt=\"Facebook\" border=\"0\" src=\"/sites/default/files/facebook_small.png\" style=\"padding-bottom:8px;padding-right:8px;\"/>Facebook</a>,\n",
       " <a class=\"footer-links\" href=\"/about.htm\">About Us</a>,\n",
       " <a class=\"footer-links\" href=\"/Jobs.htm\">Jobs</a>,\n",
       " <a class=\"footer-links\" href=\"/distribution.htm\">Sales and Distribution</a>,\n",
       " <a class=\"footer-links\" href=\"/rights\">Rights</a>,\n",
       " <a class=\"footer-links\" href=\"/media.htm\">Media</a>,\n",
       " <a class=\"footer-links\" href=\"/academic.htm\">Academic Requests</a>,\n",
       " <a class=\"footer-links\" href=\"/conferences.htm\">Conferences</a>,\n",
       " <a class=\"footer-links\" href=\"/orderfaq.htm\">Order FAQ</a>,\n",
       " <a class=\"footer-links\" href=\"/contactus.htm\">Contact Us</a>,\n",
       " <a class=\"footer-links\" href=\"/writeforus.htm\">Write for Us</a>,\n",
       " <a class=\"footer-links\" href=\"/privacypolicy.htm\">Privacy</a>]"
      ]
     },
     "execution_count": 61,
     "metadata": {},
     "output_type": "execute_result"
    }
   ],
   "source": [
    "\n",
    "url.find_all('a')"
   ]
  },
  {
   "cell_type": "code",
   "execution_count": 87,
   "metadata": {
    "collapsed": true
   },
   "outputs": [],
   "source": [
    "lista_href = url.find_all('a')"
   ]
  },
  {
   "cell_type": "code",
   "execution_count": 90,
   "metadata": {
    "collapsed": true
   },
   "outputs": [],
   "source": [
    "# Lista vacia\n",
    "resultados = []\n",
    "\n",
    "\n",
    "for item_a in lista_href:\n",
    "    # Asignamos un valor a la lista\n",
    "    resultados.append(str(item_a.get_text()))\n",
    "    "
   ]
  },
  {
   "cell_type": "code",
   "execution_count": 91,
   "metadata": {
    "collapsed": true
   },
   "outputs": [
    {
     "data": {
      "text/plain": [
       "['Skip to main content',\n",
       " '\\n\\n',\n",
       " 'Catalog',\n",
       " 'Media',\n",
       " 'Write for Us',\n",
       " 'About Us',\n",
       " 'Art & Design',\n",
       " 'General Computing',\n",
       " 'Hacking & Computer Security',\n",
       " 'Hardware / DIY',\n",
       " 'Kids',\n",
       " 'LEGO',\n",
       " 'LEGO® MINDSTORMS',\n",
       " 'Linux & BSD',\n",
       " 'Manga',\n",
       " 'Programming',\n",
       " 'Python',\n",
       " 'Science & Math',\n",
       " 'System Administration',\n",
       " 'EARLY ACCESS',\n",
       " 'Free ebook edition with every print book purchased from nostarch.com!',\n",
       " '',\n",
       " 'My account',\n",
       " 'Log in',\n",
       " 'Create account',\n",
       " '',\n",
       " '',\n",
       " '',\n",
       " '',\n",
       " '',\n",
       " '',\n",
       " \"The Arduino Inventor's Guide\",\n",
       " '',\n",
       " \"The Arduino Inventor's Guide\",\n",
       " 'Gray Hat C#',\n",
       " '',\n",
       " 'Gray Hat C#',\n",
       " 'Coding iPhone Apps for Kids',\n",
       " '',\n",
       " 'Coding iPhone Apps for Kids',\n",
       " 'Practical Packet Analysis, 3rd Edition',\n",
       " '',\n",
       " 'Practical Packet Analysis, 3rd Ed.',\n",
       " 'Arduino Playground',\n",
       " '',\n",
       " 'Arduino Playground',\n",
       " 'Hardware Hacker',\n",
       " '',\n",
       " 'The Hardware Hacker',\n",
       " 'Facebook for Seniors',\n",
       " '',\n",
       " 'Facebook for Seniors',\n",
       " 'Invent Your Own Computer Games with Python, 4th Edition',\n",
       " '',\n",
       " 'Invent Your Own Computer Games with Python',\n",
       " 'Scratch Coding Cards',\n",
       " '',\n",
       " 'Scratch Coding Cards',\n",
       " 'Beautiful Minecraft ',\n",
       " '',\n",
       " 'Beautiful Minecraft',\n",
       " 'Wicked Cool Shell Scripts, 2nd Edition',\n",
       " '',\n",
       " 'Wicked Cool Shell Scripts, 2nd Edition',\n",
       " \"Unofficial LEGO Technic Builder's Guide, 2nd Edition\",\n",
       " '',\n",
       " \"The Unofficial LEGO Technic Builder's Guide, 2nd Ed.\",\n",
       " '',\n",
       " 'see all',\n",
       " 'PoC||GTFO',\n",
       " '',\n",
       " 'PoC||GTFO',\n",
       " 'The Manga Guide to Microprocessors',\n",
       " '',\n",
       " 'The Manga Guide to Microprocessors',\n",
       " 'Arduino Project Handbook, Vol. 2',\n",
       " '',\n",
       " 'Arduino Project Handbook, Vol. 2',\n",
       " 'Think Like a Programmer, Python Edition',\n",
       " '',\n",
       " 'Think Like a Programmer',\n",
       " 'Computers for Seniors',\n",
       " '',\n",
       " 'Computers for Seniors',\n",
       " 'Serious Cryptography',\n",
       " '',\n",
       " 'Serious Cryptography',\n",
       " 'The LEGO Architecture Idea Book',\n",
       " '',\n",
       " 'The LEGO Architecture Idea Book',\n",
       " 'The Rust Programming Language',\n",
       " '',\n",
       " 'The Rust Programming Language',\n",
       " 'LEGO Trains Book',\n",
       " '',\n",
       " 'LEGO Trains Book',\n",
       " 'Attacking Network Protocols',\n",
       " '',\n",
       " 'Attacking Network Protocols',\n",
       " 'Attacking Microsoft Azure',\n",
       " '',\n",
       " 'Attacking Microsoft Azure',\n",
       " 'Mission Python',\n",
       " '',\n",
       " 'Mission Python',\n",
       " 'Game Console',\n",
       " '',\n",
       " 'The Game Console',\n",
       " '',\n",
       " 'Want sweet deals? Sign up for our newsletter.',\n",
       " 'Early Access',\n",
       " 'Arduino Project Handbook Vol. 2',\n",
       " 'Attacking Network Protocols',\n",
       " 'Cracking Codes with Python',\n",
       " 'Learn Java the Easy Way',\n",
       " 'The Manga Guide to Microprocessors',\n",
       " 'Practical SQL',\n",
       " 'Rootkits and Bootkits',\n",
       " 'The Rust Programming Language',\n",
       " 'Serious Cryptography',\n",
       " 'Think Like a Programmer, Python Edition',\n",
       " 'The Practice of Network Security Monitoring',\n",
       " 'Cybersecurity Canon',\n",
       " 'Reddit AMA',\n",
       " 'Vox',\n",
       " 'Beautiful Minecraft',\n",
       " 'The Hardware Hacker',\n",
       " 'Facebook for Seniors',\n",
       " \"Wall Street Journal's\",\n",
       " 'Scratch Coding Cards',\n",
       " 'ISTE blog',\n",
       " 'The LEGO Christmas Ornaments Book',\n",
       " 'Family Circle Magazine',\n",
       " 'The Chicago Tribune',\n",
       " 'Wicked Cool Shell Scripts',\n",
       " 'Opensource.com',\n",
       " 'The LEGO Animation Book',\n",
       " \"The Verge's Holiday Gift Guide\",\n",
       " 'The Wall Street Journal',\n",
       " 'Electronics for Kids',\n",
       " 'The CS Detective',\n",
       " 'Tiny LEGO Wonders',\n",
       " 'The Creators Project',\n",
       " 'School Library Journal',\n",
       " 'The Official ScratchJr Book',\n",
       " 'Teach Your Kids to Code',\n",
       " 'Doing Math with Python',\n",
       " \"The Car Hacker's Handbook\",\n",
       " \"Wall Street Journal's\",\n",
       " 'David Kennedy',\n",
       " 'Jon Erickson',\n",
       " 'Michael Sikorski',\n",
       " 'Chris Eagle',\n",
       " 'here',\n",
       " 'Medium post',\n",
       " 'The LEGO Architect',\n",
       " \"The Wall Street Journal's guide to Fall's Best\",\n",
       " \"The Smart Girl's Guide to Privacy\",\n",
       " 'BUST Magazine',\n",
       " 'our sticker',\n",
       " 'Hacking: The Art of Exploitation',\n",
       " 'New Releases',\n",
       " 'Coming Soon',\n",
       " 'Subscribe to Newsletter',\n",
       " 'Twitter',\n",
       " 'Facebook',\n",
       " 'About Us',\n",
       " 'Jobs',\n",
       " 'Sales and Distribution',\n",
       " 'Rights',\n",
       " 'Media',\n",
       " 'Academic Requests',\n",
       " 'Conferences',\n",
       " 'Order FAQ',\n",
       " 'Contact Us',\n",
       " 'Write for Us',\n",
       " 'Privacy']"
      ]
     },
     "execution_count": 91,
     "metadata": {},
     "output_type": "execute_result"
    }
   ],
   "source": [
    "resultados"
   ]
  },
  {
   "cell_type": "code",
   "execution_count": 94,
   "metadata": {},
   "outputs": [],
   "source": [
    "serie_pandas = pd.Series(resultados)"
   ]
  },
  {
   "cell_type": "code",
   "execution_count": 98,
   "metadata": {},
   "outputs": [],
   "source": [
    "df_resultados = pd.DataFrame(serie_pandas)"
   ]
  },
  {
   "cell_type": "code",
   "execution_count": 102,
   "metadata": {},
   "outputs": [],
   "source": [
    "df_resultados = df_resultados[df_resultados[0] != 'Skip to main content']"
   ]
  },
  {
   "cell_type": "code",
   "execution_count": 106,
   "metadata": {},
   "outputs": [],
   "source": [
    "df_resultados = df_resultados[df_resultados[0] != '\\n\\n']"
   ]
  },
  {
   "cell_type": "code",
   "execution_count": 111,
   "metadata": {},
   "outputs": [],
   "source": [
    "df_resultados =  df_resultados[(df_resultados[0] != 'Catalog')\n",
    "                              & (df_resultados[0] != 'Media')\n",
    "                              & (df_resultados[0] != 'Write for Us')\n",
    "                              & (df_resultados[0] != '')\n",
    "                              & (df_resultados[0] != 'About Us')\n",
    "                              & (df_resultados[0] != 'My account')\n",
    "                              & (df_resultados[0] != 'Facebook')]"
   ]
  },
  {
   "cell_type": "markdown",
   "metadata": {},
   "source": [
    "# Selección por herencia DOM"
   ]
  },
  {
   "cell_type": "markdown",
   "metadata": {},
   "source": [
    "<img src=\"img/dom-tree.png\" />"
   ]
  },
  {
   "cell_type": "markdown",
   "metadata": {},
   "source": [
    "### Herencia DOM: tr > td  > a"
   ]
  },
  {
   "cell_type": "code",
   "execution_count": 114,
   "metadata": {},
   "outputs": [],
   "source": [
    "hacker_news_url = 'https://news.ycombinator.com/news'"
   ]
  },
  {
   "cell_type": "code",
   "execution_count": 116,
   "metadata": {},
   "outputs": [],
   "source": [
    "hacker_news_url = BeautifulSoup(requests.get(hacker_news_url).text, \"lxml\")"
   ]
  },
  {
   "cell_type": "code",
   "execution_count": 127,
   "metadata": {
    "collapsed": true
   },
   "outputs": [],
   "source": [
    "# Seleccionar todos los enlaces (a href='')\n",
    "\n",
    "# REGEX \n",
    "lista_href = hacker_news_url.select('tr > td > a[href*=\".\"]')"
   ]
  },
  {
   "cell_type": "code",
   "execution_count": 128,
   "metadata": {},
   "outputs": [],
   "source": [
    "resultados = []\n",
    "\n",
    "for item in lista_href:\n",
    "    # Asignamos un valor a la lista\n",
    "    resultados.append(str(item.get_text()))"
   ]
  },
  {
   "cell_type": "code",
   "execution_count": 141,
   "metadata": {},
   "outputs": [],
   "source": [
    "df_hackernews = pd.DataFrame(pd.Series(resultados))\n",
    "\n",
    "df_hackernews = df_hackernews[df_hackernews[0] != '']"
   ]
  },
  {
   "cell_type": "code",
   "execution_count": 143,
   "metadata": {},
   "outputs": [
    {
     "data": {
      "text/html": [
       "<div>\n",
       "<style>\n",
       "    .dataframe thead tr:only-child th {\n",
       "        text-align: right;\n",
       "    }\n",
       "\n",
       "    .dataframe thead th {\n",
       "        text-align: left;\n",
       "    }\n",
       "\n",
       "    .dataframe tbody tr th {\n",
       "        vertical-align: top;\n",
       "    }\n",
       "</style>\n",
       "<table border=\"1\" class=\"dataframe\">\n",
       "  <thead>\n",
       "    <tr style=\"text-align: right;\">\n",
       "      <th></th>\n",
       "      <th>0</th>\n",
       "    </tr>\n",
       "  </thead>\n",
       "  <tbody>\n",
       "    <tr>\n",
       "      <th>1</th>\n",
       "      <td>SEC Files Fraud Charges in Bitcoin and Office ...</td>\n",
       "    </tr>\n",
       "    <tr>\n",
       "      <th>2</th>\n",
       "      <td>Saved by Alice</td>\n",
       "    </tr>\n",
       "    <tr>\n",
       "      <th>3</th>\n",
       "      <td>Building Pixels – A Daily Source of Inspiration</td>\n",
       "    </tr>\n",
       "    <tr>\n",
       "      <th>4</th>\n",
       "      <td>What is ‘skip locked’ for in PostgreSQL 9.5? (...</td>\n",
       "    </tr>\n",
       "    <tr>\n",
       "      <th>5</th>\n",
       "      <td>Why does Heap's algorithm work? (2016)</td>\n",
       "    </tr>\n",
       "    <tr>\n",
       "      <th>6</th>\n",
       "      <td>React, Relay and GraphQL: Under the Hood of Th...</td>\n",
       "    </tr>\n",
       "    <tr>\n",
       "      <th>7</th>\n",
       "      <td>WiFi232 – An Internet Hayes Modem for Your Ret...</td>\n",
       "    </tr>\n",
       "    <tr>\n",
       "      <th>8</th>\n",
       "      <td>Teaching and Learning “What Is Mathematics” [pdf]</td>\n",
       "    </tr>\n",
       "    <tr>\n",
       "      <th>9</th>\n",
       "      <td>Deako (YC W16) Is Hiring a Back End and Front ...</td>\n",
       "    </tr>\n",
       "    <tr>\n",
       "      <th>10</th>\n",
       "      <td>Cicada – Unix shell written in Rust</td>\n",
       "    </tr>\n",
       "    <tr>\n",
       "      <th>11</th>\n",
       "      <td>Striking Gemini Images Point Juno Spacecraft T...</td>\n",
       "    </tr>\n",
       "    <tr>\n",
       "      <th>12</th>\n",
       "      <td>Dissecting objc_msgSend on ARM64</td>\n",
       "    </tr>\n",
       "    <tr>\n",
       "      <th>13</th>\n",
       "      <td>Myth-Maker of the Brothel: Utamaro's woodblock...</td>\n",
       "    </tr>\n",
       "    <tr>\n",
       "      <th>14</th>\n",
       "      <td>What is a file? (2011)</td>\n",
       "    </tr>\n",
       "    <tr>\n",
       "      <th>15</th>\n",
       "      <td>NYPD is canceling its Palantir contract</td>\n",
       "    </tr>\n",
       "    <tr>\n",
       "      <th>16</th>\n",
       "      <td>Nevada becomes fifth US state to allow cannabi...</td>\n",
       "    </tr>\n",
       "    <tr>\n",
       "      <th>17</th>\n",
       "      <td>What Chinese bosses think of American workers</td>\n",
       "    </tr>\n",
       "    <tr>\n",
       "      <th>18</th>\n",
       "      <td>Dolphin Progress Report</td>\n",
       "    </tr>\n",
       "    <tr>\n",
       "      <th>19</th>\n",
       "      <td>Solving the Mystery of Whose Laughter Is On th...</td>\n",
       "    </tr>\n",
       "    <tr>\n",
       "      <th>20</th>\n",
       "      <td>The case of the 500-mile email (2002)</td>\n",
       "    </tr>\n",
       "    <tr>\n",
       "      <th>21</th>\n",
       "      <td>The Accumulibrary (2014)</td>\n",
       "    </tr>\n",
       "    <tr>\n",
       "      <th>22</th>\n",
       "      <td>Making a good impression: the British Library'...</td>\n",
       "    </tr>\n",
       "    <tr>\n",
       "      <th>23</th>\n",
       "      <td>Microsoft’s Embedded Learning Library</td>\n",
       "    </tr>\n",
       "    <tr>\n",
       "      <th>24</th>\n",
       "      <td>What to Blame for Your Stomach Bug? Not Always...</td>\n",
       "    </tr>\n",
       "    <tr>\n",
       "      <th>25</th>\n",
       "      <td>Silicon Valley Women, in Cultural Shift, Frank...</td>\n",
       "    </tr>\n",
       "    <tr>\n",
       "      <th>26</th>\n",
       "      <td>I ask 100 information questions to four digita...</td>\n",
       "    </tr>\n",
       "    <tr>\n",
       "      <th>27</th>\n",
       "      <td>The Life, Death, and Legacy of iPhone Jailbrea...</td>\n",
       "    </tr>\n",
       "    <tr>\n",
       "      <th>28</th>\n",
       "      <td>In the summer of 1962, the U.S. blew up a hydr...</td>\n",
       "    </tr>\n",
       "    <tr>\n",
       "      <th>29</th>\n",
       "      <td>Why We Chose Typescript</td>\n",
       "    </tr>\n",
       "  </tbody>\n",
       "</table>\n",
       "</div>"
      ],
      "text/plain": [
       "                                                    0\n",
       "1   SEC Files Fraud Charges in Bitcoin and Office ...\n",
       "2                                      Saved by Alice\n",
       "3     Building Pixels – A Daily Source of Inspiration\n",
       "4   What is ‘skip locked’ for in PostgreSQL 9.5? (...\n",
       "5              Why does Heap's algorithm work? (2016)\n",
       "6   React, Relay and GraphQL: Under the Hood of Th...\n",
       "7   WiFi232 – An Internet Hayes Modem for Your Ret...\n",
       "8   Teaching and Learning “What Is Mathematics” [pdf]\n",
       "9   Deako (YC W16) Is Hiring a Back End and Front ...\n",
       "10                Cicada – Unix shell written in Rust\n",
       "11  Striking Gemini Images Point Juno Spacecraft T...\n",
       "12                   Dissecting objc_msgSend on ARM64\n",
       "13  Myth-Maker of the Brothel: Utamaro's woodblock...\n",
       "14                             What is a file? (2011)\n",
       "15            NYPD is canceling its Palantir contract\n",
       "16  Nevada becomes fifth US state to allow cannabi...\n",
       "17      What Chinese bosses think of American workers\n",
       "18                            Dolphin Progress Report\n",
       "19  Solving the Mystery of Whose Laughter Is On th...\n",
       "20              The case of the 500-mile email (2002)\n",
       "21                           The Accumulibrary (2014)\n",
       "22  Making a good impression: the British Library'...\n",
       "23              Microsoft’s Embedded Learning Library\n",
       "24  What to Blame for Your Stomach Bug? Not Always...\n",
       "25  Silicon Valley Women, in Cultural Shift, Frank...\n",
       "26  I ask 100 information questions to four digita...\n",
       "27  The Life, Death, and Legacy of iPhone Jailbrea...\n",
       "28  In the summer of 1962, the U.S. blew up a hydr...\n",
       "29                            Why We Chose Typescript"
      ]
     },
     "execution_count": 143,
     "metadata": {},
     "output_type": "execute_result"
    }
   ],
   "source": [
    "df_hackernews"
   ]
  },
  {
   "cell_type": "code",
   "execution_count": null,
   "metadata": {
    "collapsed": true
   },
   "outputs": [],
   "source": []
  }
 ],
 "metadata": {
  "kernelspec": {
   "display_name": "Python 3",
   "language": "python",
   "name": "python3"
  },
  "language_info": {
   "codemirror_mode": {
    "name": "ipython",
    "version": 3
   },
   "file_extension": ".py",
   "mimetype": "text/x-python",
   "name": "python",
   "nbconvert_exporter": "python",
   "pygments_lexer": "ipython3",
   "version": "3.6.1"
  }
 },
 "nbformat": 4,
 "nbformat_minor": 2
}
