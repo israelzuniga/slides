{
 "cells": [
  {
   "cell_type": "code",
   "execution_count": null,
   "metadata": {
    "collapsed": true
   },
   "outputs": [],
   "source": []
  },
  {
   "cell_type": "code",
   "execution_count": 2,
   "metadata": {},
   "outputs": [],
   "source": [
    "from bs4 import BeautifulSoup\n",
    "import requests\n",
    "# import psycopg2\n",
    "import re\n",
    "import pandas"
   ]
  },
  {
   "cell_type": "markdown",
   "metadata": {},
   "source": [
    "## Jerarquía de elementos HTML"
   ]
  },
  {
   "cell_type": "markdown",
   "metadata": {},
   "source": [
    "<img src=\"img/html.png\"/>"
   ]
  },
  {
   "cell_type": "markdown",
   "metadata": {},
   "source": [
    "## DOM (Document Object Mode)\n",
    "\n",
    "<img src=\"img/dom-tree.png\" />"
   ]
  },
  {
   "cell_type": "markdown",
   "metadata": {},
   "source": [
    "### Obteniendo nuestro primer documento web"
   ]
  },
  {
   "cell_type": "code",
   "execution_count": 3,
   "metadata": {
    "collapsed": true
   },
   "outputs": [],
   "source": [
    "URL = 'http://nostarch.com'\n",
    "URL = BeautifulSoup(requests.get(URL).text, \"lxml\")"
   ]
  },
  {
   "cell_type": "markdown",
   "metadata": {},
   "source": [
    "#### BeautifulSoup nos otorga una estructura de datos para manipular el objeto:"
   ]
  },
  {
   "cell_type": "code",
   "execution_count": 4,
   "metadata": {},
   "outputs": [
    {
     "data": {
      "text/plain": [
       "(<title>No Starch Press | No Starch Press</title>,\n",
       " 'title',\n",
       " 'No Starch Press | No Starch Press')"
      ]
     },
     "execution_count": 4,
     "metadata": {},
     "output_type": "execute_result"
    }
   ],
   "source": [
    "URL.title, URL.title.name, URL.title.string"
   ]
  },
  {
   "cell_type": "code",
   "execution_count": null,
   "metadata": {},
   "outputs": [],
   "source": [
    "URL.title.parent.name"
   ]
  },
  {
   "cell_type": "code",
   "execution_count": null,
   "metadata": {},
   "outputs": [],
   "source": [
    "# HTML: <p>\n",
    "URL.p"
   ]
  },
  {
   "cell_type": "code",
   "execution_count": null,
   "metadata": {},
   "outputs": [],
   "source": [
    "URL.body.b, URL.a"
   ]
  },
  {
   "cell_type": "markdown",
   "metadata": {},
   "source": [
    "## Ejercicio:\n",
    "\n",
    "Crear una función que reciba una URL y regrese el título (title)"
   ]
  },
  {
   "cell_type": "code",
   "execution_count": null,
   "metadata": {
    "collapsed": true
   },
   "outputs": [],
   "source": [
    "# Ejercicio\n",
    "\n",
    "\n",
    "\n",
    "# Ejercicio"
   ]
  },
  {
   "cell_type": "code",
   "execution_count": null,
   "metadata": {},
   "outputs": [],
   "source": [
    "# Buscar todas las etiquetas\n",
    "\n",
    "URL.find_all('p')"
   ]
  },
  {
   "cell_type": "code",
   "execution_count": null,
   "metadata": {},
   "outputs": [],
   "source": [
    "# Buscar todas las etiquetas\n",
    "\n",
    "URL.find_all('a')"
   ]
  },
  {
   "cell_type": "code",
   "execution_count": 5,
   "metadata": {},
   "outputs": [],
   "source": [
    "# Seleccion por clase\n",
    "\n",
    "URL.find_all('div', class_='product-body')\n",
    "\n",
    "lista = URL.find_all('div', class_='product-body')"
   ]
  },
  {
   "cell_type": "markdown",
   "metadata": {},
   "source": [
    "Comprobar los resultados:"
   ]
  },
  {
   "cell_type": "code",
   "execution_count": 6,
   "metadata": {},
   "outputs": [
    {
     "ename": "IndexError",
     "evalue": "list index out of range",
     "output_type": "error",
     "traceback": [
      "\u001b[0;31m---------------------------------------------------------------------------\u001b[0m",
      "\u001b[0;31mIndexError\u001b[0m                                Traceback (most recent call last)",
      "\u001b[0;32m<ipython-input-6-a50bb97424e3>\u001b[0m in \u001b[0;36m<module>\u001b[0;34m()\u001b[0m\n\u001b[0;32m----> 1\u001b[0;31m \u001b[0mlista\u001b[0m\u001b[0;34m[\u001b[0m\u001b[0;36m0\u001b[0m\u001b[0;34m]\u001b[0m\u001b[0;34m.\u001b[0m\u001b[0ma\u001b[0m\u001b[0;34m.\u001b[0m\u001b[0mget_text\u001b[0m\u001b[0;34m(\u001b[0m\u001b[0;34m)\u001b[0m\u001b[0;34m,\u001b[0m \u001b[0mlista\u001b[0m\u001b[0;34m[\u001b[0m\u001b[0;36m0\u001b[0m\u001b[0;34m]\u001b[0m\u001b[0;34m.\u001b[0m\u001b[0ma\u001b[0m\u001b[0;34m[\u001b[0m\u001b[0;34m\"href\"\u001b[0m\u001b[0;34m]\u001b[0m\u001b[0;34m\u001b[0m\u001b[0m\n\u001b[0m",
      "\u001b[0;31mIndexError\u001b[0m: list index out of range"
     ]
    }
   ],
   "source": [
    "lista[0].a.get_text(), lista[0].a[\"href\"]"
   ]
  },
  {
   "cell_type": "markdown",
   "metadata": {},
   "source": [
    "Una vez que sabemos como se compone la lista de resultados, podemos exportarla a un DataFrame:"
   ]
  },
  {
   "cell_type": "code",
   "execution_count": 7,
   "metadata": {},
   "outputs": [],
   "source": [
    "# Creamos un nuevo diccionario\n",
    "resultado_dic = {}\n",
    "\n",
    "# Copiamos los resultados\n",
    "for element in lista:\n",
    "    resultado_dic[str(element.a.get_text())] = element.a[\"href\"]"
   ]
  },
  {
   "cell_type": "code",
   "execution_count": 8,
   "metadata": {},
   "outputs": [
    {
     "data": {
      "text/html": [
       "<div>\n",
       "<style>\n",
       "    .dataframe thead tr:only-child th {\n",
       "        text-align: right;\n",
       "    }\n",
       "\n",
       "    .dataframe thead th {\n",
       "        text-align: left;\n",
       "    }\n",
       "\n",
       "    .dataframe tbody tr th {\n",
       "        vertical-align: top;\n",
       "    }\n",
       "</style>\n",
       "<table border=\"1\" class=\"dataframe\">\n",
       "  <thead>\n",
       "    <tr style=\"text-align: right;\">\n",
       "      <th></th>\n",
       "    </tr>\n",
       "  </thead>\n",
       "  <tbody>\n",
       "  </tbody>\n",
       "</table>\n",
       "</div>"
      ],
      "text/plain": [
       "Empty DataFrame\n",
       "Columns: []\n",
       "Index: []"
      ]
     },
     "execution_count": 8,
     "metadata": {},
     "output_type": "execute_result"
    }
   ],
   "source": [
    "# Creamos un nuevo DataFrame\n",
    "resutado_dataframe = pandas.DataFrame.from_dict(resultado_dic, orient='index')\n",
    "resutado_dataframe.head()"
   ]
  },
  {
   "cell_type": "code",
   "execution_count": 9,
   "metadata": {},
   "outputs": [
    {
     "data": {
      "text/html": [
       "<div>\n",
       "<style>\n",
       "    .dataframe thead tr:only-child th {\n",
       "        text-align: right;\n",
       "    }\n",
       "\n",
       "    .dataframe thead th {\n",
       "        text-align: left;\n",
       "    }\n",
       "\n",
       "    .dataframe tbody tr th {\n",
       "        vertical-align: top;\n",
       "    }\n",
       "</style>\n",
       "<table border=\"1\" class=\"dataframe\">\n",
       "  <thead>\n",
       "    <tr style=\"text-align: right;\">\n",
       "      <th></th>\n",
       "    </tr>\n",
       "  </thead>\n",
       "  <tbody>\n",
       "  </tbody>\n",
       "</table>\n",
       "</div>"
      ],
      "text/plain": [
       "Empty DataFrame\n",
       "Columns: []\n",
       "Index: []"
      ]
     },
     "execution_count": 9,
     "metadata": {},
     "output_type": "execute_result"
    }
   ],
   "source": [
    "# Renombramos las columnas\n",
    "resutado_dataframe.rename(columns={0: 'URL'}, inplace=True)\n",
    "\n",
    "resutado_dataframe.head()"
   ]
  },
  {
   "cell_type": "code",
   "execution_count": null,
   "metadata": {
    "collapsed": true
   },
   "outputs": [],
   "source": [
    "# Exportar a CSV\n",
    "\n",
    "resutado_dataframe.to_csv('data/nostarch_lista.csv')"
   ]
  },
  {
   "cell_type": "markdown",
   "metadata": {},
   "source": [
    "## Selección por herencia DOM"
   ]
  },
  {
   "cell_type": "code",
   "execution_count": 10,
   "metadata": {},
   "outputs": [],
   "source": [
    "URL = 'https://news.ycombinator.com/news'\n",
    "URL = BeautifulSoup(requests.get(URL).text, \"lxml\")"
   ]
  },
  {
   "cell_type": "markdown",
   "metadata": {},
   "source": [
    "### Herencia DOM: tr > td  > a\n",
    "\n",
    "### Recuerdan REGEX?"
   ]
  },
  {
   "cell_type": "code",
   "execution_count": 11,
   "metadata": {},
   "outputs": [],
   "source": [
    "a_list = URL.select('tr > td  > a[href*=\".\"]')"
   ]
  },
  {
   "cell_type": "code",
   "execution_count": 12,
   "metadata": {
    "scrolled": true
   },
   "outputs": [
    {
     "data": {
      "text/plain": [
       "[<a href=\"http://www.ycombinator.com\"><img height=\"18\" src=\"y18.gif\" style=\"border:1px white solid;\" width=\"18\"/></a>,\n",
       " <a class=\"storylink\" href=\"https://www.sec.gov/litigation/litreleases/2017/lr23870.htm\">SEC Files Fraud Charges in Bitcoin and Office Space Investment Schemes</a>,\n",
       " <a class=\"storylink\" href=\"https://www.eff.org/alice\">Saved by Alice</a>,\n",
       " <a class=\"storylink\" href=\"https://drikerf.com/building-pixels-a-daily-source-of-inspiration/\">Building Pixels – A Daily Source of Inspiration</a>,\n",
       " <a class=\"storylink\" href=\"https://blog.2ndquadrant.com/what-is-select-skip-locked-for-in-postgresql-9-5/\">What is ‘skip locked’ for in PostgreSQL 9.5? (2016)</a>,\n",
       " <a class=\"storylink\" href=\"https://open.nytimes.com/react-relay-and-graphql-under-the-hood-of-the-times-website-redesign-22fb62ea9764\">React, Relay and GraphQL: Under the Hood of The New York Times Website Redesign</a>,\n",
       " <a class=\"storylink\" href=\"http://ruslanledesma.com/2016/06/17/why-does-heap-work.html\">Why does Heap's algorithm work? (2016)</a>,\n",
       " <a class=\"storylink\" href=\"http://biosrhythm.com/?page_id=1453\">WiFi232 – An Internet Hayes Modem for Your Retro Computer</a>,\n",
       " <a class=\"storylink\" href=\"http://deako.com/careers\" rel=\"nofollow\">Deako (YC W16) Is Hiring a Back End and Front End Senior Software Engineer</a>,\n",
       " <a class=\"storylink\" href=\"https://www.discretization.de/media/filer_public/2014/09/05/20140413icm-proceedings-ziegler.pdf\">Teaching and Learning “What Is Mathematics” [pdf]</a>,\n",
       " <a class=\"storylink\" href=\"https://github.com/mitnk/cicada\">Cicada – Unix shell written in Rust</a>,\n",
       " <a class=\"storylink\" href=\"http://www.gemini.edu/node/12679\">Striking Gemini Images Point Juno Spacecraft Toward Discovery</a>,\n",
       " <a class=\"storylink\" href=\"https://www.mikeash.com/pyblog/friday-qa-2017-06-30-dissecting-objc_msgsend-on-arm64.html\">Dissecting objc_msgSend on ARM64</a>,\n",
       " <a class=\"storylink\" href=\"http://www.nybooks.com/daily/2017/06/29/myth-maker-of-the-brothel-utamaro/\">Myth-Maker of the Brothel: Utamaro's woodblock prints</a>,\n",
       " <a class=\"storylink\" href=\"https://www.microsoft.com/en-us/research/publication/what-is-a-file/#\">What is a file? (2011)</a>,\n",
       " <a class=\"storylink\" href=\"https://www.buzzfeed.com/williamalden/theres-a-fight-brewing-between-the-nypd-and-silicon-valley?utm_term=.upg46gXexp#.okrN9VDzJa\">NYPD is canceling its Palantir contract</a>,\n",
       " <a class=\"storylink\" href=\"https://www.independent.co.uk/news/world-0/nevada-cannabis-marijuana-legal-recreational-weed-sales-pot-shops-buy-legalised-a7817871.html\">Nevada becomes fifth US state to allow cannabis sales for recreational purposes</a>,\n",
       " <a class=\"storylink\" href=\"https://www.theatlantic.com/business/archive/2017/06/china-american-factories/531507/?single_page=true\">What Chinese bosses think of American workers</a>,\n",
       " <a class=\"storylink\" href=\"https://dolphin-emu.org/blog/2017/07/01/dolphin-progress-report-june-2017/\">Dolphin Progress Report</a>,\n",
       " <a class=\"storylink\" href=\"https://www.theatlantic.com/technology/archive/2017/06/solving-the-mystery-of-whose-laughter-is-on-the-golden-record/532197/?single_page=true\">Solving the Mystery of Whose Laughter Is On the Golden Record</a>,\n",
       " <a class=\"storylink\" href=\"https://www.ibiblio.org/harris/500milemail.html\">The case of the 500-mile email (2002)</a>,\n",
       " <a class=\"storylink\" href=\"http://blogs.bl.uk/digitisedmanuscripts/2017/06/making-a-good-impression.html\" rel=\"nofollow\">Making a good impression: the British Library's collection of seals</a>,\n",
       " <a class=\"storylink\" href=\"http://www.slate.com/articles/technology/future_tense/2014/07/the_accumulibrary_modern_libraries_should_be_as_big_and_chaotic_as_amazon.html\">The Accumulibrary (2014)</a>,\n",
       " <a class=\"storylink\" href=\"https://github.com/Microsoft/ELL\">Microsoft’s Embedded Learning Library</a>,\n",
       " <a class=\"storylink\" href=\"https://www.nytimes.com/2017/06/29/well/live/what-to-blame-for-your-stomach-bug-not-always-the-last-thing-you-ate.html?smprod=nytcore-iphone&amp;smid=nytcore-iphone-share\">What to Blame for Your Stomach Bug? Not Always the Last Thing You Ate</a>,\n",
       " <a class=\"storylink\" href=\"https://www.nytimes.com/2017/06/30/technology/women-entrepreneurs-speak-out-sexual-harassment.html?_r=0\">Silicon Valley Women, in Cultural Shift, Frankly Describe Sexual Harassment</a>,\n",
       " <a class=\"storylink\" href=\"https://vlad.d2dx.com/the-great-assistant-skills-comparison-google-alexa-siri-and-cortana-head-off/\">I ask 100 information questions to four digital assistants</a>,\n",
       " <a class=\"storylink\" href=\"https://motherboard.vice.com/en_us/article/8xa4ka/iphone-jailbreak-life-death-legacy\">The Life, Death, and Legacy of iPhone Jailbreaking</a>,\n",
       " <a class=\"storylink\" href=\"http://www.npr.org/sections/krulwich/2010/07/01/128170775/a-very-scary-light-show-exploding-h-bombs-in-space\">In the summer of 1962, the U.S. blew up a hydrogen bomb in outer space</a>,\n",
       " <a class=\"storylink\" href=\"https://redditblog.com/2017/06/30/why-we-chose-typescript/\">Why We Chose Typescript</a>]"
      ]
     },
     "execution_count": 12,
     "metadata": {},
     "output_type": "execute_result"
    }
   ],
   "source": [
    "a_list"
   ]
  },
  {
   "cell_type": "markdown",
   "metadata": {},
   "source": [
    "## Ejercicios\n",
    "\n",
    "- Image Site Downloader\n",
    "- Link Verification\n"
   ]
  },
  {
   "cell_type": "markdown",
   "metadata": {},
   "source": [
    "# Pattern\n",
    "\n",
    "Web mining module for Python, with tools for scraping, natural language processing, machine learning, network analysis and visualization. http://www.clips.ua.ac.be/pages/pattern "
   ]
  },
  {
   "cell_type": "code",
   "execution_count": null,
   "metadata": {
    "collapsed": true
   },
   "outputs": [],
   "source": []
  }
 ],
 "metadata": {
  "kernelspec": {
   "display_name": "Python 3",
   "language": "python",
   "name": "python3"
  },
  "language_info": {
   "codemirror_mode": {
    "name": "ipython",
    "version": 3
   },
   "file_extension": ".py",
   "mimetype": "text/x-python",
   "name": "python",
   "nbconvert_exporter": "python",
   "pygments_lexer": "ipython3",
   "version": "3.6.1"
  }
 },
 "nbformat": 4,
 "nbformat_minor": 1
}
