{
 "cells": [
  {
   "cell_type": "markdown",
   "metadata": {
    "slideshow": {
     "slide_type": "slide"
    }
   },
   "source": [
    "# Fuentes de datos"
   ]
  },
  {
   "cell_type": "markdown",
   "metadata": {},
   "source": [
    "Update del virtualenv:\n",
    "\n",
    "\n",
    "`conda install pandas openpyxl xlrd beautifulsoup4 scrapy lxml html5lib h5py`"
   ]
  },
  {
   "cell_type": "markdown",
   "metadata": {},
   "source": [
    "## Pandas y DataFrames http://pandas.pydata.org/\n",
    "\n",
    "\n",
    "\n",
    "<a href=\"http://pandas.pydata.org/\"><img src=\"img/pandas-web.png\" style=\"float:center;height:400px\"/></a>"
   ]
  },
  {
   "cell_type": "markdown",
   "metadata": {},
   "source": [
    "pandas:\n",
    "\n",
    "- Librería Open Source para análisis de datos\n",
    "- Python\n",
    "- Equivalente a data.frame y Dplyr de R-lang\n",
    "\n",
    "pandas is an open source Python library for data analysis. Python has always been great for prepping and munging data, but it's never been great for analysis - you'd usually end up using R or loading it into a database and using SQL (or worse, Excel). pandas makes Python great for analysis."
   ]
  },
  {
   "cell_type": "markdown",
   "metadata": {},
   "source": [
    "Estructuras de datos:\n",
    "    - Series\n",
    "    - DataFrames"
   ]
  },
  {
   "cell_type": "markdown",
   "metadata": {},
   "source": [
    "## `import pandas as pd`"
   ]
  },
  {
   "cell_type": "code",
   "execution_count": 1,
   "metadata": {
    "collapsed": true
   },
   "outputs": [],
   "source": [
    "import pandas as pd"
   ]
  },
  {
   "cell_type": "code",
   "execution_count": null,
   "metadata": {
    "collapsed": true
   },
   "outputs": [],
   "source": [
    "# Series\n",
    "s = pd.Series([7, 'Heisenberg', 3.14, -1789710578, 'Happy Eating!'])\n",
    "s"
   ]
  },
  {
   "cell_type": "code",
   "execution_count": null,
   "metadata": {
    "collapsed": true
   },
   "outputs": [],
   "source": [
    "# DataFrame\n",
    "data = {'year': [2010, 2011, 2012, 2011, 2012, 2010, 2011, 2012],\n",
    "        'team': ['Bears', 'Bears', 'Bears', 'Packers', 'Packers', 'Lions', 'Lions', 'Lions'],\n",
    "        'wins': [11, 8, 10, 15, 11, 6, 10, 4],\n",
    "        'losses': [5, 8, 6, 1, 5, 10, 6, 12]}\n",
    "football = pd.DataFrame(data, columns=['year', 'team', 'wins', 'losses'])\n",
    "football"
   ]
  },
  {
   "cell_type": "markdown",
   "metadata": {},
   "source": [
    "## Pandas IO Tools\n",
    "\n",
    "- read_csv  / CSV file\n",
    "- read_excel / MS Excel\n",
    "- read_hdf   / HDF5-Pytables\n",
    "- read_sql / SQL Query\n",
    "- read_json / JSON file-JSON dump\n",
    "- read_msgpack (experimental) / Binary serialization\n",
    "- read_html / HTML Tables\n",
    "- read_gbq (experimental)  / Google BigQuery\n",
    "- read_stata   / STATA\n",
    "- read_sas   / SAS\n",
    "- read_clipboard\n",
    "- read_pickle  / pickle — Python object serialization\n",
    "\n",
    "\n",
    "- to_csv\n",
    "- to_excel\n",
    "- to_hdf\n",
    "- to_sql\n",
    "- to_json\n",
    "- to_msgpack (experimental)\n",
    "- to_html\n",
    "- to_gbq (experimental)\n",
    "- to_stata\n",
    "- to_clipboard\n",
    "- to_pickle\n"
   ]
  },
  {
   "cell_type": "markdown",
   "metadata": {},
   "source": [
    "**Working with Excel Files in Python - http://www.python-excel.org/**\n",
    " - `openpyxl`:\n",
    "     - A Python library to read/write Excel 2010 xlsx/xlsm files\n",
    "     - https://openpyxl.readthedocs.io/en/default/\n",
    " - `xldr`\n",
    "     - Library for developers to extract data from Microsoft Excel (tm) spreadsheet files\n",
    "     - http://xlrd.readthedocs.io/en/latest/"
   ]
  },
  {
   "cell_type": "code",
   "execution_count": null,
   "metadata": {
    "collapsed": true
   },
   "outputs": [],
   "source": [
    "# reading from CSV\n",
    "csv_dataframe = pd.read_csv('data/FL_insurance_sample.csv')\n"
   ]
  },
  {
   "cell_type": "code",
   "execution_count": null,
   "metadata": {
    "collapsed": true
   },
   "outputs": [],
   "source": [
    "# reading from CSV\n",
    "csv_dataframe_500000_rows = pd.read_csv('data/Spreadsheet-500000-rows.csv', encoding = \"ISO-8859-1\")\n"
   ]
  },
  {
   "cell_type": "code",
   "execution_count": null,
   "metadata": {
    "collapsed": true
   },
   "outputs": [],
   "source": [
    "len(csv_dataframe_500000_rows)"
   ]
  },
  {
   "cell_type": "code",
   "execution_count": null,
   "metadata": {
    "collapsed": true
   },
   "outputs": [],
   "source": [
    "csv_dataframe_500000_rows.head()"
   ]
  },
  {
   "cell_type": "code",
   "execution_count": null,
   "metadata": {
    "collapsed": true
   },
   "outputs": [],
   "source": [
    "# Reading data from Excel\n",
    "# pd.read_excel('data/FL_insurance_sample.xlsx', 'Sheet1', index_col=None, na_values=['NA'])"
   ]
  },
  {
   "cell_type": "code",
   "execution_count": null,
   "metadata": {
    "collapsed": true
   },
   "outputs": [],
   "source": [
    "# Reading JSON\n",
    "pd.read_json('https://api.github.com/repos/pydata/pandas/issues?per_page=5')"
   ]
  },
  {
   "cell_type": "code",
   "execution_count": null,
   "metadata": {
    "collapsed": true
   },
   "outputs": [],
   "source": [
    "# # Reading HDF5\n",
    "# import numpy as np\n",
    "# import h5py\n",
    "\n",
    "# pd.read_hdf('foo.h5','df')"
   ]
  },
  {
   "cell_type": "code",
   "execution_count": null,
   "metadata": {
    "collapsed": true
   },
   "outputs": [],
   "source": [
    "\n",
    "# Read from a SQL Query\n",
    "\n",
    "\n",
    "# Set up connection parameters\n",
    "db_connection = psycopg2.connect(host=\"\",user=\"\", password=\"\", dbname=\"\")\n",
    "\n",
    "# Connect to the database server\n",
    "db_cursor = db_connection.cursor()\n",
    "\n",
    "# Specify a query with SQL\n",
    "sql_query = \"SELECT * from XX\"\n",
    "\n",
    "# Execute SQL query and save it to a DataFrame\n",
    "sql_dataframe = pandas.read_sql_query(sql_query, db_connection)\n",
    "\n",
    "db_connection.close()"
   ]
  },
  {
   "cell_type": "code",
   "execution_count": null,
   "metadata": {
    "collapsed": true
   },
   "outputs": [],
   "source": [
    "# Read from a SQL Query\n",
    "import sqlite3\n",
    "\n",
    "# Set up connection parameters\n",
    "db_connection =  sqlite3.connect('data/veekun-pokedex.sqlite')\n",
    "\n",
    "# pokemon = pd.read_sql_query('SELECT * FROM  pokemon WHERE pokemon.height > 4 and pokemon.weight > 5', db_connection)\n",
    "\n",
    "pokemon = pd.read_sql_query('SELECT * FROM  pokemon', db_connection)\n",
    "\n"
   ]
  },
  {
   "cell_type": "code",
   "execution_count": null,
   "metadata": {
    "collapsed": true
   },
   "outputs": [],
   "source": [
    "len(pokemon)"
   ]
  },
  {
   "cell_type": "markdown",
   "metadata": {},
   "source": [
    "# Web Scrapping con PANDAS"
   ]
  },
  {
   "cell_type": "code",
   "execution_count": 2,
   "metadata": {
    "collapsed": false
   },
   "outputs": [
    {
     "data": {
      "text/html": [
       "<div>\n",
       "<style>\n",
       "    .dataframe thead tr:only-child th {\n",
       "        text-align: right;\n",
       "    }\n",
       "\n",
       "    .dataframe thead th {\n",
       "        text-align: left;\n",
       "    }\n",
       "\n",
       "    .dataframe tbody tr th {\n",
       "        vertical-align: top;\n",
       "    }\n",
       "</style>\n",
       "<table border=\"1\" class=\"dataframe\">\n",
       "  <thead>\n",
       "    <tr style=\"text-align: right;\">\n",
       "      <th></th>\n",
       "      <th>Rank</th>\n",
       "      <th>Country / dependent territory</th>\n",
       "      <th>Population</th>\n",
       "      <th>Date last updated</th>\n",
       "      <th>Area (km2)</th>\n",
       "      <th>Area (mi2)</th>\n",
       "      <th>Density (km2)</th>\n",
       "      <th>Density (mi2)</th>\n",
       "      <th>Notes</th>\n",
       "    </tr>\n",
       "  </thead>\n",
       "  <tbody>\n",
       "    <tr>\n",
       "      <th>0</th>\n",
       "      <td>1</td>\n",
       "      <td>Macau (China)</td>\n",
       "      <td>541200</td>\n",
       "      <td>February 28, 2017</td>\n",
       "      <td>29.2</td>\n",
       "      <td>11.3</td>\n",
       "      <td>18534</td>\n",
       "      <td>48003</td>\n",
       "      <td>[1]</td>\n",
       "    </tr>\n",
       "    <tr>\n",
       "      <th>1</th>\n",
       "      <td>2</td>\n",
       "      <td>Monaco</td>\n",
       "      <td>33000</td>\n",
       "      <td>2013</td>\n",
       "      <td>1.95</td>\n",
       "      <td>0.75</td>\n",
       "      <td>16923</td>\n",
       "      <td>43830</td>\n",
       "      <td>[2][3]</td>\n",
       "    </tr>\n",
       "    <tr>\n",
       "      <th>2</th>\n",
       "      <td>3</td>\n",
       "      <td>Singapore</td>\n",
       "      <td>5076700</td>\n",
       "      <td>2000</td>\n",
       "      <td>710.2</td>\n",
       "      <td>274.2</td>\n",
       "      <td>7148</td>\n",
       "      <td>18513</td>\n",
       "      <td>[4]</td>\n",
       "    </tr>\n",
       "    <tr>\n",
       "      <th>3</th>\n",
       "      <td>4</td>\n",
       "      <td>Hong Kong (China)</td>\n",
       "      <td>7264100</td>\n",
       "      <td>1998</td>\n",
       "      <td>1104</td>\n",
       "      <td>426</td>\n",
       "      <td>6349</td>\n",
       "      <td>16444</td>\n",
       "      <td>[5]</td>\n",
       "    </tr>\n",
       "    <tr>\n",
       "      <th>4</th>\n",
       "      <td>5</td>\n",
       "      <td>Gibraltar (UK)</td>\n",
       "      <td>31000</td>\n",
       "      <td>2018</td>\n",
       "      <td>6.8</td>\n",
       "      <td>2.6</td>\n",
       "      <td>4559</td>\n",
       "      <td>11808</td>\n",
       "      <td>[2]</td>\n",
       "    </tr>\n",
       "    <tr>\n",
       "      <th>5</th>\n",
       "      <td>6</td>\n",
       "      <td>Vatican City</td>\n",
       "      <td>826</td>\n",
       "      <td>2009</td>\n",
       "      <td>0.44</td>\n",
       "      <td>0.17</td>\n",
       "      <td>1877</td>\n",
       "      <td>4861</td>\n",
       "      <td>[2][6]</td>\n",
       "    </tr>\n",
       "    <tr>\n",
       "      <th>6</th>\n",
       "      <td>7</td>\n",
       "      <td>Bahrain</td>\n",
       "      <td>1234596</td>\n",
       "      <td>2010</td>\n",
       "      <td>750</td>\n",
       "      <td>290</td>\n",
       "      <td>1646</td>\n",
       "      <td>4263</td>\n",
       "      <td>[10]</td>\n",
       "    </tr>\n",
       "    <tr>\n",
       "      <th>7</th>\n",
       "      <td>8</td>\n",
       "      <td>Malta</td>\n",
       "      <td>417617</td>\n",
       "      <td>January 1, 2011</td>\n",
       "      <td>316</td>\n",
       "      <td>122</td>\n",
       "      <td>1322</td>\n",
       "      <td>3424</td>\n",
       "      <td>Eurostat estimate</td>\n",
       "    </tr>\n",
       "    <tr>\n",
       "      <th>8</th>\n",
       "      <td>9</td>\n",
       "      <td>Bermuda (UK)</td>\n",
       "      <td>65000</td>\n",
       "      <td>2009</td>\n",
       "      <td>53</td>\n",
       "      <td>20</td>\n",
       "      <td>1226</td>\n",
       "      <td>3175</td>\n",
       "      <td>[2]</td>\n",
       "    </tr>\n",
       "    <tr>\n",
       "      <th>9</th>\n",
       "      <td>10</td>\n",
       "      <td>Sint Maarten (Netherlands)</td>\n",
       "      <td>37429</td>\n",
       "      <td>January 1, 2010</td>\n",
       "      <td>34</td>\n",
       "      <td>13</td>\n",
       "      <td>1101</td>\n",
       "      <td>2852</td>\n",
       "      <td>[2]</td>\n",
       "    </tr>\n",
       "  </tbody>\n",
       "</table>\n",
       "</div>"
      ],
      "text/plain": [
       "  Rank Country / dependent territory Population  Date last updated Area (km2)  \\\n",
       "0    1                 Macau (China)     541200  February 28, 2017       29.2   \n",
       "1    2                        Monaco      33000               2013       1.95   \n",
       "2    3                     Singapore    5076700               2000      710.2   \n",
       "3    4             Hong Kong (China)    7264100               1998       1104   \n",
       "4    5                Gibraltar (UK)      31000               2018        6.8   \n",
       "5    6                  Vatican City        826               2009       0.44   \n",
       "6    7                       Bahrain    1234596               2010        750   \n",
       "7    8                         Malta     417617    January 1, 2011        316   \n",
       "8    9                  Bermuda (UK)      65000               2009         53   \n",
       "9   10    Sint Maarten (Netherlands)      37429    January 1, 2010         34   \n",
       "\n",
       "  Area (mi2) Density (km2) Density (mi2)              Notes  \n",
       "0       11.3         18534         48003                [1]  \n",
       "1       0.75         16923         43830             [2][3]  \n",
       "2      274.2          7148         18513                [4]  \n",
       "3        426          6349         16444                [5]  \n",
       "4        2.6          4559         11808                [2]  \n",
       "5       0.17          1877          4861             [2][6]  \n",
       "6        290          1646          4263               [10]  \n",
       "7        122          1322          3424  Eurostat estimate  \n",
       "8         20          1226          3175                [2]  \n",
       "9         13          1101          2852                [2]  "
      ]
     },
     "execution_count": 2,
     "metadata": {},
     "output_type": "execute_result"
    }
   ],
   "source": [
    "import pandas as pd  # Cargar modulo\n",
    "\n",
    "\n",
    "# Asignar el resultado del metodo read_html a densidad_paises\n",
    "# Parametro header=0 para establecer el header de la tabla\n",
    "# Consultar: http://pandas.pydata.org/pandas-docs/stable/gotchas.html#html-gotchas\n",
    "densidad_paises = pd.read_html('https://simple.wikipedia.org/wiki/List_of_countries_by_population_density', header=0)\n",
    "\n",
    "# Observar los primeros 10 registros\n",
    "densidad_paises[0][:10]"
   ]
  },
  {
   "cell_type": "code",
   "execution_count": 3,
   "metadata": {
    "collapsed": false
   },
   "outputs": [
    {
     "data": {
      "text/plain": [
       "list"
      ]
     },
     "execution_count": 3,
     "metadata": {},
     "output_type": "execute_result"
    }
   ],
   "source": [
    "# Que tipo de objeto tenemos?\n",
    "type(densidad_paises)"
   ]
  },
  {
   "cell_type": "code",
   "execution_count": 4,
   "metadata": {
    "collapsed": true
   },
   "outputs": [],
   "source": [
    "# Como lo convertimos en un dataframe?\n",
    "\n",
    "densidad_paises_dataframe = pd.DataFrame(densidad_paises[0])\n"
   ]
  },
  {
   "cell_type": "code",
   "execution_count": 5,
   "metadata": {
    "collapsed": false
   },
   "outputs": [
    {
     "data": {
      "text/plain": [
       "pandas.core.frame.DataFrame"
      ]
     },
     "execution_count": 5,
     "metadata": {},
     "output_type": "execute_result"
    }
   ],
   "source": [
    "# Que tipo de objeto tenemos?\n",
    "type(densidad_paises_dataframe)"
   ]
  },
  {
   "cell_type": "code",
   "execution_count": 6,
   "metadata": {
    "collapsed": false
   },
   "outputs": [
    {
     "data": {
      "text/html": [
       "<div>\n",
       "<style>\n",
       "    .dataframe thead tr:only-child th {\n",
       "        text-align: right;\n",
       "    }\n",
       "\n",
       "    .dataframe thead th {\n",
       "        text-align: left;\n",
       "    }\n",
       "\n",
       "    .dataframe tbody tr th {\n",
       "        vertical-align: top;\n",
       "    }\n",
       "</style>\n",
       "<table border=\"1\" class=\"dataframe\">\n",
       "  <thead>\n",
       "    <tr style=\"text-align: right;\">\n",
       "      <th></th>\n",
       "      <th>Rank</th>\n",
       "      <th>Country / dependent territory</th>\n",
       "      <th>Population</th>\n",
       "      <th>Date last updated</th>\n",
       "      <th>Area (km2)</th>\n",
       "      <th>Area (mi2)</th>\n",
       "      <th>Density (km2)</th>\n",
       "      <th>Density (mi2)</th>\n",
       "      <th>Notes</th>\n",
       "    </tr>\n",
       "  </thead>\n",
       "  <tbody>\n",
       "    <tr>\n",
       "      <th>0</th>\n",
       "      <td>1</td>\n",
       "      <td>Macau (China)</td>\n",
       "      <td>541200</td>\n",
       "      <td>February 28, 2017</td>\n",
       "      <td>29.2</td>\n",
       "      <td>11.3</td>\n",
       "      <td>18534</td>\n",
       "      <td>48003</td>\n",
       "      <td>[1]</td>\n",
       "    </tr>\n",
       "    <tr>\n",
       "      <th>1</th>\n",
       "      <td>2</td>\n",
       "      <td>Monaco</td>\n",
       "      <td>33000</td>\n",
       "      <td>2013</td>\n",
       "      <td>1.95</td>\n",
       "      <td>0.75</td>\n",
       "      <td>16923</td>\n",
       "      <td>43830</td>\n",
       "      <td>[2][3]</td>\n",
       "    </tr>\n",
       "    <tr>\n",
       "      <th>2</th>\n",
       "      <td>3</td>\n",
       "      <td>Singapore</td>\n",
       "      <td>5076700</td>\n",
       "      <td>2000</td>\n",
       "      <td>710.2</td>\n",
       "      <td>274.2</td>\n",
       "      <td>7148</td>\n",
       "      <td>18513</td>\n",
       "      <td>[4]</td>\n",
       "    </tr>\n",
       "    <tr>\n",
       "      <th>3</th>\n",
       "      <td>4</td>\n",
       "      <td>Hong Kong (China)</td>\n",
       "      <td>7264100</td>\n",
       "      <td>1998</td>\n",
       "      <td>1104</td>\n",
       "      <td>426</td>\n",
       "      <td>6349</td>\n",
       "      <td>16444</td>\n",
       "      <td>[5]</td>\n",
       "    </tr>\n",
       "    <tr>\n",
       "      <th>4</th>\n",
       "      <td>5</td>\n",
       "      <td>Gibraltar (UK)</td>\n",
       "      <td>31000</td>\n",
       "      <td>2018</td>\n",
       "      <td>6.8</td>\n",
       "      <td>2.6</td>\n",
       "      <td>4559</td>\n",
       "      <td>11808</td>\n",
       "      <td>[2]</td>\n",
       "    </tr>\n",
       "  </tbody>\n",
       "</table>\n",
       "</div>"
      ],
      "text/plain": [
       "  Rank Country / dependent territory Population  Date last updated Area (km2)  \\\n",
       "0    1                 Macau (China)     541200  February 28, 2017       29.2   \n",
       "1    2                        Monaco      33000               2013       1.95   \n",
       "2    3                     Singapore    5076700               2000      710.2   \n",
       "3    4             Hong Kong (China)    7264100               1998       1104   \n",
       "4    5                Gibraltar (UK)      31000               2018        6.8   \n",
       "\n",
       "  Area (mi2) Density (km2) Density (mi2)   Notes  \n",
       "0       11.3         18534         48003     [1]  \n",
       "1       0.75         16923         43830  [2][3]  \n",
       "2      274.2          7148         18513     [4]  \n",
       "3        426          6349         16444     [5]  \n",
       "4        2.6          4559         11808     [2]  "
      ]
     },
     "execution_count": 6,
     "metadata": {},
     "output_type": "execute_result"
    }
   ],
   "source": [
    "densidad_paises_dataframe.head()"
   ]
  },
  {
   "cell_type": "code",
   "execution_count": null,
   "metadata": {
    "collapsed": true
   },
   "outputs": [],
   "source": [
    "densidad_paises_dataframe.keys()"
   ]
  },
  {
   "cell_type": "code",
   "execution_count": 11,
   "metadata": {
    "collapsed": true
   },
   "outputs": [],
   "source": [
    "densidad_paises_clean = densidad_paises_dataframe.copy()"
   ]
  },
  {
   "cell_type": "code",
   "execution_count": 7,
   "metadata": {
    "collapsed": false
   },
   "outputs": [
    {
     "ename": "NameError",
     "evalue": "name 'densidad_paises_clean' is not defined",
     "output_type": "error",
     "traceback": [
      "\u001b[0;31m---------------------------------------------------------------------------\u001b[0m",
      "\u001b[0;31mNameError\u001b[0m                                 Traceback (most recent call last)",
      "\u001b[0;32m<ipython-input-7-337dad73f678>\u001b[0m in \u001b[0;36m<module>\u001b[0;34m()\u001b[0m\n\u001b[1;32m      1\u001b[0m \u001b[0;31m# http://pandas.pydata.org/pandas-docs/stable/dsintro.html#column-selection-addition-deletion\u001b[0m\u001b[0;34m\u001b[0m\u001b[0;34m\u001b[0m\u001b[0m\n\u001b[0;32m----> 2\u001b[0;31m \u001b[0mdensidad_paises_clean\u001b[0m\u001b[0;34m.\u001b[0m\u001b[0mpop\u001b[0m\u001b[0;34m(\u001b[0m\u001b[0;34m'Unnamed: 1'\u001b[0m\u001b[0;34m)\u001b[0m\u001b[0;34m\u001b[0m\u001b[0m\n\u001b[0m",
      "\u001b[0;31mNameError\u001b[0m: name 'densidad_paises_clean' is not defined"
     ]
    }
   ],
   "source": [
    "# http://pandas.pydata.org/pandas-docs/stable/dsintro.html#column-selection-addition-deletion\n",
    "densidad_paises_clean.pop('Unnamed: 1')"
   ]
  },
  {
   "cell_type": "code",
   "execution_count": null,
   "metadata": {
    "collapsed": true
   },
   "outputs": [],
   "source": [
    "# Verificar\n",
    "densidad_paises_clean"
   ]
  },
  {
   "cell_type": "code",
   "execution_count": 12,
   "metadata": {
    "collapsed": false
   },
   "outputs": [
    {
     "data": {
      "text/plain": [
       "0            11.3\n",
       "1            0.75\n",
       "2           274.2\n",
       "3             426\n",
       "4             2.6\n",
       "5            0.17\n",
       "6             290\n",
       "7             122\n",
       "8              20\n",
       "9              13\n",
       "10            115\n",
       "11          56980\n",
       "12             45\n",
       "13             30\n",
       "14           20.5\n",
       "15          13890\n",
       "16            790\n",
       "17            170\n",
       "18             75\n",
       "19           2320\n",
       "20             24\n",
       "21            144\n",
       "22          38432\n",
       "23            8.1\n",
       "24           3427\n",
       "25            171\n",
       "26           4036\n",
       "27            8.1\n",
       "28             10\n",
       "29          16033\n",
       "          ...    \n",
       "212        148709\n",
       "213        239285\n",
       "214        489000\n",
       "215        830000\n",
       "216        478841\n",
       "217        132000\n",
       "218        188500\n",
       "219        119500\n",
       "220        424164\n",
       "221        496000\n",
       "222       6601668\n",
       "223           100\n",
       "224        240535\n",
       "225       1052100\n",
       "226        103347\n",
       "227        679360\n",
       "228         83000\n",
       "229       3855100\n",
       "230        224610\n",
       "231        395960\n",
       "232         63250\n",
       "233         40000\n",
       "234       2966200\n",
       "235        318261\n",
       "236         35000\n",
       "237        103000\n",
       "238        603909\n",
       "239          4700\n",
       "240        840000\n",
       "241    Area (mi2)\n",
       "Name: Area (mi2), Length: 242, dtype: object"
      ]
     },
     "execution_count": 12,
     "metadata": {},
     "output_type": "execute_result"
    }
   ],
   "source": [
    "# \n",
    "densidad_paises_clean.pop('Area (mi2)')"
   ]
  },
  {
   "cell_type": "code",
   "execution_count": null,
   "metadata": {
    "collapsed": true
   },
   "outputs": [],
   "source": [
    "densidad_paises_clean.pop('Density (/mi2)')"
   ]
  },
  {
   "cell_type": "code",
   "execution_count": null,
   "metadata": {
    "collapsed": true
   },
   "outputs": [],
   "source": [
    "# for cycle\n",
    "column_list = []\n",
    "for element in column_list:\n",
    "    dataframe.pop(element)"
   ]
  },
  {
   "cell_type": "code",
   "execution_count": 8,
   "metadata": {
    "collapsed": false
   },
   "outputs": [
    {
     "ename": "NameError",
     "evalue": "name 'densidad_paises_clean' is not defined",
     "output_type": "error",
     "traceback": [
      "\u001b[0;31m---------------------------------------------------------------------------\u001b[0m",
      "\u001b[0;31mNameError\u001b[0m                                 Traceback (most recent call last)",
      "\u001b[0;32m<ipython-input-8-e59015c82099>\u001b[0m in \u001b[0;36m<module>\u001b[0;34m()\u001b[0m\n\u001b[0;32m----> 1\u001b[0;31m \u001b[0mdensidad_paises_clean\u001b[0m\u001b[0;34m.\u001b[0m\u001b[0mhead\u001b[0m\u001b[0;34m(\u001b[0m\u001b[0;34m)\u001b[0m\u001b[0;34m\u001b[0m\u001b[0m\n\u001b[0m",
      "\u001b[0;31mNameError\u001b[0m: name 'densidad_paises_clean' is not defined"
     ]
    }
   ],
   "source": [
    "densidad_paises_clean.head()"
   ]
  },
  {
   "cell_type": "code",
   "execution_count": null,
   "metadata": {
    "collapsed": true
   },
   "outputs": [],
   "source": [
    "del densidad_paises_clean['Notes']"
   ]
  },
  {
   "cell_type": "code",
   "execution_count": 9,
   "metadata": {
    "collapsed": false
   },
   "outputs": [
    {
     "ename": "NameError",
     "evalue": "name 'densidad_paises_clean' is not defined",
     "output_type": "error",
     "traceback": [
      "\u001b[0;31m---------------------------------------------------------------------------\u001b[0m",
      "\u001b[0;31mNameError\u001b[0m                                 Traceback (most recent call last)",
      "\u001b[0;32m<ipython-input-9-e59015c82099>\u001b[0m in \u001b[0;36m<module>\u001b[0;34m()\u001b[0m\n\u001b[0;32m----> 1\u001b[0;31m \u001b[0mdensidad_paises_clean\u001b[0m\u001b[0;34m.\u001b[0m\u001b[0mhead\u001b[0m\u001b[0;34m(\u001b[0m\u001b[0;34m)\u001b[0m\u001b[0;34m\u001b[0m\u001b[0m\n\u001b[0m",
      "\u001b[0;31mNameError\u001b[0m: name 'densidad_paises_clean' is not defined"
     ]
    }
   ],
   "source": [
    "densidad_paises_clean.head()"
   ]
  },
  {
   "cell_type": "code",
   "execution_count": 10,
   "metadata": {
    "collapsed": false
   },
   "outputs": [
    {
     "ename": "NameError",
     "evalue": "name 'densidad_paises_clean' is not defined",
     "output_type": "error",
     "traceback": [
      "\u001b[0;31m---------------------------------------------------------------------------\u001b[0m",
      "\u001b[0;31mNameError\u001b[0m                                 Traceback (most recent call last)",
      "\u001b[0;32m<ipython-input-10-993e4b66b44b>\u001b[0m in \u001b[0;36m<module>\u001b[0;34m()\u001b[0m\n\u001b[0;32m----> 1\u001b[0;31m \u001b[0mdensidad_paises_clean\u001b[0m\u001b[0;34m.\u001b[0m\u001b[0mrename\u001b[0m\u001b[0;34m(\u001b[0m\u001b[0mcolumns\u001b[0m\u001b[0;34m=\u001b[0m\u001b[0;34m{\u001b[0m\u001b[0;34m'Population'\u001b[0m\u001b[0;34m:\u001b[0m \u001b[0;34m'Pop'\u001b[0m\u001b[0;34m}\u001b[0m\u001b[0;34m,\u001b[0m \u001b[0minplace\u001b[0m\u001b[0;34m=\u001b[0m\u001b[0;32mTrue\u001b[0m\u001b[0;34m)\u001b[0m\u001b[0;34m\u001b[0m\u001b[0m\n\u001b[0m",
      "\u001b[0;31mNameError\u001b[0m: name 'densidad_paises_clean' is not defined"
     ]
    }
   ],
   "source": [
    "densidad_paises_clean.rename(columns={'Population': 'Pop'}, inplace=True)"
   ]
  },
  {
   "cell_type": "code",
   "execution_count": null,
   "metadata": {
    "collapsed": true
   },
   "outputs": [],
   "source": [
    "densidad_paises_clean.rename(columns={'Area (km2)': 'Area'}, inplace=True)"
   ]
  },
  {
   "cell_type": "code",
   "execution_count": null,
   "metadata": {
    "collapsed": true
   },
   "outputs": [],
   "source": [
    "densidad_paises_clean.rename(columns={'Density (/km2)': 'Density'}, inplace=True)"
   ]
  },
  {
   "cell_type": "markdown",
   "metadata": {},
   "source": [
    "### Exportar  ? 😱"
   ]
  },
  {
   "cell_type": "code",
   "execution_count": null,
   "metadata": {
    "collapsed": true
   },
   "outputs": [],
   "source": []
  }
 ],
 "metadata": {
  "celltoolbar": "Slideshow",
  "kernelspec": {
   "display_name": "Python 3",
   "language": "python",
   "name": "python3"
  },
  "language_info": {
   "codemirror_mode": {
    "name": "ipython",
    "version": 3
   },
   "file_extension": ".py",
   "mimetype": "text/x-python",
   "name": "python",
   "nbconvert_exporter": "python",
   "pygments_lexer": "ipython3",
   "version": "3.6.0"
  }
 },
 "nbformat": 4,
 "nbformat_minor": 1
}
