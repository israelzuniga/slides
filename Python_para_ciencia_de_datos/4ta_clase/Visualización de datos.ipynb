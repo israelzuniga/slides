{
 "cells": [
  {
   "cell_type": "code",
   "execution_count": 4,
   "metadata": {
    "collapsed": false
   },
   "outputs": [],
   "source": [
    "import pandas as pd\n",
    "import numpy as np\n",
    "import matplotlib.pyplot as plt\n",
    "import matplotlib.mlab as mlab\n",
    "import math\n",
    "import seaborn as sns\n",
    "from IPython.display import Image\n",
    "%matplotlib inline"
   ]
  },
  {
   "cell_type": "markdown",
   "metadata": {},
   "source": [
    "## Visualización de Datos\n",
    "http://www.slideshare.net/idigdata/data-visualization-best-practices-2013"
   ]
  },
  {
   "cell_type": "code",
   "execution_count": 5,
   "metadata": {
    "collapsed": false
   },
   "outputs": [
    {
     "data": {
      "text/html": [
       "<img src=\"http://istc-bigdata.org/wp-content/uploads/2014/09/ISTC-Blog-Automating-Visual-Design-with-Perceptual-Kernels-Demiralp-Heer-1.png\"/>"
      ],
      "text/plain": [
       "<IPython.core.display.Image object>"
      ]
     },
     "execution_count": 5,
     "metadata": {},
     "output_type": "execute_result"
    }
   ],
   "source": [
    "Image(url=\"http://istc-bigdata.org/wp-content/uploads/2014/09/ISTC-Blog-Automating-Visual-Design-with-Perceptual-Kernels-Demiralp-Heer-1.png\")"
   ]
  },
  {
   "cell_type": "markdown",
   "metadata": {},
   "source": [
    "### Herramientas para la visualización de datos en Python (De Python Awesome List: https://github.com/vinta/awesome-python/blob/master/README.md#data-visualization)\n",
    "* [matplotlib](http://matplotlib.org/) - A Python 2D plotting library.\n",
    "* [bokeh](https://github.com/bokeh/bokeh) - Interactive Web Plotting for Python.\n",
    "* [ggplot](https://github.com/yhat/ggplot) - Same API as ggplot2 for R.\n",
    "* [plotly](https://plot.ly/python/) - Collaborative web plotting for Python and matplotlib.\n",
    "* [pygal](http://www.pygal.org/en/latest/) - A Python SVG Charts Creator.\n",
    "* [orange](http://orange.biolab.si/) - Data mining, data visualization, analysis and machine learning through visual programming or Python scripting.\n",
    "* [pygraphviz](https://pypi.python.org/pypi/pygraphviz) - Python interface to [Graphviz](http://www.graphviz.org/).\n",
    "* [PyQtGraph](http://www.pyqtgraph.org/) - Interactive and realtime 2D/3D/Image plotting and science/engineering widgets.\n",
    "* [SnakeViz](http://jiffyclub.github.io/snakeviz/) - A browser based graphical viewer for the output of Python's cProfile module.\n",
    "* [vincent](https://github.com/wrobstory/vincent) - A Python to Vega translator.\n",
    "* [VisPy](http://vispy.org/) - High-performance scientific visualization based on OpenGL."
   ]
  },
  {
   "cell_type": "markdown",
   "metadata": {},
   "source": [
    "### The grammar of graphics\n",
    "http://ggplot2.org/resources/2007-past-present-future.pdf"
   ]
  },
  {
   "cell_type": "code",
   "execution_count": 7,
   "metadata": {
    "collapsed": false
   },
   "outputs": [],
   "source": [
    "#Cargamos los datos\n",
    "df = pd.read_csv(\"../train.csv\")"
   ]
  },
  {
   "cell_type": "code",
   "execution_count": 8,
   "metadata": {
    "collapsed": false
   },
   "outputs": [
    {
     "name": "stdout",
     "output_type": "stream",
     "text": [
      "skewness: 4.78731651967\n",
      "kurtosis: 33.3981408809\n"
     ]
    },
    {
     "data": {
      "image/png": "[encoded data removed]",
      "text/plain": [
       "<matplotlib.figure.Figure at 0x119e53748>"
      ]
     },
     "metadata": {},
     "output_type": "display_data"
    }
   ],
   "source": [
    "print(\"skewness:\", df[\"Fare\"].skew())\n",
    "print(\"kurtosis:\", df[\"Fare\"].kurtosis()) \n",
    "fig = plt.figure()\n",
    "ax = fig.add_subplot(111)\n",
    "x = np.linspace(df['Fare'].min(),df['Fare'].max(),1)\n",
    "ax.hist(df['Fare'], bins = 10, range = (df['Fare'].min(),df['Fare'].max()))\n",
    "plt.title('Fare')\n",
    "plt.xlabel('Fare')\n",
    "plt.ylabel('Count of Passengers')\n",
    "plt.show()"
   ]
  },
  {
   "cell_type": "code",
   "execution_count": 10,
   "metadata": {
    "collapsed": false,
    "scrolled": true
   },
   "outputs": [],
   "source": [
    "from bokeh.charts import Bar, output_file, show\n",
    "from bokeh.sampledata.autompg import autompg as df\n",
    "\n",
    "p = Bar(df, 'cyl', values='mpg', title=\"Total MPG by CYL\", notebook=True)\n",
    "output_file(\"bar.html\")\n",
    "show(p)"
   ]
  },
  {
   "cell_type": "markdown",
   "metadata": {},
   "source": [
    "### Herramientas externas para la visualización de datos"
   ]
  },
  {
   "cell_type": "markdown",
   "metadata": {},
   "source": [
    "* Tableau\n",
    "* raw.io (http://app.raw.densitydesign.org/)\n",
    "* easil.ly"
   ]
  },
  {
   "cell_type": "markdown",
   "metadata": {},
   "source": [
    "### D3.js"
   ]
  },
  {
   "cell_type": "markdown",
   "metadata": {},
   "source": [
    "### Actividad: Elige cualquiera de los métodos que vimos, y visualiza el resultado del análisis que hicimos durante el workshop"
   ]
  },
  {
   "cell_type": "markdown",
   "metadata": {},
   "source": [
    "###Recursos:\n",
    "* http://www.cs171.org/2016/index.html\n",
    "* https://github.com/rodowi/geo-is-osm\n",
    "* http://blog.hubspot.com/marketing/excel-graph-tricks-list"
   ]
  },
  {
   "cell_type": "code",
   "execution_count": null,
   "metadata": {
    "collapsed": true
   },
   "outputs": [],
   "source": []
  }
 ],
 "metadata": {
  "kernelspec": {
   "display_name": "Python 3",
   "language": "python",
   "name": "python3"
  },
  "language_info": {
   "codemirror_mode": {
    "name": "ipython",
    "version": 3
   },
   "file_extension": ".py",
   "mimetype": "text/x-python",
   "name": "python",
   "nbconvert_exporter": "python",
   "pygments_lexer": "ipython3",
   "version": "3.6.0"
  }
 },
 "nbformat": 4,
 "nbformat_minor": 0
}
