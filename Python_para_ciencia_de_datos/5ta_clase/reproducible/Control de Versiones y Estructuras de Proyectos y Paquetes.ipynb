{
 "cells": [
  {
   "cell_type": "markdown",
   "metadata": {},
   "source": [
    "# Sobre Git"
   ]
  },
  {
   "cell_type": "markdown",
   "metadata": {},
   "source": [
    "https://www.slideshare.net/kmstechnology/git-version-control-system-18818156"
   ]
  },
  {
   "cell_type": "markdown",
   "metadata": {},
   "source": [
    "![Image](http://kdheepak.com/think-git/img/local-remote.svg)"
   ]
  },
  {
   "cell_type": "markdown",
   "metadata": {},
   "source": [
    "**Sobre github**\n",
    "- Explorar github\n",
    "- Proyectos\n",
    "- Branches\n",
    "- Commits\n",
    "- Pull Requests"
   ]
  },
  {
   "cell_type": "markdown",
   "metadata": {},
   "source": [
    "## Ejercicio:"
   ]
  },
  {
   "cell_type": "markdown",
   "metadata": {},
   "source": [
    "- Crear una cuenta en Git\n",
    "- Instalar git desktop\n",
    "-  Crear repo en Github\n",
    "- Inicializar repo en el folder que estemos usando\n",
    ".gitignore:\n",
    "    *.csv"
   ]
  },
  {
   "cell_type": "markdown",
   "metadata": {},
   "source": [
    "## Ejemplos de proyectos\n",
    "- Tensorflow\n",
    "- ScikitLearn\n",
    "- Pandas"
   ]
  },
  {
   "cell_type": "markdown",
   "metadata": {},
   "source": [
    "## Estructuras de proyectos:\n",
    "- Series de Python Notebooks interesantes (Tensorflow)\n",
    "- CookieCutter Data Science\n",
    "- Librerías/Paquetes"
   ]
  },
  {
   "cell_type": "markdown",
   "metadata": {
    "collapsed": true
   },
   "source": [
    "Recomendaciones para jupyter notebooks, ver Kaggle"
   ]
  },
  {
   "cell_type": "markdown",
   "metadata": {},
   "source": [
    "https://www.kaggle.com/futurist/pima-data-visualisation-and-machine-learning"
   ]
  },
  {
   "cell_type": "markdown",
   "metadata": {},
   "source": [
    "- kudos a Joel Rivera de aquí en Adelante -"
   ]
  },
  {
   "cell_type": "markdown",
   "metadata": {},
   "source": [
    "## Módulos"
   ]
  },
  {
   "cell_type": "markdown",
   "metadata": {},
   "source": [
    "\n",
    "Los módulos son una abstracción del lenguaje que sirve para organizar el código, permiten distribuir el código en distintos archivos y es un bloque fundamental para distribuir el código para terceras partes.\n",
    "\n",
    "Principalmente son necesarios por que es muy dificil recordar todas esas lineas de código en la cabeza.\n",
    "La representación tradicional de un módulo de python en el sistema de archivo es en los archivos que tienen extension .py. Es decir, todo script en python en un módulo en si.\n",
    "\n",
    "Cabe destacar, que esa representación no es la única. Tambien pueden esta en forma de directorios (paquetes), en forma de zip o en shared objects para las extensiones nativas (como numpy).\n",
    "\n",
    "Python es un lenguaje con baterias incluidas, es decir, incluye mucha funcionalidad para una gran cantida de tareas, para más información revisen la librerías estándar de python: https://docs.python.org/3/library/"
   ]
  },
  {
   "cell_type": "code",
   "execution_count": 2,
   "metadata": {
    "collapsed": true
   },
   "outputs": [],
   "source": [
    "import collections\n",
    "\n",
    "import webbrowser as chrome\n",
    "\n",
    "from xml import etree\n",
    "\n",
    "from math import ceil, floor, pi\n",
    "\n",
    "#from math.universe_x.a.b.c.d import suma\n",
    "#from math.universe_x  as suma_d\n",
    "\n",
    "from array import array as list_a\n",
    "\n",
    "from enum import *"
   ]
  },
  {
   "cell_type": "markdown",
   "metadata": {},
   "source": [
    "La sentencía import no tiene una restricción sobre donde puede ejecutarse, **más se considera buen gusto el realizar los imports al inicio del archivo.**"
   ]
  },
  {
   "cell_type": "code",
   "execution_count": 4,
   "metadata": {
    "collapsed": true
   },
   "outputs": [],
   "source": [
    "import numpy as np\n",
    "import pandas as pd\n",
    "import tensorflow as tf"
   ]
  },
  {
   "cell_type": "code",
   "execution_count": 5,
   "metadata": {
    "collapsed": true
   },
   "outputs": [],
   "source": [
    "def get_pi():\n",
    "    from math import pi\n",
    "    return pi"
   ]
  },
  {
   "cell_type": "code",
   "execution_count": 6,
   "metadata": {},
   "outputs": [
    {
     "data": {
      "text/plain": [
       "3.141592653589793"
      ]
     },
     "execution_count": 6,
     "metadata": {},
     "output_type": "execute_result"
    }
   ],
   "source": [
    "get_pi()"
   ]
  },
  {
   "cell_type": "markdown",
   "metadata": {},
   "source": [
    "## Paquetes"
   ]
  },
  {
   "cell_type": "markdown",
   "metadata": {},
   "source": [
    "\n",
    "El termino paquetes se refiere a la distribución de código de Python en una estructura especifica en directorios , relativos al directorio de trabajo, la variable de entorno PYTHONPATH y finalmente a la lista donde se termina representando todos estos lugares dentro del módulo sys."
   ]
  },
  {
   "cell_type": "code",
   "execution_count": 7,
   "metadata": {},
   "outputs": [
    {
     "data": {
      "text/plain": [
       "['',\n",
       " '/usr/local/Cellar/apache-spark/2.1.1/libexec/python/lib/py4j-0.10.4-src.zip',\n",
       " '/usr/local/Cellar/apache-spark/2.1.1/libexec/python',\n",
       " '/usr/local/Cellar/apache-spark/2.1.1/libexec/python/build',\n",
       " '/usr/local/lib/python',\n",
       " '/Users/rdalanist/DropboxAnterior/CivicHacking/DesafioLatAM/reproducible/git+github',\n",
       " '/usr/local/Cellar/python3/3.6.1/Frameworks/Python.framework/Versions/3.6/lib/python36.zip',\n",
       " '/usr/local/Cellar/python3/3.6.1/Frameworks/Python.framework/Versions/3.6/lib/python3.6',\n",
       " '/usr/local/Cellar/python3/3.6.1/Frameworks/Python.framework/Versions/3.6/lib/python3.6/lib-dynload',\n",
       " '/usr/local/lib/python3.6/site-packages',\n",
       " '/usr/local/lib/python3.6/site-packages/IPython/extensions',\n",
       " '/Users/rdalanist/.ipython']"
      ]
     },
     "execution_count": 7,
     "metadata": {},
     "output_type": "execute_result"
    }
   ],
   "source": [
    "import sys\n",
    "\n",
    "sys.path"
   ]
  },
  {
   "cell_type": "code",
   "execution_count": 6,
   "metadata": {},
   "outputs": [
    {
     "data": {
      "text/plain": [
       "True"
      ]
     },
     "execution_count": 6,
     "metadata": {},
     "output_type": "execute_result"
    }
   ],
   "source": [
    "import math\n",
    "import sys\n",
    "sys.modules['math'] is math"
   ]
  },
  {
   "cell_type": "code",
   "execution_count": 9,
   "metadata": {},
   "outputs": [
    {
     "name": "stdout",
     "output_type": "stream",
     "text": [
      "total 8\r\n",
      "-rw-r--r--  1 rdalanist  staff  2248 Jul 15 00:03 Control de Versiones y Estructuras de Paquetes.ipynb\r\n"
     ]
    }
   ],
   "source": [
    "!ls -l"
   ]
  },
  {
   "cell_type": "code",
   "execution_count": 1,
   "metadata": {},
   "outputs": [
    {
     "name": "stdout",
     "output_type": "stream",
     "text": [
      "mipaquete\r\n",
      "├── __init__.py\r\n",
      "└── saludos.py\r\n",
      "\r\n",
      "0 directories, 2 files\r\n"
     ]
    }
   ],
   "source": [
    "!tree mipaquete"
   ]
  },
  {
   "cell_type": "code",
   "execution_count": 2,
   "metadata": {},
   "outputs": [
    {
     "name": "stdout",
     "output_type": "stream",
     "text": [
      "Hola alumnos\n"
     ]
    }
   ],
   "source": [
    "#import mipaquete\n",
    "from mipaquete import saludos\n",
    "saludos.hola()"
   ]
  },
  {
   "cell_type": "code",
   "execution_count": 4,
   "metadata": {},
   "outputs": [
    {
     "name": "stdout",
     "output_type": "stream",
     "text": [
      "nssample\r\n",
      "├── part1\r\n",
      "│   └── frutas\r\n",
      "│       └── manzanas.py\r\n",
      "├── part2\r\n",
      "│   └── frutas\r\n",
      "│       └── naranjas.py\r\n",
      "└── part3\r\n",
      "    └── frutas\r\n",
      "        └── uvas.py\r\n",
      "\r\n",
      "6 directories, 3 files\r\n"
     ]
    }
   ],
   "source": [
    "!tree nssample"
   ]
  },
  {
   "cell_type": "code",
   "execution_count": 7,
   "metadata": {
    "collapsed": true
   },
   "outputs": [],
   "source": [
    "sys.path.append('nssample/part1')"
   ]
  },
  {
   "cell_type": "code",
   "execution_count": 9,
   "metadata": {
    "collapsed": true
   },
   "outputs": [],
   "source": [
    "import frutas"
   ]
  },
  {
   "cell_type": "code",
   "execution_count": 11,
   "metadata": {},
   "outputs": [
    {
     "data": {
      "text/plain": [
       "<module 'frutas' (namespace)>"
      ]
     },
     "execution_count": 11,
     "metadata": {},
     "output_type": "execute_result"
    }
   ],
   "source": [
    "frutas"
   ]
  },
  {
   "cell_type": "code",
   "execution_count": 12,
   "metadata": {},
   "outputs": [
    {
     "data": {
      "text/plain": [
       "<module 'frutas.manzanas' from 'nssample/part1/frutas/manzanas.py'>"
      ]
     },
     "execution_count": 12,
     "metadata": {},
     "output_type": "execute_result"
    }
   ],
   "source": [
    "import frutas.manzanas\n",
    "frutas.manzanas"
   ]
  },
  {
   "cell_type": "code",
   "execution_count": 13,
   "metadata": {},
   "outputs": [
    {
     "ename": "ModuleNotFoundError",
     "evalue": "No module named 'frutas.naranjas'",
     "output_type": "error",
     "traceback": [
      "\u001b[0;31m-------------------------------------------------------------------\u001b[0m",
      "\u001b[0;31mModuleNotFoundError\u001b[0m               Traceback (most recent call last)",
      "\u001b[0;32m<ipython-input-13-6f064972c5cc>\u001b[0m in \u001b[0;36m<module>\u001b[0;34m()\u001b[0m\n\u001b[0;32m----> 1\u001b[0;31m \u001b[0;32mimport\u001b[0m \u001b[0mfrutas\u001b[0m\u001b[0;34m.\u001b[0m\u001b[0mnaranjas\u001b[0m \u001b[0;31m# esto va a fallar...\u001b[0m\u001b[0;34m\u001b[0m\u001b[0m\n\u001b[0m",
      "\u001b[0;31mModuleNotFoundError\u001b[0m: No module named 'frutas.naranjas'"
     ]
    }
   ],
   "source": [
    "import frutas.naranjas # esto va a fallar..."
   ]
  },
  {
   "cell_type": "code",
   "execution_count": 14,
   "metadata": {},
   "outputs": [
    {
     "data": {
      "text/plain": [
       "<module 'frutas.naranjas' from 'nssample/part2/frutas/naranjas.py'>"
      ]
     },
     "execution_count": 14,
     "metadata": {},
     "output_type": "execute_result"
    }
   ],
   "source": [
    "sys.path.append('nssample/part2')\n",
    "import frutas.naranjas # pero ya no\n",
    "frutas.naranjas"
   ]
  },
  {
   "cell_type": "code",
   "execution_count": 15,
   "metadata": {},
   "outputs": [
    {
     "name": "stdout",
     "output_type": "stream",
     "text": [
      "Naranjas!\n",
      "Manzanas\n"
     ]
    }
   ],
   "source": [
    "print(frutas.naranjas.get())\n",
    "print(frutas.manzanas.get())"
   ]
  },
  {
   "cell_type": "code",
   "execution_count": 16,
   "metadata": {
    "collapsed": true
   },
   "outputs": [],
   "source": [
    "# lo mismo para las uvas\n",
    "\n",
    "sys.path.append('nssample/part3')\n",
    "from frutas import uvas"
   ]
  },
  {
   "cell_type": "code",
   "execution_count": 17,
   "metadata": {},
   "outputs": [
    {
     "data": {
      "text/plain": [
       "<module 'frutas.uvas' from 'nssample/part3/frutas/uvas.py'>"
      ]
     },
     "execution_count": 17,
     "metadata": {},
     "output_type": "execute_result"
    }
   ],
   "source": [
    "uvas"
   ]
  },
  {
   "cell_type": "code",
   "execution_count": 18,
   "metadata": {},
   "outputs": [
    {
     "data": {
      "text/plain": [
       "'Uvas!'"
      ]
     },
     "execution_count": 18,
     "metadata": {},
     "output_type": "execute_result"
    }
   ],
   "source": [
    "uvas.get()"
   ]
  },
  {
   "cell_type": "markdown",
   "metadata": {},
   "source": [
    "# Distribuir el código"
   ]
  },
  {
   "cell_type": "markdown",
   "metadata": {},
   "source": [
    "Distutils (parte de la librería estándar): https://docs.python.org/3/library/distutils.html\n",
    "\n",
    "Setuptools (módulo que es un super-set de distuils): https://setuptools.readthedocs.io/en/latest/\n",
    "\n",
    "Herramientas más utilizada para instalar paquetes en python: https://pypi.python.org/pypi/pip\n",
    "\n",
    "Una de las herramientas más populares (por el momento) para crear el \"boilerplate\" de proyectos comunes: https://pypi.python.org/pypi/cookiecutter/1.4.0\n",
    "\n",
    "Ejemplo de  setup.py"
   ]
  },
  {
   "cell_type": "code",
   "execution_count": null,
   "metadata": {
    "collapsed": true
   },
   "outputs": [],
   "source": [
    "# chardet's setup.py\n",
    "from distutils.core import setup\n",
    "\n",
    "setup(\n",
    "    name = \"chardet\",\n",
    "    packages = [\"chardet\"],\n",
    "    version = \"1.0.2\",\n",
    "    description = \"Universal encoding detector\",\n",
    "    author = \"Mark Pilgrim\",\n",
    "    author_email = \"mark@diveintomark.org\",\n",
    "    url = \"http://chardet.feedparser.org/\",\n",
    "    download_url = \"http://chardet.feedparser.org/download/python3-chardet-1.0.1.tgz\",\n",
    "    keywords = [\"encoding\", \"i18n\", \"xml\"],\n",
    "    classifiers = [\n",
    "        \"Programming Language :: Python\",\n",
    "        \"Programming Language :: Python :: 3\",\n",
    "        \"Development Status :: 4 - Beta\",\n",
    "        \"Environment :: Other Environment\",\n",
    "        \"Intended Audience :: Developers\",\n",
    "        \"License :: OSI Approved :: GNU Library or Lesser General Public License (LGPL)\",\n",
    "        \"Operating System :: OS Independent\",\n",
    "        \"Topic :: Software Development :: Libraries :: Python Modules\",\n",
    "        \"Topic :: Text Processing :: Linguistic\",\n",
    "        ],\n",
    "    long_description = \"\"\"\\\n",
    "Universal character encoding detector\n",
    "-------------------------------------\n",
    "\n",
    "Detects\n",
    " - ASCII, UTF-8, UTF-16 (2 variants), UTF-32 (4 variants)\n",
    " - Big5, GB2312, EUC-TW, HZ-GB-2312, ISO-2022-CN (Traditional and Simplified Chinese)\n",
    " - EUC-JP, SHIFT_JIS, ISO-2022-JP (Japanese)\n",
    " - EUC-KR, ISO-2022-KR (Korean)\n",
    " - KOI8-R, MacCyrillic, IBM855, IBM866, ISO-8859-5, windows-1251 (Cyrillic)\n",
    " - ISO-8859-2, windows-1250 (Hungarian)\n",
    " - ISO-8859-5, windows-1251 (Bulgarian)\n",
    " - windows-1252 (English)\n",
    " - ISO-8859-7, windows-1253 (Greek)\n",
    " - ISO-8859-8, windows-1255 (Visual and Logical Hebrew)\n",
    " - TIS-620 (Thai)\n",
    "\n",
    "This version requires Python 3 or later; a Python 2 version is available separately.\n",
    "\"\"\"\n",
    ")"
   ]
  },
  {
   "cell_type": "markdown",
   "metadata": {},
   "source": [
    "## Ejercicio\n",
    "- ¿Qué está haciendo el proyecto utils? ¿Qué hace la carpeta test?"
   ]
  },
  {
   "cell_type": "code",
   "execution_count": 24,
   "metadata": {
    "collapsed": true
   },
   "outputs": [],
   "source": [
    "# Crear __init__.py\n",
    "!touch utils/__init__.py"
   ]
  },
  {
   "cell_type": "code",
   "execution_count": 27,
   "metadata": {},
   "outputs": [
    {
     "name": "stdout",
     "output_type": "stream",
     "text": [
      "\u001b[1m============================= test session starts ==============================\u001b[0m\n",
      "platform darwin -- Python 3.6.1, pytest-3.1.3, py-1.4.34, pluggy-0.4.0\n",
      "rootdir: /Users/rdalanist/DropboxAnterior/CivicHacking/DesafioLatAM/reproducible, inifile:\n",
      "collected 1 item \u001b[0m\u001b[1mm\n",
      "\u001b[0m\n",
      "utils/test/test_data.py .\n",
      "\n",
      "\u001b[32m\u001b[1m=========================== 1 passed in 4.78 seconds ===========================\u001b[0m\n"
     ]
    }
   ],
   "source": [
    "!python3 -m pytest utils"
   ]
  },
  {
   "cell_type": "markdown",
   "metadata": {},
   "source": [
    "# Ejercicio\n",
    "Replica cualquiera de los modulos que están en este documento, y crea una librería que replica cualquiera de los análisis exploratorios que intentaste. ¿Crees que le podrían servir a alguien en el estado en el que están? ¿Qué proceso seguirías?"
   ]
  },
  {
   "cell_type": "markdown",
   "metadata": {},
   "source": [
    "## Sobre los archivos de Datos\n",
    "\n",
    "Git no es para archivos de datos.\n",
    "\n",
    "- LFS \n",
    "- Amazon S3\n",
    "- Todo cabe en un Postgres, Mongo/Elasticsearcho H5 sabiéndolo acomodar. "
   ]
  },
  {
   "cell_type": "code",
   "execution_count": null,
   "metadata": {
    "collapsed": true
   },
   "outputs": [],
   "source": []
  }
 ],
 "metadata": {
  "kernelspec": {
   "display_name": "Python 3",
   "language": "python",
   "name": "python3"
  },
  "language_info": {
   "codemirror_mode": {
    "name": "ipython",
    "version": 3
   },
   "file_extension": ".py",
   "mimetype": "text/x-python",
   "name": "python",
   "nbconvert_exporter": "python",
   "pygments_lexer": "ipython3",
   "version": "3.6.1"
  }
 },
 "nbformat": 4,
 "nbformat_minor": 2
}
