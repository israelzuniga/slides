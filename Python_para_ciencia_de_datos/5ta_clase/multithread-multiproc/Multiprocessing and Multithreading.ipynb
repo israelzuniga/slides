{
 "cells": [
  {
   "cell_type": "code",
   "execution_count": 1,
   "metadata": {},
   "outputs": [],
   "source": [
    "import antigravity"
   ]
  },
  {
   "cell_type": "code",
   "execution_count": 2,
   "metadata": {},
   "outputs": [
    {
     "name": "stdout",
     "output_type": "stream",
     "text": [
      "The Zen of Python, by Tim Peters\n",
      "\n",
      "Beautiful is better than ugly.\n",
      "Explicit is better than implicit.\n",
      "Simple is better than complex.\n",
      "Complex is better than complicated.\n",
      "Flat is better than nested.\n",
      "Sparse is better than dense.\n",
      "Readability counts.\n",
      "Special cases aren't special enough to break the rules.\n",
      "Although practicality beats purity.\n",
      "Errors should never pass silently.\n",
      "Unless explicitly silenced.\n",
      "In the face of ambiguity, refuse the temptation to guess.\n",
      "There should be one-- and preferably only one --obvious way to do it.\n",
      "Although that way may not be obvious at first unless you're Dutch.\n",
      "Now is better than never.\n",
      "Although never is often better than *right* now.\n",
      "If the implementation is hard to explain, it's a bad idea.\n",
      "If the implementation is easy to explain, it may be a good idea.\n",
      "Namespaces are one honking great idea -- let's do more of those!\n"
     ]
    }
   ],
   "source": [
    "import this"
   ]
  },
  {
   "cell_type": "markdown",
   "metadata": {
    "slideshow": {
     "slide_type": "slide"
    }
   },
   "source": [
    "# Multiprocessing and Multithreading"
   ]
  },
  {
   "cell_type": "markdown",
   "metadata": {},
   "source": [
    "![Image](https://image.slidesharecdn.com/patternoriented-software-architecture-patterns-for-concurrent-and-networked-objects-3939/95/patternoriented-software-architecture-patterns-for-concurrent-and-networked-objects-78-728.jpg?cb=1195276281)"
   ]
  },
  {
   "cell_type": "markdown",
   "metadata": {},
   "source": [
    "###### Goal\n",
    "<ul>\n",
    "<li>Speed up code by using multiple processes</li>\n",
    "</ul>\n",
    "\n",
    "###### Options\n",
    "<ul>\n",
    "<li>Multithreading</li>\n",
    "<li>Multiprocessing</li>\n",
    "</ul>"
   ]
  },
  {
   "cell_type": "markdown",
   "metadata": {},
   "source": [
    "#### Multithreading\n",
    "\n",
    "Can use when\n",
    "<ul>\n",
    "<li>Lots time waiting around for a response</li>\n",
    "<ul>\n",
    "<li>Network Requests - http get, post, put</li>\n",
    "</ul>\n",
    "<li>\n",
    "Lots of I/O (Read, Write, Send, Recv...)\n",
    "</li>\n",
    "</ul>\n",
    "\n",
    "##### Still Bound by Global Interpreter Lock"
   ]
  },
  {
   "cell_type": "markdown",
   "metadata": {
    "slideshow": {
     "slide_type": "-"
    }
   },
   "source": [
    "## CPU Bound Threading"
   ]
  },
  {
   "cell_type": "code",
   "execution_count": 3,
   "metadata": {
    "slideshow": {
     "slide_type": "-"
    }
   },
   "outputs": [],
   "source": [
    "from __future__ import division\n",
    "from threading import Thread\n",
    "import time"
   ]
  },
  {
   "cell_type": "markdown",
   "metadata": {},
   "source": [
    "Make a list with 10 million 10's."
   ]
  },
  {
   "cell_type": "code",
   "execution_count": 4,
   "metadata": {},
   "outputs": [
    {
     "data": {
      "text/plain": [
       "[10, 10, 10, 10, 10, 10, 10, 10, 10, 10, 10, 10, 10, 10, 10]"
      ]
     },
     "execution_count": 4,
     "metadata": {},
     "output_type": "execute_result"
    }
   ],
   "source": [
    "len_x = 10000000\n",
    "x = [10]*len_x\n",
    "x[:15]"
   ]
  },
  {
   "cell_type": "markdown",
   "metadata": {},
   "source": [
    "Squaring Function"
   ]
  },
  {
   "cell_type": "code",
   "execution_count": 5,
   "metadata": {},
   "outputs": [],
   "source": [
    "def squared(num):\n",
    "    num**2"
   ]
  },
  {
   "cell_type": "code",
   "execution_count": 6,
   "metadata": {
    "collapsed": true
   },
   "outputs": [],
   "source": [
    "def squareList(nums):\n",
    "    for i in nums:\n",
    "        squared(i)"
   ]
  },
  {
   "cell_type": "markdown",
   "metadata": {},
   "source": [
    "### Square all of the numbers in the list."
   ]
  },
  {
   "cell_type": "markdown",
   "metadata": {},
   "source": [
    "###### No threading"
   ]
  },
  {
   "cell_type": "code",
   "execution_count": 7,
   "metadata": {},
   "outputs": [
    {
     "name": "stdout",
     "output_type": "stream",
     "text": [
      "Serial computation took 5.55535387993 seconds.\n"
     ]
    }
   ],
   "source": [
    "start = time.time() #  Get current time\n",
    "squareList(x)\n",
    "serialprocesstime = time.time() - start\n",
    "print(\"Serial computation took {} seconds.\".format(serialprocesstime))"
   ]
  },
  {
   "cell_type": "markdown",
   "metadata": {},
   "source": [
    "###### With threads"
   ]
  },
  {
   "cell_type": "markdown",
   "metadata": {},
   "source": [
    "give each thread 1/4th of the work"
   ]
  },
  {
   "cell_type": "code",
   "execution_count": 16,
   "metadata": {},
   "outputs": [
    {
     "name": "stdout",
     "output_type": "stream",
     "text": [
      "4 threads took 6.01583409309 seconds.\n"
     ]
    }
   ],
   "source": [
    "x2 = [10]*(len_x//4)\n",
    "t1 = Thread(target=squareList, args=(x2,))\n",
    "t2 = Thread(target=squareList, args=(x2,))\n",
    "t3 = Thread(target=squareList, args=(x2,))\n",
    "t4 = Thread(target=squareList, args=(x2,))\n",
    "\n",
    "start = time.time()\n",
    "t1.start()\n",
    "t2.start()\n",
    "t3.start()\n",
    "t4.start()\n",
    "t1.join()\n",
    "t2.join()\n",
    "t3.join()\n",
    "t4.join()\n",
    "print(\"4 threads took {} seconds.\".format(time.time() - start))"
   ]
  },
  {
   "cell_type": "markdown",
   "metadata": {},
   "source": [
    "We can also use the threadpool"
   ]
  },
  {
   "cell_type": "code",
   "execution_count": 17,
   "metadata": {
    "collapsed": true
   },
   "outputs": [],
   "source": [
    "from multiprocessing.dummy import Pool as ThreadPool"
   ]
  },
  {
   "cell_type": "code",
   "execution_count": 18,
   "metadata": {},
   "outputs": [
    {
     "name": "stdout",
     "output_type": "stream",
     "text": [
      "4 thread pool took 4.84233379364 seconds\n"
     ]
    }
   ],
   "source": [
    "pool = ThreadPool(4)\n",
    "start = time.time()\n",
    "results = pool.map(squared, x)\n",
    "print(\"4 thread pool took {} seconds\".format(time.time() - start))"
   ]
  },
  {
   "cell_type": "markdown",
   "metadata": {},
   "source": [
    "## I/O Bound Threading"
   ]
  },
  {
   "cell_type": "markdown",
   "metadata": {},
   "source": [
    "open up some webpages"
   ]
  },
  {
   "cell_type": "code",
   "execution_count": 26,
   "metadata": {
    "collapsed": true
   },
   "outputs": [],
   "source": [
    "import requests"
   ]
  },
  {
   "cell_type": "code",
   "execution_count": 23,
   "metadata": {},
   "outputs": [],
   "source": [
    "webpages = [\"http://lifehacker.com/\", \"https://uoregon.edu/\", \"http://www.goducks.com/\", \"https://docs.python.org/2/howto/urllib2.html\"]"
   ]
  },
  {
   "cell_type": "code",
   "execution_count": 27,
   "metadata": {
    "collapsed": true
   },
   "outputs": [],
   "source": [
    "def visit(url):\n",
    "    return requests.get(url)"
   ]
  },
  {
   "cell_type": "markdown",
   "metadata": {},
   "source": [
    "### Without threads"
   ]
  },
  {
   "cell_type": "code",
   "execution_count": 28,
   "metadata": {},
   "outputs": [
    {
     "name": "stdout",
     "output_type": "stream",
     "text": [
      "Serial method took 1.22712302208 second to open 4 webpages.\n"
     ]
    }
   ],
   "source": [
    "start = time.time()\n",
    "for url in webpages:\n",
    "    visit(url)\n",
    "print(\"Serial method took {} second to open 4 webpages.\".format(time.time() - start))"
   ]
  },
  {
   "cell_type": "markdown",
   "metadata": {},
   "source": [
    "### With threads"
   ]
  },
  {
   "cell_type": "code",
   "execution_count": 29,
   "metadata": {},
   "outputs": [
    {
     "name": "stdout",
     "output_type": "stream",
     "text": [
      "4 thread pool took 0.374730110168 seconds to open 4 webpages.\n"
     ]
    }
   ],
   "source": [
    "t1 = Thread(target=visit, args=(webpages[0],))\n",
    "t2 = Thread(target=visit, args=(webpages[1],))\n",
    "t3 = Thread(target=visit, args=(webpages[2],))\n",
    "t4 = Thread(target=visit, args=(webpages[3],))\n",
    "\n",
    "start = time.time()\n",
    "t1.start()\n",
    "t2.start()\n",
    "t3.start()\n",
    "t4.start()\n",
    "t1.join()\n",
    "t2.join()\n",
    "t3.join()\n",
    "t4.join()\n",
    "print(\"4 thread pool took {} seconds to open 4 webpages.\".format(time.time() - start))"
   ]
  },
  {
   "cell_type": "markdown",
   "metadata": {},
   "source": [
    "Threads can make I/O bound programs significantly faster."
   ]
  },
  {
   "cell_type": "markdown",
   "metadata": {},
   "source": [
    "Note:  I noticed that the threading actually ran slower if I wasn't connected with an ethernet cable at home."
   ]
  },
  {
   "cell_type": "markdown",
   "metadata": {},
   "source": [
    "# Squaring with multiprocessing"
   ]
  },
  {
   "cell_type": "markdown",
   "metadata": {},
   "source": [
    "Let's do the same squaring function we did before, but this time with multiprocessing"
   ]
  },
  {
   "cell_type": "code",
   "execution_count": 30,
   "metadata": {},
   "outputs": [],
   "source": [
    "from multiprocessing import Process\n",
    "import time"
   ]
  },
  {
   "cell_type": "code",
   "execution_count": 31,
   "metadata": {
    "scrolled": true
   },
   "outputs": [
    {
     "data": {
      "text/plain": [
       "10000000"
      ]
     },
     "execution_count": 31,
     "metadata": {},
     "output_type": "execute_result"
    }
   ],
   "source": [
    "len(x)"
   ]
  },
  {
   "cell_type": "markdown",
   "metadata": {},
   "source": [
    "According to the python docs, pool cannot be used in the interactive interpreter.\n",
    "\n",
    "It seems that this extends to an ipython notebook.\n",
    "<a href=\"https://docs.python.org/3/library/multiprocessing.html#using-a-pool-of-workers\">python pool docs</a>"
   ]
  },
  {
   "cell_type": "code",
   "execution_count": 32,
   "metadata": {},
   "outputs": [
    {
     "name": "stdout",
     "output_type": "stream",
     "text": [
      "Squaring 10 million numbers took 2.89520096779 seconds with 4 processes.\n"
     ]
    }
   ],
   "source": [
    "num_pros = 4\n",
    "\n",
    "pro_list = []\n",
    "x3 = [10]*(len_x//num_pros)\n",
    "for p in range(num_pros):\n",
    "    p = Process(target=squareList, args=(x3,))\n",
    "    pro_list.append(p)\n",
    "\n",
    "start = time.time()\n",
    "for p in pro_list:\n",
    "    p.start()\n",
    "\n",
    "for p in pro_list:\n",
    "    p.join()\n",
    "\n",
    "squareprocesstime = time.time() - start\n",
    "print(\"Squaring 10 million numbers took {} seconds with 4 processes.\".format(squareprocesstime))"
   ]
  },
  {
   "cell_type": "markdown",
   "metadata": {},
   "source": [
    "### Note:\n",
    "When I ran this code on windows running these processes resulted in drastic speed decreases (30x).  But running the same code on ubuntu 15.10 works fine.  I'm still not sure why.  "
   ]
  },
  {
   "cell_type": "markdown",
   "metadata": {
    "collapsed": true
   },
   "source": [
    "Speed increase over serial method"
   ]
  },
  {
   "cell_type": "code",
   "execution_count": 33,
   "metadata": {},
   "outputs": [
    {
     "data": {
      "text/plain": [
       "0.5211550929723873"
      ]
     },
     "execution_count": 33,
     "metadata": {},
     "output_type": "execute_result"
    }
   ],
   "source": [
    "squareprocesstime/serialprocesstime"
   ]
  },
  {
   "cell_type": "markdown",
   "metadata": {},
   "source": [
    "# Locks"
   ]
  },
  {
   "cell_type": "markdown",
   "metadata": {},
   "source": [
    "When multiple processes try to access a single resource or variable, read and writes can overlap causing problems, so locks are necessary."
   ]
  },
  {
   "cell_type": "code",
   "execution_count": 34,
   "metadata": {
    "collapsed": true
   },
   "outputs": [],
   "source": [
    "from multiprocessing import Lock, Value"
   ]
  },
  {
   "cell_type": "code",
   "execution_count": 35,
   "metadata": {},
   "outputs": [],
   "source": [
    "lock = Lock()\n",
    "counter = Value(\"i\", 0)\n",
    "\n",
    "def noLockCount():\n",
    "    global counter\n",
    "    for i in xrange(10000):\n",
    "        counter.value += 1\n",
    "    return counter\n",
    "\n",
    "def lockCounter(lock):\n",
    "    global counter\n",
    "    \n",
    "    with lock:\n",
    "        for i in xrange(10000):\n",
    "            counter.value += 1\n",
    "    \n",
    "    return counter"
   ]
  },
  {
   "cell_type": "markdown",
   "metadata": {},
   "source": [
    "Here is analogous code for lockCounter"
   ]
  },
  {
   "cell_type": "code",
   "execution_count": 36,
   "metadata": {
    "collapsed": true
   },
   "outputs": [],
   "source": [
    "def sameLockCounter(lock):\n",
    "    global counter\n",
    "    \n",
    "    lock.acquire()\n",
    "    for i in xrange(10000):\n",
    "        counter.value += 1\n",
    "    lock.release()\n",
    "    \n",
    "    return counter"
   ]
  },
  {
   "cell_type": "markdown",
   "metadata": {},
   "source": [
    "### No Lock"
   ]
  },
  {
   "cell_type": "markdown",
   "metadata": {},
   "source": [
    "If we run 4 processes and add 1 to the counter 10,000 times each, we should expect to see 40,000 as our output"
   ]
  },
  {
   "cell_type": "code",
   "execution_count": 37,
   "metadata": {},
   "outputs": [
    {
     "name": "stdout",
     "output_type": "stream",
     "text": [
      "12703\n"
     ]
    }
   ],
   "source": [
    "counter = Value(\"i\", 0)\n",
    "num_processes = 4\n",
    "p_list = []\n",
    "\n",
    "for i in range(num_processes):\n",
    "    p = Process(target=noLockCount, args=())\n",
    "    p_list.append(p)\n",
    "    \n",
    "for p in p_list:\n",
    "    p.start()\n",
    "    \n",
    "for p in p_list:\n",
    "    p.join()\n",
    "    \n",
    "print(counter.value)"
   ]
  },
  {
   "cell_type": "markdown",
   "metadata": {},
   "source": [
    "### With Lock"
   ]
  },
  {
   "cell_type": "code",
   "execution_count": 38,
   "metadata": {},
   "outputs": [
    {
     "name": "stdout",
     "output_type": "stream",
     "text": [
      "40000\n"
     ]
    }
   ],
   "source": [
    "counter = Value(\"i\", 0)\n",
    "num_processes = 4\n",
    "p_list = []\n",
    "\n",
    "for i in range(num_processes):\n",
    "    p = Process(target=lockCounter, args=(lock,))\n",
    "    p_list.append(p)\n",
    "    \n",
    "for p in p_list:\n",
    "    p.start()\n",
    "    \n",
    "for p in p_list:\n",
    "    p.join()\n",
    "    \n",
    "print(counter.value)"
   ]
  },
  {
   "cell_type": "markdown",
   "metadata": {},
   "source": [
    "# Conclusiones"
   ]
  },
  {
   "cell_type": "markdown",
   "metadata": {},
   "source": [
    "Just starting to use multiprocessing -> stick with threads unless you are cpu bound\n",
    "\n",
    "-> use multiprocessing.dummy.ThreadPool.  It is the cleanest and easiest"
   ]
  },
  {
   "cell_type": "markdown",
   "metadata": {},
   "source": [
    "# Otras opciones"
   ]
  },
  {
   "cell_type": "markdown",
   "metadata": {},
   "source": [
    "- Clusters (reales y virtuales)\n",
    "- Lambdas"
   ]
  },
  {
   "cell_type": "code",
   "execution_count": null,
   "metadata": {
    "collapsed": true
   },
   "outputs": [],
   "source": []
  }
 ],
 "metadata": {
  "kernelspec": {
   "display_name": "IPython (Python 2)",
   "language": "python",
   "name": "python2"
  },
  "language_info": {
   "codemirror_mode": {
    "name": "ipython",
    "version": 2
   },
   "file_extension": ".py",
   "mimetype": "text/x-python",
   "name": "python",
   "nbconvert_exporter": "python",
   "pygments_lexer": "ipython2",
   "version": "2.7.13"
  }
 },
 "nbformat": 4,
 "nbformat_minor": 1
}
